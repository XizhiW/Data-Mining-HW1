{
  "cells": [
    {
      "cell_type": "code",
      "execution_count": 1,
      "metadata": {
        "id": "ARa4E8ha6vHh"
      },
      "outputs": [],
      "source": [
        "from google.colab import drive"
      ]
    },
    {
      "cell_type": "code",
      "execution_count": 2,
      "metadata": {
        "colab": {
          "base_uri": "https://localhost:8080/"
        },
        "id": "UBzdeHCv68RS",
        "outputId": "2d9220cf-d619-4764-ac23-9389a984e330"
      },
      "outputs": [
        {
          "output_type": "stream",
          "name": "stdout",
          "text": [
            "Mounted at /content/drive/\n"
          ]
        }
      ],
      "source": [
        "drive.mount('/content/drive/')"
      ]
    },
    {
      "cell_type": "code",
      "execution_count": 3,
      "metadata": {
        "colab": {
          "base_uri": "https://localhost:8080/"
        },
        "id": "kLCKXFZl7AGY",
        "outputId": "00169674-4a1a-4cbb-84ca-b2b2672499fc"
      },
      "outputs": [
        {
          "output_type": "stream",
          "name": "stdout",
          "text": [
            "/mydrive\n"
          ]
        }
      ],
      "source": [
        "!ln -s /content/gdrive/MyDrive/ /mydrive\n",
        "!ls /mydrive"
      ]
    },
    {
      "cell_type": "code",
      "execution_count": null,
      "metadata": {
        "colab": {
          "base_uri": "https://localhost:8080/"
        },
        "id": "2ZyGqlNr7B4n",
        "outputId": "6e400ca8-b05b-4364-c88a-16dbd685a8d3"
      },
      "outputs": [
        {
          "name": "stdout",
          "output_type": "stream",
          "text": [
            "drive  sample_data\n"
          ]
        }
      ],
      "source": [
        "!ls"
      ]
    },
    {
      "cell_type": "code",
      "execution_count": 4,
      "metadata": {
        "colab": {
          "base_uri": "https://localhost:8080/"
        },
        "id": "dhJZWrRF7Doy",
        "outputId": "2893064c-9be3-4096-9fcb-ff21f5163167"
      },
      "outputs": [
        {
          "output_type": "stream",
          "name": "stdout",
          "text": [
            "/\n"
          ]
        }
      ],
      "source": [
        "%cd .."
      ]
    },
    {
      "cell_type": "code",
      "execution_count": null,
      "metadata": {
        "colab": {
          "base_uri": "https://localhost:8080/"
        },
        "id": "uEx3lkO_7di6",
        "outputId": "4d5e7aa8-948c-440d-e414-5affe59eb48a"
      },
      "outputs": [
        {
          "name": "stdout",
          "output_type": "stream",
          "text": [
            " CrawlerImage_ID_1.ipynb       'Netflix Movie Recommendation.ipynb'\n",
            " CrawlerImage_ID_2.ipynb        network_analysis_4.ipynb\n",
            " data.csv\t\t       'Network Analysis Homework1.ipynb'\n",
            " Homework2.ipynb\t        Untitled\n",
            " homework3.ipynb\t        Untitled0.ipynb\n",
            "'Homework4 3(a)(b)(c).ipynb'   'Zip 函数及其他各种操作.ipynb'\n",
            " Homework4.ipynb\t        天津公交站分布.ipynb\n",
            " homework5.ipynb\t        小世界网络.ipynb\n",
            " Netflix_Movie_Recommendation\n"
          ]
        }
      ],
      "source": [
        "!ls"
      ]
    },
    {
      "cell_type": "code",
      "execution_count": 5,
      "metadata": {
        "colab": {
          "base_uri": "https://localhost:8080/"
        },
        "id": "YuRFcyR_7D61",
        "outputId": "71a2b207-25b8-44cf-81bd-004da501289f"
      },
      "outputs": [
        {
          "output_type": "stream",
          "name": "stdout",
          "text": [
            "/content/drive/MyDrive/Colab Notebooks/Netflix_Movie_Recommendation\n"
          ]
        }
      ],
      "source": [
        "%cd content/drive/MyDrive/Colab Notebooks/Netflix_Movie_Recommendation"
      ]
    },
    {
      "cell_type": "code",
      "execution_count": 91,
      "metadata": {
        "id": "SOP8G-jbxrkF"
      },
      "outputs": [],
      "source": [
        "from datetime import datetime \n",
        "# globalstart = datetime.now()\n",
        "import pandas as pd\n",
        "import numpy as np\n",
        "import matplotlib\n",
        "matplotlib.use('nbagg')\n",
        "\n",
        "import matplotlib.pyplot as plt\n",
        "plt.rcParams.update({'figure.max_open_warning': 0})\n",
        "\n",
        "import seaborn as sns\n",
        "sns.set_style('whitegrid')\n",
        "import os\n",
        "from scipy import sparse\n",
        "from scipy.sparse import csr_matrix\n",
        "from scipy.linalg import sqrtm\n",
        "\n",
        "from sklearn.decomposition import TruncatedSVD\n",
        "from sklearn.metrics.pairwise import cosine_similarity\n",
        "import random"
      ]
    },
    {
      "cell_type": "markdown",
      "metadata": {
        "id": "uPz7RGR_xrkM"
      },
      "source": [
        " "
      ]
    },
    {
      "cell_type": "markdown",
      "metadata": {
        "id": "lVyeqDMqxrkO"
      },
      "source": [
        "<h1> Exploratory Data Analysis </h1>"
      ]
    },
    {
      "cell_type": "markdown",
      "metadata": {
        "id": "hOBwSU1yxrkP"
      },
      "source": [
        "<h2> Preprocessing</h2> "
      ]
    },
    {
      "cell_type": "markdown",
      "metadata": {
        "id": "e6rSOBxIxrkR"
      },
      "source": [
        "<h3>Converting / Merging whole data to required format: u_i, m_j, r_ij</h3>"
      ]
    },
    {
      "cell_type": "code",
      "execution_count": null,
      "metadata": {
        "colab": {
          "base_uri": "https://localhost:8080/"
        },
        "id": "CUHB-0I19pKI",
        "outputId": "04698161-4138-4f24-8b53-52772f6f00d2"
      },
      "outputs": [
        {
          "name": "stdout",
          "output_type": "stream",
          "text": [
            " CrawlerImage_ID_1.ipynb       'Netflix Movie Recommendation.ipynb'\n",
            " CrawlerImage_ID_2.ipynb        network_analysis_4.ipynb\n",
            " data.csv\t\t       'Network Analysis Homework1.ipynb'\n",
            " Homework2.ipynb\t        Untitled\n",
            " homework3.ipynb\t        Untitled0.ipynb\n",
            "'Homework4 3(a)(b)(c).ipynb'   'Zip 函数及其他各种操作.ipynb'\n",
            " Homework4.ipynb\t        天津公交站分布.ipynb\n",
            " homework5.ipynb\t        小世界网络.ipynb\n",
            " Netflix_Movie_Recommendation\n"
          ]
        }
      ],
      "source": [
        "!ls"
      ]
    },
    {
      "cell_type": "code",
      "execution_count": null,
      "metadata": {
        "colab": {
          "base_uri": "https://localhost:8080/"
        },
        "id": "ijAmOSzsxrkS",
        "outputId": "adef7b8c-9aa9-49c1-cb71-f6113a685848"
      },
      "outputs": [
        {
          "name": "stdout",
          "output_type": "stream",
          "text": [
            "Time taken : 0:00:00.000559\n"
          ]
        }
      ],
      "source": [
        "start = datetime.now()\n",
        "if not os.path.isfile('data.csv'):\n",
        "    # Creating a file 'data.csv' before reading it\n",
        "    # Read all the files in netflix and store them in one big file('data.csv')\n",
        "    # We re reading from each of the four files and appendig each rating to a global file 'train.csv'\n",
        "    data = open('data.csv', mode='w')\n",
        "    \n",
        "    row = list()\n",
        "    files=['data_folder/combined_data_1.txt','data_folder/combined_data_2.txt', \n",
        "           'data_folder/combined_data_3.txt', 'data_folder/combined_data_4.txt']\n",
        "\n",
        "    for file in files:\n",
        "\n",
        "        print(\"Reading ratings from {}...\".format(file))\n",
        "\n",
        "        with open(file) as f:\n",
        "            for line in f: \n",
        "                del row[:] # We might not have to do this.\n",
        "                line = line.strip()\n",
        "                if line.endswith(':'):\n",
        "                    # All below are ratings for this movie, until another movie appears.\n",
        "                    movie_id = line.replace(':', '')\n",
        "                else:\n",
        "                    row = [x for x in line.split(',')]\n",
        "                    row.insert(0, movie_id)\n",
        "                    data.write(','.join(row))\n",
        "                    data.write('\\n')\n",
        "        print(\"Done.\\n\")\n",
        "\n",
        "    data.close()\n",
        "\n",
        "print('Time taken :', datetime.now() - start)"
      ]
    },
    {
      "cell_type": "markdown",
      "metadata": {
        "id": "TWny3evQxrkb"
      },
      "source": [
        " "
      ]
    },
    {
      "cell_type": "code",
      "execution_count": 7,
      "metadata": {
        "colab": {
          "base_uri": "https://localhost:8080/"
        },
        "id": "HecSc3oXxrkd",
        "outputId": "7be6014c-59fd-4d96-ad6d-afd3cfbe2f69"
      },
      "outputs": [
        {
          "output_type": "stream",
          "name": "stdout",
          "text": [
            "creating the dataframe from data.csv file..\n",
            "Done.\n",
            "\n",
            "Sorting the dataframe by date..\n",
            "Done..\n"
          ]
        }
      ],
      "source": [
        "print(\"creating the dataframe from data.csv file..\")\n",
        "df = pd.read_csv('data.csv', sep=',', names=['movie', 'user','rating','date'])\n",
        "df.date = pd.to_datetime(df.date)\n",
        "print('Done.\\n')\n",
        "\n",
        "# we are arranging the ratings according to time.\n",
        "print('Sorting the dataframe by date..')\n",
        "df.sort_values(by='date', inplace=True)\n",
        "print('Done..')"
      ]
    },
    {
      "cell_type": "code",
      "execution_count": null,
      "metadata": {
        "colab": {
          "base_uri": "https://localhost:8080/",
          "height": 206
        },
        "id": "GkhBmOCoxrkk",
        "outputId": "03e70aa9-7343-41ab-de15-1b3dc47c9075"
      },
      "outputs": [
        {
          "data": {
            "text/html": [
              "\n",
              "  <div id=\"df-1996c340-6392-4e21-908f-23f42ebab763\">\n",
              "    <div class=\"colab-df-container\">\n",
              "      <div>\n",
              "<style scoped>\n",
              "    .dataframe tbody tr th:only-of-type {\n",
              "        vertical-align: middle;\n",
              "    }\n",
              "\n",
              "    .dataframe tbody tr th {\n",
              "        vertical-align: top;\n",
              "    }\n",
              "\n",
              "    .dataframe thead th {\n",
              "        text-align: right;\n",
              "    }\n",
              "</style>\n",
              "<table border=\"1\" class=\"dataframe\">\n",
              "  <thead>\n",
              "    <tr style=\"text-align: right;\">\n",
              "      <th></th>\n",
              "      <th>movie</th>\n",
              "      <th>user</th>\n",
              "      <th>rating</th>\n",
              "      <th>date</th>\n",
              "    </tr>\n",
              "  </thead>\n",
              "  <tbody>\n",
              "    <tr>\n",
              "      <th>56431994</th>\n",
              "      <td>10341</td>\n",
              "      <td>510180</td>\n",
              "      <td>4</td>\n",
              "      <td>1999-11-11</td>\n",
              "    </tr>\n",
              "    <tr>\n",
              "      <th>9056171</th>\n",
              "      <td>1798</td>\n",
              "      <td>510180</td>\n",
              "      <td>5</td>\n",
              "      <td>1999-11-11</td>\n",
              "    </tr>\n",
              "    <tr>\n",
              "      <th>58698779</th>\n",
              "      <td>10774</td>\n",
              "      <td>510180</td>\n",
              "      <td>3</td>\n",
              "      <td>1999-11-11</td>\n",
              "    </tr>\n",
              "    <tr>\n",
              "      <th>48101611</th>\n",
              "      <td>8651</td>\n",
              "      <td>510180</td>\n",
              "      <td>2</td>\n",
              "      <td>1999-11-11</td>\n",
              "    </tr>\n",
              "    <tr>\n",
              "      <th>81893208</th>\n",
              "      <td>14660</td>\n",
              "      <td>510180</td>\n",
              "      <td>2</td>\n",
              "      <td>1999-11-11</td>\n",
              "    </tr>\n",
              "  </tbody>\n",
              "</table>\n",
              "</div>\n",
              "      <button class=\"colab-df-convert\" onclick=\"convertToInteractive('df-1996c340-6392-4e21-908f-23f42ebab763')\"\n",
              "              title=\"Convert this dataframe to an interactive table.\"\n",
              "              style=\"display:none;\">\n",
              "        \n",
              "  <svg xmlns=\"http://www.w3.org/2000/svg\" height=\"24px\"viewBox=\"0 0 24 24\"\n",
              "       width=\"24px\">\n",
              "    <path d=\"M0 0h24v24H0V0z\" fill=\"none\"/>\n",
              "    <path d=\"M18.56 5.44l.94 2.06.94-2.06 2.06-.94-2.06-.94-.94-2.06-.94 2.06-2.06.94zm-11 1L8.5 8.5l.94-2.06 2.06-.94-2.06-.94L8.5 2.5l-.94 2.06-2.06.94zm10 10l.94 2.06.94-2.06 2.06-.94-2.06-.94-.94-2.06-.94 2.06-2.06.94z\"/><path d=\"M17.41 7.96l-1.37-1.37c-.4-.4-.92-.59-1.43-.59-.52 0-1.04.2-1.43.59L10.3 9.45l-7.72 7.72c-.78.78-.78 2.05 0 2.83L4 21.41c.39.39.9.59 1.41.59.51 0 1.02-.2 1.41-.59l7.78-7.78 2.81-2.81c.8-.78.8-2.07 0-2.86zM5.41 20L4 18.59l7.72-7.72 1.47 1.35L5.41 20z\"/>\n",
              "  </svg>\n",
              "      </button>\n",
              "      \n",
              "  <style>\n",
              "    .colab-df-container {\n",
              "      display:flex;\n",
              "      flex-wrap:wrap;\n",
              "      gap: 12px;\n",
              "    }\n",
              "\n",
              "    .colab-df-convert {\n",
              "      background-color: #E8F0FE;\n",
              "      border: none;\n",
              "      border-radius: 50%;\n",
              "      cursor: pointer;\n",
              "      display: none;\n",
              "      fill: #1967D2;\n",
              "      height: 32px;\n",
              "      padding: 0 0 0 0;\n",
              "      width: 32px;\n",
              "    }\n",
              "\n",
              "    .colab-df-convert:hover {\n",
              "      background-color: #E2EBFA;\n",
              "      box-shadow: 0px 1px 2px rgba(60, 64, 67, 0.3), 0px 1px 3px 1px rgba(60, 64, 67, 0.15);\n",
              "      fill: #174EA6;\n",
              "    }\n",
              "\n",
              "    [theme=dark] .colab-df-convert {\n",
              "      background-color: #3B4455;\n",
              "      fill: #D2E3FC;\n",
              "    }\n",
              "\n",
              "    [theme=dark] .colab-df-convert:hover {\n",
              "      background-color: #434B5C;\n",
              "      box-shadow: 0px 1px 3px 1px rgba(0, 0, 0, 0.15);\n",
              "      filter: drop-shadow(0px 1px 2px rgba(0, 0, 0, 0.3));\n",
              "      fill: #FFFFFF;\n",
              "    }\n",
              "  </style>\n",
              "\n",
              "      <script>\n",
              "        const buttonEl =\n",
              "          document.querySelector('#df-1996c340-6392-4e21-908f-23f42ebab763 button.colab-df-convert');\n",
              "        buttonEl.style.display =\n",
              "          google.colab.kernel.accessAllowed ? 'block' : 'none';\n",
              "\n",
              "        async function convertToInteractive(key) {\n",
              "          const element = document.querySelector('#df-1996c340-6392-4e21-908f-23f42ebab763');\n",
              "          const dataTable =\n",
              "            await google.colab.kernel.invokeFunction('convertToInteractive',\n",
              "                                                     [key], {});\n",
              "          if (!dataTable) return;\n",
              "\n",
              "          const docLinkHtml = 'Like what you see? Visit the ' +\n",
              "            '<a target=\"_blank\" href=https://colab.research.google.com/notebooks/data_table.ipynb>data table notebook</a>'\n",
              "            + ' to learn more about interactive tables.';\n",
              "          element.innerHTML = '';\n",
              "          dataTable['output_type'] = 'display_data';\n",
              "          await google.colab.output.renderOutput(dataTable, element);\n",
              "          const docLink = document.createElement('div');\n",
              "          docLink.innerHTML = docLinkHtml;\n",
              "          element.appendChild(docLink);\n",
              "        }\n",
              "      </script>\n",
              "    </div>\n",
              "  </div>\n",
              "  "
            ],
            "text/plain": [
              "          movie    user  rating       date\n",
              "56431994  10341  510180       4 1999-11-11\n",
              "9056171    1798  510180       5 1999-11-11\n",
              "58698779  10774  510180       3 1999-11-11\n",
              "48101611   8651  510180       2 1999-11-11\n",
              "81893208  14660  510180       2 1999-11-11"
            ]
          },
          "execution_count": 7,
          "metadata": {},
          "output_type": "execute_result"
        }
      ],
      "source": [
        "df.head()"
      ]
    },
    {
      "cell_type": "code",
      "execution_count": null,
      "metadata": {
        "colab": {
          "base_uri": "https://localhost:8080/"
        },
        "id": "yc3bmsOKxrkr",
        "outputId": "a4dfd823-432a-4992-f2f8-ae1560194077",
        "scrolled": true
      },
      "outputs": [
        {
          "data": {
            "text/plain": [
              "count    1.004805e+08\n",
              "mean     3.604290e+00\n",
              "std      1.085219e+00\n",
              "min      1.000000e+00\n",
              "25%      3.000000e+00\n",
              "50%      4.000000e+00\n",
              "75%      4.000000e+00\n",
              "max      5.000000e+00\n",
              "Name: rating, dtype: float64"
            ]
          },
          "execution_count": 8,
          "metadata": {},
          "output_type": "execute_result"
        }
      ],
      "source": [
        "df.describe()['rating']"
      ]
    },
    {
      "cell_type": "markdown",
      "metadata": {
        "id": "O6Jh9hMUxrky"
      },
      "source": [
        "<h3>Checking for NaN values </h3>"
      ]
    },
    {
      "cell_type": "code",
      "execution_count": null,
      "metadata": {
        "colab": {
          "base_uri": "https://localhost:8080/"
        },
        "id": "2RX0XUYGxrkz",
        "outputId": "3020c736-3ae4-429b-97e8-1a2390a8067c",
        "scrolled": false
      },
      "outputs": [
        {
          "name": "stdout",
          "output_type": "stream",
          "text": [
            "No of Nan values in our dataframe :  0\n"
          ]
        }
      ],
      "source": [
        "# just to make sure that all Nan containing rows are deleted..\n",
        "print(\"No of Nan values in our dataframe : \", sum(df.isnull().any()))"
      ]
    },
    {
      "cell_type": "markdown",
      "metadata": {
        "id": "x3o4ln-4xrk7"
      },
      "source": [
        " "
      ]
    },
    {
      "cell_type": "markdown",
      "metadata": {
        "id": "QofEYR63xrk9"
      },
      "source": [
        "<h3>Removing Duplicates </h3>"
      ]
    },
    {
      "cell_type": "code",
      "execution_count": null,
      "metadata": {
        "colab": {
          "base_uri": "https://localhost:8080/"
        },
        "id": "wDHFQBfCxrlA",
        "outputId": "04240381-13f4-4031-d148-7267e3660f49"
      },
      "outputs": [
        {
          "name": "stdout",
          "output_type": "stream",
          "text": [
            "There are 0 duplicate rating entries in the data..\n"
          ]
        }
      ],
      "source": [
        "dup_bool = df.duplicated(['movie','user','rating'])\n",
        "dups = sum(dup_bool) # by considering all columns..( including timestamp)\n",
        "print(\"There are {} duplicate rating entries in the data..\".format(dups))"
      ]
    },
    {
      "cell_type": "markdown",
      "metadata": {
        "id": "06qT7qvuxrlL"
      },
      "source": [
        " "
      ]
    },
    {
      "cell_type": "markdown",
      "metadata": {
        "id": "OhrBQacmxrlM"
      },
      "source": [
        " <h3>Basic Statistics (#Ratings, #Users, and #Movies)</h3>"
      ]
    },
    {
      "cell_type": "code",
      "execution_count": null,
      "metadata": {
        "colab": {
          "base_uri": "https://localhost:8080/"
        },
        "id": "Gq66viptxrlP",
        "outputId": "5987b656-151b-42e0-d18b-a8460f34b542"
      },
      "outputs": [
        {
          "name": "stdout",
          "output_type": "stream",
          "text": [
            "Total data \n",
            "--------------------------------------------------\n",
            "\n",
            "Total no of ratings : 100480507\n",
            "Total No of Users   : 480189\n",
            "Total No of movies  : 17770\n"
          ]
        }
      ],
      "source": [
        "print(\"Total data \")\n",
        "print(\"-\"*50)\n",
        "print(\"\\nTotal no of ratings :\",df.shape[0])\n",
        "print(\"Total No of Users   :\", len(np.unique(df.user)))\n",
        "print(\"Total No of movies  :\", len(np.unique(df.movie)))"
      ]
    },
    {
      "cell_type": "markdown",
      "metadata": {
        "id": "FIduSZiexrlW"
      },
      "source": [
        "<h2>Spliting data into Train and Test(80:20) </h2>"
      ]
    },
    {
      "cell_type": "code",
      "execution_count": 32,
      "metadata": {
        "id": "jpT2WRQjxrlY"
      },
      "outputs": [],
      "source": [
        "if not os.path.isfile('train.csv'):\n",
        "    # create the dataframe and store it in the disk for offline purposes..\n",
        "    df.iloc[:int(df.shape[0]*0.80)].to_csv(\"train.csv\", index=False)\n",
        "\n",
        "if not os.path.isfile('test.csv'):\n",
        "    # create the dataframe and store it in the disk for offline purposes..\n",
        "    df.iloc[int(df.shape[0]*0.80):].to_csv(\"test.csv\", index=False)\n",
        "\n",
        "train_df = pd.read_csv(\"train.csv\", parse_dates=['date'])\n",
        "test_df = pd.read_csv(\"test.csv\")"
      ]
    },
    {
      "cell_type": "code",
      "execution_count": null,
      "metadata": {
        "colab": {
          "base_uri": "https://localhost:8080/",
          "height": 143
        },
        "id": "a9YXj2L2j1nz",
        "outputId": "09d15405-0942-48fb-e9c3-10009af8cf12"
      },
      "outputs": [
        {
          "data": {
            "text/html": [
              "\n",
              "  <div id=\"df-792ce45d-27be-4a71-9dd1-5c85c3225bbd\">\n",
              "    <div class=\"colab-df-container\">\n",
              "      <div>\n",
              "<style scoped>\n",
              "    .dataframe tbody tr th:only-of-type {\n",
              "        vertical-align: middle;\n",
              "    }\n",
              "\n",
              "    .dataframe tbody tr th {\n",
              "        vertical-align: top;\n",
              "    }\n",
              "\n",
              "    .dataframe thead th {\n",
              "        text-align: right;\n",
              "    }\n",
              "</style>\n",
              "<table border=\"1\" class=\"dataframe\">\n",
              "  <thead>\n",
              "    <tr style=\"text-align: right;\">\n",
              "      <th></th>\n",
              "      <th>movie</th>\n",
              "      <th>user</th>\n",
              "      <th>rating</th>\n",
              "      <th>date</th>\n",
              "    </tr>\n",
              "  </thead>\n",
              "  <tbody>\n",
              "    <tr>\n",
              "      <th>0</th>\n",
              "      <td>10341</td>\n",
              "      <td>510180</td>\n",
              "      <td>4</td>\n",
              "      <td>1999-11-11</td>\n",
              "    </tr>\n",
              "    <tr>\n",
              "      <th>1</th>\n",
              "      <td>1798</td>\n",
              "      <td>510180</td>\n",
              "      <td>5</td>\n",
              "      <td>1999-11-11</td>\n",
              "    </tr>\n",
              "    <tr>\n",
              "      <th>2</th>\n",
              "      <td>10774</td>\n",
              "      <td>510180</td>\n",
              "      <td>3</td>\n",
              "      <td>1999-11-11</td>\n",
              "    </tr>\n",
              "  </tbody>\n",
              "</table>\n",
              "</div>\n",
              "      <button class=\"colab-df-convert\" onclick=\"convertToInteractive('df-792ce45d-27be-4a71-9dd1-5c85c3225bbd')\"\n",
              "              title=\"Convert this dataframe to an interactive table.\"\n",
              "              style=\"display:none;\">\n",
              "        \n",
              "  <svg xmlns=\"http://www.w3.org/2000/svg\" height=\"24px\"viewBox=\"0 0 24 24\"\n",
              "       width=\"24px\">\n",
              "    <path d=\"M0 0h24v24H0V0z\" fill=\"none\"/>\n",
              "    <path d=\"M18.56 5.44l.94 2.06.94-2.06 2.06-.94-2.06-.94-.94-2.06-.94 2.06-2.06.94zm-11 1L8.5 8.5l.94-2.06 2.06-.94-2.06-.94L8.5 2.5l-.94 2.06-2.06.94zm10 10l.94 2.06.94-2.06 2.06-.94-2.06-.94-.94-2.06-.94 2.06-2.06.94z\"/><path d=\"M17.41 7.96l-1.37-1.37c-.4-.4-.92-.59-1.43-.59-.52 0-1.04.2-1.43.59L10.3 9.45l-7.72 7.72c-.78.78-.78 2.05 0 2.83L4 21.41c.39.39.9.59 1.41.59.51 0 1.02-.2 1.41-.59l7.78-7.78 2.81-2.81c.8-.78.8-2.07 0-2.86zM5.41 20L4 18.59l7.72-7.72 1.47 1.35L5.41 20z\"/>\n",
              "  </svg>\n",
              "      </button>\n",
              "      \n",
              "  <style>\n",
              "    .colab-df-container {\n",
              "      display:flex;\n",
              "      flex-wrap:wrap;\n",
              "      gap: 12px;\n",
              "    }\n",
              "\n",
              "    .colab-df-convert {\n",
              "      background-color: #E8F0FE;\n",
              "      border: none;\n",
              "      border-radius: 50%;\n",
              "      cursor: pointer;\n",
              "      display: none;\n",
              "      fill: #1967D2;\n",
              "      height: 32px;\n",
              "      padding: 0 0 0 0;\n",
              "      width: 32px;\n",
              "    }\n",
              "\n",
              "    .colab-df-convert:hover {\n",
              "      background-color: #E2EBFA;\n",
              "      box-shadow: 0px 1px 2px rgba(60, 64, 67, 0.3), 0px 1px 3px 1px rgba(60, 64, 67, 0.15);\n",
              "      fill: #174EA6;\n",
              "    }\n",
              "\n",
              "    [theme=dark] .colab-df-convert {\n",
              "      background-color: #3B4455;\n",
              "      fill: #D2E3FC;\n",
              "    }\n",
              "\n",
              "    [theme=dark] .colab-df-convert:hover {\n",
              "      background-color: #434B5C;\n",
              "      box-shadow: 0px 1px 3px 1px rgba(0, 0, 0, 0.15);\n",
              "      filter: drop-shadow(0px 1px 2px rgba(0, 0, 0, 0.3));\n",
              "      fill: #FFFFFF;\n",
              "    }\n",
              "  </style>\n",
              "\n",
              "      <script>\n",
              "        const buttonEl =\n",
              "          document.querySelector('#df-792ce45d-27be-4a71-9dd1-5c85c3225bbd button.colab-df-convert');\n",
              "        buttonEl.style.display =\n",
              "          google.colab.kernel.accessAllowed ? 'block' : 'none';\n",
              "\n",
              "        async function convertToInteractive(key) {\n",
              "          const element = document.querySelector('#df-792ce45d-27be-4a71-9dd1-5c85c3225bbd');\n",
              "          const dataTable =\n",
              "            await google.colab.kernel.invokeFunction('convertToInteractive',\n",
              "                                                     [key], {});\n",
              "          if (!dataTable) return;\n",
              "\n",
              "          const docLinkHtml = 'Like what you see? Visit the ' +\n",
              "            '<a target=\"_blank\" href=https://colab.research.google.com/notebooks/data_table.ipynb>data table notebook</a>'\n",
              "            + ' to learn more about interactive tables.';\n",
              "          element.innerHTML = '';\n",
              "          dataTable['output_type'] = 'display_data';\n",
              "          await google.colab.output.renderOutput(dataTable, element);\n",
              "          const docLink = document.createElement('div');\n",
              "          docLink.innerHTML = docLinkHtml;\n",
              "          element.appendChild(docLink);\n",
              "        }\n",
              "      </script>\n",
              "    </div>\n",
              "  </div>\n",
              "  "
            ],
            "text/plain": [
              "   movie    user  rating       date\n",
              "0  10341  510180       4 1999-11-11\n",
              "1   1798  510180       5 1999-11-11\n",
              "2  10774  510180       3 1999-11-11"
            ]
          },
          "execution_count": 12,
          "metadata": {},
          "output_type": "execute_result"
        }
      ],
      "source": [
        "train_df.head(3)"
      ]
    },
    {
      "cell_type": "markdown",
      "metadata": {
        "id": "SCT91Uw5xrld"
      },
      "source": [
        "<h3>Basic Statistics in Train data (#Ratings, #Users, and #Movies)</h3>"
      ]
    },
    {
      "cell_type": "code",
      "execution_count": null,
      "metadata": {
        "colab": {
          "base_uri": "https://localhost:8080/"
        },
        "id": "Il1yfWfuxrle",
        "outputId": "b285bfb1-4e91-4956-dfcb-9af4e89a997c"
      },
      "outputs": [
        {
          "name": "stdout",
          "output_type": "stream",
          "text": [
            "Training data \n",
            "--------------------------------------------------\n",
            "\n",
            "Total no of ratings : 80384405\n",
            "Total No of Users   : 405041\n",
            "Total No of movies  : 17424\n"
          ]
        }
      ],
      "source": [
        "# movies = train_df.movie.value_counts()\n",
        "# users = train_df.user.value_counts()\n",
        "print(\"Training data \")\n",
        "print(\"-\"*50)\n",
        "print(\"\\nTotal no of ratings :\",train_df.shape[0])\n",
        "print(\"Total No of Users   :\", len(np.unique(train_df.user)))\n",
        "print(\"Total No of movies  :\", len(np.unique(train_df.movie)))"
      ]
    },
    {
      "cell_type": "markdown",
      "metadata": {
        "id": "eEVS0juVxrlk"
      },
      "source": [
        "<h3>Basic Statistics in Test data (#Ratings, #Users, and #Movies)</h3>"
      ]
    },
    {
      "cell_type": "code",
      "execution_count": null,
      "metadata": {
        "colab": {
          "base_uri": "https://localhost:8080/"
        },
        "id": "V0SLQlbNxrll",
        "outputId": "2b4ff91c-dbfb-4b18-b3c6-3776557873fd"
      },
      "outputs": [
        {
          "name": "stdout",
          "output_type": "stream",
          "text": [
            "Test data \n",
            "--------------------------------------------------\n",
            "\n",
            "Total no of ratings : 20096102\n",
            "Total No of Users   : 349312\n",
            "Total No of movies  : 17757\n"
          ]
        }
      ],
      "source": [
        "print(\"Test data \")\n",
        "print(\"-\"*50)\n",
        "print(\"\\nTotal no of ratings :\",test_df.shape[0])\n",
        "print(\"Total No of Users   :\", len(np.unique(test_df.user)))\n",
        "print(\"Total No of movies  :\", len(np.unique(test_df.movie)))"
      ]
    },
    {
      "cell_type": "markdown",
      "metadata": {
        "collapsed": true,
        "id": "Cd1Mv38GxrnX"
      },
      "source": [
        "<h3> Creating sparse matrix from data frame </h3>"
      ]
    },
    {
      "cell_type": "markdown",
      "metadata": {
        "id": "KJhTXsCVxrnZ"
      },
      "source": [
        "<h4> Creating sparse matrix from train data frame </h4>"
      ]
    },
    {
      "cell_type": "code",
      "execution_count": null,
      "metadata": {
        "colab": {
          "base_uri": "https://localhost:8080/",
          "height": 206
        },
        "id": "sFe6JTRH5JD4",
        "outputId": "ee1e89c6-dae6-4900-ce7b-7e62e4e30b20"
      },
      "outputs": [
        {
          "data": {
            "text/html": [
              "\n",
              "  <div id=\"df-94d2599f-4659-4856-a26a-a01c5e7efa33\">\n",
              "    <div class=\"colab-df-container\">\n",
              "      <div>\n",
              "<style scoped>\n",
              "    .dataframe tbody tr th:only-of-type {\n",
              "        vertical-align: middle;\n",
              "    }\n",
              "\n",
              "    .dataframe tbody tr th {\n",
              "        vertical-align: top;\n",
              "    }\n",
              "\n",
              "    .dataframe thead th {\n",
              "        text-align: right;\n",
              "    }\n",
              "</style>\n",
              "<table border=\"1\" class=\"dataframe\">\n",
              "  <thead>\n",
              "    <tr style=\"text-align: right;\">\n",
              "      <th></th>\n",
              "      <th>movie</th>\n",
              "      <th>user</th>\n",
              "      <th>rating</th>\n",
              "      <th>date</th>\n",
              "    </tr>\n",
              "  </thead>\n",
              "  <tbody>\n",
              "    <tr>\n",
              "      <th>0</th>\n",
              "      <td>10341</td>\n",
              "      <td>510180</td>\n",
              "      <td>4</td>\n",
              "      <td>1999-11-11</td>\n",
              "    </tr>\n",
              "    <tr>\n",
              "      <th>1</th>\n",
              "      <td>1798</td>\n",
              "      <td>510180</td>\n",
              "      <td>5</td>\n",
              "      <td>1999-11-11</td>\n",
              "    </tr>\n",
              "    <tr>\n",
              "      <th>2</th>\n",
              "      <td>10774</td>\n",
              "      <td>510180</td>\n",
              "      <td>3</td>\n",
              "      <td>1999-11-11</td>\n",
              "    </tr>\n",
              "    <tr>\n",
              "      <th>3</th>\n",
              "      <td>8651</td>\n",
              "      <td>510180</td>\n",
              "      <td>2</td>\n",
              "      <td>1999-11-11</td>\n",
              "    </tr>\n",
              "    <tr>\n",
              "      <th>4</th>\n",
              "      <td>14660</td>\n",
              "      <td>510180</td>\n",
              "      <td>2</td>\n",
              "      <td>1999-11-11</td>\n",
              "    </tr>\n",
              "  </tbody>\n",
              "</table>\n",
              "</div>\n",
              "      <button class=\"colab-df-convert\" onclick=\"convertToInteractive('df-94d2599f-4659-4856-a26a-a01c5e7efa33')\"\n",
              "              title=\"Convert this dataframe to an interactive table.\"\n",
              "              style=\"display:none;\">\n",
              "        \n",
              "  <svg xmlns=\"http://www.w3.org/2000/svg\" height=\"24px\"viewBox=\"0 0 24 24\"\n",
              "       width=\"24px\">\n",
              "    <path d=\"M0 0h24v24H0V0z\" fill=\"none\"/>\n",
              "    <path d=\"M18.56 5.44l.94 2.06.94-2.06 2.06-.94-2.06-.94-.94-2.06-.94 2.06-2.06.94zm-11 1L8.5 8.5l.94-2.06 2.06-.94-2.06-.94L8.5 2.5l-.94 2.06-2.06.94zm10 10l.94 2.06.94-2.06 2.06-.94-2.06-.94-.94-2.06-.94 2.06-2.06.94z\"/><path d=\"M17.41 7.96l-1.37-1.37c-.4-.4-.92-.59-1.43-.59-.52 0-1.04.2-1.43.59L10.3 9.45l-7.72 7.72c-.78.78-.78 2.05 0 2.83L4 21.41c.39.39.9.59 1.41.59.51 0 1.02-.2 1.41-.59l7.78-7.78 2.81-2.81c.8-.78.8-2.07 0-2.86zM5.41 20L4 18.59l7.72-7.72 1.47 1.35L5.41 20z\"/>\n",
              "  </svg>\n",
              "      </button>\n",
              "      \n",
              "  <style>\n",
              "    .colab-df-container {\n",
              "      display:flex;\n",
              "      flex-wrap:wrap;\n",
              "      gap: 12px;\n",
              "    }\n",
              "\n",
              "    .colab-df-convert {\n",
              "      background-color: #E8F0FE;\n",
              "      border: none;\n",
              "      border-radius: 50%;\n",
              "      cursor: pointer;\n",
              "      display: none;\n",
              "      fill: #1967D2;\n",
              "      height: 32px;\n",
              "      padding: 0 0 0 0;\n",
              "      width: 32px;\n",
              "    }\n",
              "\n",
              "    .colab-df-convert:hover {\n",
              "      background-color: #E2EBFA;\n",
              "      box-shadow: 0px 1px 2px rgba(60, 64, 67, 0.3), 0px 1px 3px 1px rgba(60, 64, 67, 0.15);\n",
              "      fill: #174EA6;\n",
              "    }\n",
              "\n",
              "    [theme=dark] .colab-df-convert {\n",
              "      background-color: #3B4455;\n",
              "      fill: #D2E3FC;\n",
              "    }\n",
              "\n",
              "    [theme=dark] .colab-df-convert:hover {\n",
              "      background-color: #434B5C;\n",
              "      box-shadow: 0px 1px 3px 1px rgba(0, 0, 0, 0.15);\n",
              "      filter: drop-shadow(0px 1px 2px rgba(0, 0, 0, 0.3));\n",
              "      fill: #FFFFFF;\n",
              "    }\n",
              "  </style>\n",
              "\n",
              "      <script>\n",
              "        const buttonEl =\n",
              "          document.querySelector('#df-94d2599f-4659-4856-a26a-a01c5e7efa33 button.colab-df-convert');\n",
              "        buttonEl.style.display =\n",
              "          google.colab.kernel.accessAllowed ? 'block' : 'none';\n",
              "\n",
              "        async function convertToInteractive(key) {\n",
              "          const element = document.querySelector('#df-94d2599f-4659-4856-a26a-a01c5e7efa33');\n",
              "          const dataTable =\n",
              "            await google.colab.kernel.invokeFunction('convertToInteractive',\n",
              "                                                     [key], {});\n",
              "          if (!dataTable) return;\n",
              "\n",
              "          const docLinkHtml = 'Like what you see? Visit the ' +\n",
              "            '<a target=\"_blank\" href=https://colab.research.google.com/notebooks/data_table.ipynb>data table notebook</a>'\n",
              "            + ' to learn more about interactive tables.';\n",
              "          element.innerHTML = '';\n",
              "          dataTable['output_type'] = 'display_data';\n",
              "          await google.colab.output.renderOutput(dataTable, element);\n",
              "          const docLink = document.createElement('div');\n",
              "          docLink.innerHTML = docLinkHtml;\n",
              "          element.appendChild(docLink);\n",
              "        }\n",
              "      </script>\n",
              "    </div>\n",
              "  </div>\n",
              "  "
            ],
            "text/plain": [
              "   movie    user  rating       date\n",
              "0  10341  510180       4 1999-11-11\n",
              "1   1798  510180       5 1999-11-11\n",
              "2  10774  510180       3 1999-11-11\n",
              "3   8651  510180       2 1999-11-11\n",
              "4  14660  510180       2 1999-11-11"
            ]
          },
          "execution_count": 8,
          "metadata": {},
          "output_type": "execute_result"
        }
      ],
      "source": [
        "train_df.head()"
      ]
    },
    {
      "cell_type": "code",
      "execution_count": 8,
      "metadata": {
        "colab": {
          "base_uri": "https://localhost:8080/"
        },
        "id": "tj6TVYrRxrna",
        "outputId": "24aa0996-a0e0-4fbc-ec93-d4dec01a7d24",
        "scrolled": true
      },
      "outputs": [
        {
          "output_type": "stream",
          "name": "stdout",
          "text": [
            "It is present in your pwd, getting it from disk....\n",
            "DONE..\n",
            "0:00:06.912356\n"
          ]
        }
      ],
      "source": [
        "start = datetime.now()\n",
        "if os.path.isfile('train_sparse_matrix.npz'):\n",
        "    print(\"It is present in your pwd, getting it from disk....\")\n",
        "    # just get it from the disk in the local system instead of computing it\n",
        "    train_sparse_matrix = sparse.load_npz('train_sparse_matrix.npz')\n",
        "    print(\"DONE..\")\n",
        "else: \n",
        "    print(\"We are creating sparse_matrix from the dataframe..\")\n",
        "    # create sparse_matrix and store it for after usage.\n",
        "    # csr_matrix(data_values, (row_index, col_index), shape_of_matrix)\n",
        "    # It should be in such a way that, MATRIX[row, col] = data\n",
        "    train_sparse_matrix = sparse.csr_matrix((train_df.rating.values, (train_df.user.values,\n",
        "                                               train_df.movie.values)),)\n",
        "    \n",
        "    print('Done. It\\'s shape is : (user, movie) : ',train_sparse_matrix.shape)\n",
        "    print('Saving it into disk for furthur usage..')\n",
        "    # save it into disk\n",
        "    sparse.save_npz(\"train_sparse_matrix.npz\", train_sparse_matrix)\n",
        "    print('Done..\\n')\n",
        "\n",
        "print(datetime.now() - start)"
      ]
    },
    {
      "cell_type": "markdown",
      "metadata": {
        "id": "pC3exGbRxrne"
      },
      "source": [
        "<p><b>The Sparsity of Train Sparse Matrix</b></p>"
      ]
    },
    {
      "cell_type": "code",
      "execution_count": 9,
      "metadata": {
        "colab": {
          "base_uri": "https://localhost:8080/"
        },
        "id": "oXQkR5Xhxrng",
        "outputId": "5be0b282-6812-468f-e859-504285df76e9"
      },
      "outputs": [
        {
          "output_type": "stream",
          "name": "stdout",
          "text": [
            "Sparsity Of Train matrix : 99.8292709259195 % \n"
          ]
        }
      ],
      "source": [
        "us,mv = train_sparse_matrix.shape\n",
        "elem = train_sparse_matrix.count_nonzero()\n",
        "\n",
        "print(\"Sparsity Of Train matrix : {} % \".format(  (1-(elem/(us*mv))) * 100) )"
      ]
    },
    {
      "cell_type": "markdown",
      "metadata": {
        "id": "SYOctHZ2xrnn"
      },
      "source": [
        "<h4> Creating sparse matrix from test data frame </h4>"
      ]
    },
    {
      "cell_type": "code",
      "execution_count": 10,
      "metadata": {
        "colab": {
          "base_uri": "https://localhost:8080/"
        },
        "id": "WZl8EAedxrnq",
        "outputId": "69a4f40c-2dd5-4b1c-a964-3bbed7cdb18d"
      },
      "outputs": [
        {
          "output_type": "stream",
          "name": "stdout",
          "text": [
            "It is present in your pwd, getting it from disk....\n",
            "DONE..\n",
            "0:00:03.305975\n"
          ]
        }
      ],
      "source": [
        "start = datetime.now()\n",
        "if os.path.isfile('test_sparse_matrix.npz'):\n",
        "    print(\"It is present in your pwd, getting it from disk....\")\n",
        "    # If the sparse matrix has been created and saved previosuly, just get it from the disk instead of computing it\n",
        "    test_sparse_matrix = sparse.load_npz('test_sparse_matrix.npz')\n",
        "    print(\"DONE..\")\n",
        "else: \n",
        "    print(\"We are creating sparse_matrix from the dataframe..\")\n",
        "    # create sparse_matrix and store it for after usage.\n",
        "    # csr_matrix(data_values, (row_index, col_index), shape_of_matrix)\n",
        "    # It is in such a way that, MATRIX[row, col] = data\n",
        "    test_sparse_matrix = sparse.csr_matrix((test_df.rating.values, (test_df.user.values,\n",
        "                                               test_df.movie.values)))\n",
        "    \n",
        "    print('Done. It\\'s shape is : (user, movie) : ',test_sparse_matrix.shape)\n",
        "    print('Saving it into disk for furthur usage..')\n",
        "    # save it into disk\n",
        "    sparse.save_npz(\"test_sparse_matrix.npz\", test_sparse_matrix)\n",
        "    print('Done..\\n')\n",
        "    \n",
        "print(datetime.now() - start)"
      ]
    },
    {
      "cell_type": "markdown",
      "metadata": {
        "id": "p9J75aRtxrnu"
      },
      "source": [
        "<p><b>The Sparsity of Test data Matrix</b></p>"
      ]
    },
    {
      "cell_type": "code",
      "execution_count": 11,
      "metadata": {
        "colab": {
          "base_uri": "https://localhost:8080/"
        },
        "id": "RzgJhjorxrnz",
        "outputId": "01016501-9b5c-437a-c247-46dbe65ad24e"
      },
      "outputs": [
        {
          "output_type": "stream",
          "name": "stdout",
          "text": [
            "Sparsity Of Test matrix : 99.95731772988694 % \n"
          ]
        }
      ],
      "source": [
        "us,mv = test_sparse_matrix.shape\n",
        "elem = test_sparse_matrix.count_nonzero()\n",
        "\n",
        "print(\"Sparsity Of Test matrix : {} % \".format(  (1-(elem/(us*mv))) * 100) )"
      ]
    },
    {
      "cell_type": "markdown",
      "metadata": {
        "id": "uk90Yucuxrn3"
      },
      "source": [
        "<h3>Finding Global average of all movie ratings, Average rating per user, and Average rating per movie</h3>"
      ]
    },
    {
      "cell_type": "code",
      "execution_count": 12,
      "metadata": {
        "id": "vJehxyKexrn7"
      },
      "outputs": [],
      "source": [
        "# get the user averages in dictionary (key: user_id/movie_id, value: avg rating)\n",
        "\n",
        "def get_average_ratings(sparse_matrix, of_users):\n",
        "    \n",
        "    # average ratings of user/axes\n",
        "    ax = 1 if of_users else 0 # 1 - User axes,0 - Movie axes\n",
        "\n",
        "    # \".A1\" is for converting Column_Matrix to 1-D numpy array \n",
        "    sum_of_ratings = sparse_matrix.sum(axis=ax).A1\n",
        "    # Boolean matrix of ratings ( whether a user rated that movie or not)\n",
        "    is_rated = sparse_matrix!=0\n",
        "    # no of ratings that each user OR movie..\n",
        "    no_of_ratings = is_rated.sum(axis=ax).A1\n",
        "    \n",
        "    # max_user  and max_movie ids in sparse matrix \n",
        "    u,m = sparse_matrix.shape\n",
        "    # creae a dictonary of users and their average ratigns..\n",
        "    average_ratings = { i : sum_of_ratings[i]/no_of_ratings[i]\n",
        "                                 for i in range(u if of_users else m) \n",
        "                                    if no_of_ratings[i] !=0}\n",
        "\n",
        "    # return that dictionary of average ratings\n",
        "    return average_ratings"
      ]
    },
    {
      "cell_type": "markdown",
      "metadata": {
        "id": "BHO3sF5zxrn-"
      },
      "source": [
        "<h4> Finding global average of all movie ratings </h4>"
      ]
    },
    {
      "cell_type": "code",
      "execution_count": null,
      "metadata": {
        "colab": {
          "base_uri": "https://localhost:8080/"
        },
        "id": "tVpUl-ZfxroB",
        "outputId": "a198fc1a-c958-4a86-a7d0-4dc089a8640a",
        "scrolled": false
      },
      "outputs": [
        {
          "data": {
            "text/plain": [
              "{'global': 3.582890686321557}"
            ]
          },
          "execution_count": 19,
          "metadata": {},
          "output_type": "execute_result"
        }
      ],
      "source": [
        "train_averages = dict()\n",
        "# get the global average of ratings in our train set.\n",
        "train_global_average = train_sparse_matrix.sum()/train_sparse_matrix.count_nonzero()\n",
        "train_averages['global'] = train_global_average\n",
        "train_averages"
      ]
    },
    {
      "cell_type": "markdown",
      "metadata": {
        "id": "NZICFv1fxroF"
      },
      "source": [
        "<h4> Finding average rating per user</h4>"
      ]
    },
    {
      "cell_type": "code",
      "execution_count": null,
      "metadata": {
        "colab": {
          "base_uri": "https://localhost:8080/"
        },
        "id": "J1fOjIi4xroF",
        "outputId": "1ae47df0-5065-4bf1-fe34-199032568499",
        "scrolled": true
      },
      "outputs": [
        {
          "name": "stdout",
          "output_type": "stream",
          "text": [
            "\n",
            "Average rating of user 10 : 3.3781094527363185\n"
          ]
        }
      ],
      "source": [
        "train_averages['user'] = get_average_ratings(train_sparse_matrix, of_users=True)\n",
        "print('\\nAverage rating of user 10 :',train_averages['user'][10])"
      ]
    },
    {
      "cell_type": "markdown",
      "metadata": {
        "id": "6CAv2kHHxroJ"
      },
      "source": [
        "<h4> Finding average rating per movie</h4>"
      ]
    },
    {
      "cell_type": "code",
      "execution_count": null,
      "metadata": {
        "colab": {
          "base_uri": "https://localhost:8080/"
        },
        "id": "Azt21nAGxroJ",
        "outputId": "f836be3b-0d2a-4267-ffe8-8c1c033e7eb6",
        "scrolled": true
      },
      "outputs": [
        {
          "name": "stdout",
          "output_type": "stream",
          "text": [
            "\n",
            " AVerage rating of movie 15 : 3.3038461538461537\n"
          ]
        }
      ],
      "source": [
        "train_averages['movie'] =  get_average_ratings(train_sparse_matrix, of_users=False)\n",
        "print('\\n AVerage rating of movie 15 :',train_averages['movie'][15])"
      ]
    },
    {
      "cell_type": "code",
      "execution_count": null,
      "metadata": {
        "colab": {
          "base_uri": "https://localhost:8080/"
        },
        "id": "RHuIbxaWxroZ",
        "outputId": "c61c66c4-4ba1-4a8b-cd45-c8a98ba97395"
      },
      "outputs": [
        {
          "name": "stdout",
          "output_type": "stream",
          "text": [
            "\n",
            "Total number of Users  : 480189\n",
            "\n",
            "Number of Users in Train data : 405041\n",
            "\n",
            "No of Users that didn't appear in train data: 75148(15.65 %) \n",
            " \n"
          ]
        }
      ],
      "source": [
        "total_users = len(np.unique(df.user))\n",
        "users_train = len(train_averages['user'])\n",
        "new_users = total_users - users_train\n",
        "\n",
        "print('\\nTotal number of Users  :', total_users)\n",
        "print('\\nNumber of Users in Train data :', users_train)\n",
        "print(\"\\nNo of Users that didn't appear in train data: {}({} %) \\n \".format(new_users,\n",
        "                                                                        np.round((new_users/total_users)*100, 2)))"
      ]
    },
    {
      "cell_type": "code",
      "execution_count": null,
      "metadata": {
        "colab": {
          "base_uri": "https://localhost:8080/"
        },
        "id": "lXNwDgeSxroe",
        "outputId": "5f709927-6e67-47a7-e081-e028af0eee43"
      },
      "outputs": [
        {
          "name": "stdout",
          "output_type": "stream",
          "text": [
            "\n",
            "Total number of Movies  : 17770\n",
            "\n",
            "Number of Users in Train data : 17424\n",
            "\n",
            "No of Movies that didn't appear in train data: 346(1.95 %) \n",
            " \n"
          ]
        }
      ],
      "source": [
        "total_movies = len(np.unique(df.movie))\n",
        "movies_train = len(train_averages['movie'])\n",
        "new_movies = total_movies - movies_train\n",
        "\n",
        "print('\\nTotal number of Movies  :', total_movies)\n",
        "print('\\nNumber of Users in Train data :', movies_train)\n",
        "print(\"\\nNo of Movies that didn't appear in train data: {}({} %) \\n \".format(new_movies,\n",
        "                                                                        np.round((new_movies/total_movies)*100, 2)))"
      ]
    },
    {
      "cell_type": "markdown",
      "metadata": {
        "id": "tCn-tbyFhmMF"
      },
      "source": [
        "> We might have to handle __346 movies__ (comparatively small) in test data"
      ]
    },
    {
      "cell_type": "markdown",
      "metadata": {
        "id": "4Tro44QZxrqB"
      },
      "source": [
        " <h1> Machine Learning Models </h1>"
      ]
    },
    {
      "cell_type": "code",
      "execution_count": 13,
      "metadata": {
        "id": "oBOQj4nmxrqD"
      },
      "outputs": [],
      "source": [
        "def get_sample_sparse_matrix(sparse_matrix, no_users, no_movies, path, verbose = True):\n",
        "    \"\"\"\n",
        "        It will get it from the ''path'' if it is present  or It will create \n",
        "        and store the sampled sparse matrix in the path specified.\n",
        "    \"\"\"\n",
        "\n",
        "    # get (row, col) and (rating) tuple from sparse_matrix...\n",
        "    row_ind, col_ind, ratings = sparse.find(sparse_matrix)\n",
        "    users = np.unique(row_ind)\n",
        "    movies = np.unique(col_ind)\n",
        "\n",
        "    print(\"Original Matrix : (users, movies) -- ({} {})\".format(len(users), len(movies)))\n",
        "    print(\"Original Matrix : Ratings -- {}\\n\".format(len(ratings)))\n",
        "\n",
        "    # It is just to make sure to get same sample everytime we run this program..\n",
        "    # and pick without replacement....\n",
        "    np.random.seed(15)\n",
        "    sample_users = np.random.choice(users, no_users, replace=False)\n",
        "    sample_movies = np.random.choice(movies, no_movies, replace=False)\n",
        "    # get the boolean mask of these sampled_items in originl row/col_inds..\n",
        "    mask = np.logical_and( np.isin(row_ind, sample_users),\n",
        "                      np.isin(col_ind, sample_movies) )\n",
        "    \n",
        "    sample_sparse_matrix = sparse.csr_matrix((ratings[mask], (row_ind[mask], col_ind[mask])),\n",
        "                                             shape=(max(sample_users)+1, max(sample_movies)+1))\n",
        "\n",
        "    if verbose:\n",
        "        print(\"Sampled Matrix : (users, movies) -- ({} {})\".format(len(sample_users), len(sample_movies)))\n",
        "        print(\"Sampled Matrix : Ratings --\", format(ratings[mask].shape[0]))\n",
        "\n",
        "    print('Saving it into disk for further usage..')\n",
        "    # save it into disk\n",
        "    sparse.save_npz(path, sample_sparse_matrix)\n",
        "    if verbose:\n",
        "            print('Done..\\n')\n",
        "    \n",
        "    return sample_sparse_matrix"
      ]
    },
    {
      "cell_type": "markdown",
      "metadata": {
        "id": "qKFfQ0bgxrqF"
      },
      "source": [
        "<h2> Sampling Data </h2>"
      ]
    },
    {
      "cell_type": "markdown",
      "metadata": {
        "id": "0jLFR-p1xrqG"
      },
      "source": [
        "<h3>Build sample train data from the train data</h3>"
      ]
    },
    {
      "cell_type": "code",
      "execution_count": 14,
      "metadata": {
        "colab": {
          "base_uri": "https://localhost:8080/"
        },
        "id": "l5dJ4yzVxrqH",
        "outputId": "9b461dc1-fce0-4cf8-d594-1d7e67a2606c"
      },
      "outputs": [
        {
          "output_type": "stream",
          "name": "stdout",
          "text": [
            "It is present in your pwd, getting it from disk....\n",
            "DONE..\n",
            "0:00:00.792715\n"
          ]
        }
      ],
      "source": [
        "start = datetime.now()\n",
        "path = \"sample_train_sparse_matrix.npz\"\n",
        "if os.path.isfile(path):\n",
        "    print(\"It is present in your pwd, getting it from disk....\")\n",
        "    # just get it from the disk instead of computing it\n",
        "    sample_train_sparse_matrix = sparse.load_npz(path)\n",
        "    print(\"DONE..\")\n",
        "else: \n",
        "    # get 10k users and 1k movies from available data \n",
        "    sample_train_sparse_matrix = get_sample_sparse_matrix(train_sparse_matrix, no_users=10000, no_movies=1000,\n",
        "                                             path = path)\n",
        "\n",
        "print(datetime.now() - start)"
      ]
    },
    {
      "cell_type": "markdown",
      "metadata": {
        "id": "fQJ8BE0IxrqJ"
      },
      "source": [
        "<h3>Build sample test data from the test data</h3>"
      ]
    },
    {
      "cell_type": "code",
      "execution_count": 15,
      "metadata": {
        "colab": {
          "base_uri": "https://localhost:8080/"
        },
        "id": "8tPszXJ1xrqJ",
        "outputId": "a9bf4343-704d-4b93-9a4a-35e8ce82f470"
      },
      "outputs": [
        {
          "output_type": "stream",
          "name": "stdout",
          "text": [
            "It is present in your pwd, getting it from disk....\n",
            "DONE..\n",
            "0:00:00.920474\n"
          ]
        }
      ],
      "source": [
        "start = datetime.now()\n",
        "\n",
        "path = \"sample_test_sparse_matrix.npz\"\n",
        "if os.path.isfile(path):\n",
        "    print(\"It is present in your pwd, getting it from disk....\")\n",
        "    # just get it from the disk instead of computing it\n",
        "    sample_test_sparse_matrix = sparse.load_npz(path)\n",
        "    print(\"DONE..\")\n",
        "else:\n",
        "    # get 5k users and 500 movies from available data \n",
        "    sample_test_sparse_matrix = get_sample_sparse_matrix(test_sparse_matrix, no_users=5000, no_movies=500,\n",
        "                                                 path = \"sample_test_sparse_matrix.npz\")\n",
        "print(datetime.now() - start)"
      ]
    },
    {
      "cell_type": "markdown",
      "metadata": {
        "id": "tzF6Hwx0xrqL"
      },
      "source": [
        " "
      ]
    },
    {
      "cell_type": "markdown",
      "metadata": {
        "id": "BgTx-m-cxrqM"
      },
      "source": [
        "<h2>Finding Global Average of all movie ratings, Average rating per User, and Average rating per Movie (from sampled train)</h2>"
      ]
    },
    {
      "cell_type": "code",
      "execution_count": 16,
      "metadata": {
        "id": "Af8rljDExrqN"
      },
      "outputs": [],
      "source": [
        "sample_train_averages = dict()"
      ]
    },
    {
      "cell_type": "markdown",
      "metadata": {
        "id": "ZNMVuqWHxrqP"
      },
      "source": [
        "<h3>Finding Global Average of all movie ratings</h3>"
      ]
    },
    {
      "cell_type": "code",
      "execution_count": 17,
      "metadata": {
        "colab": {
          "base_uri": "https://localhost:8080/"
        },
        "id": "eJN92jujxrqQ",
        "outputId": "9aa2edfe-ed50-4223-fc08-6a7fc2123c15"
      },
      "outputs": [
        {
          "output_type": "execute_result",
          "data": {
            "text/plain": [
              "{'global': 3.581679377504138}"
            ]
          },
          "metadata": {},
          "execution_count": 17
        }
      ],
      "source": [
        "# get the global average of ratings in our train set.\n",
        "global_average = sample_train_sparse_matrix.sum()/sample_train_sparse_matrix.count_nonzero()\n",
        "sample_train_averages['global'] = global_average\n",
        "sample_train_averages"
      ]
    },
    {
      "cell_type": "markdown",
      "metadata": {
        "id": "A3ldVasnxrqS"
      },
      "source": [
        "<h3>Finding Average rating per User</h3>"
      ]
    },
    {
      "cell_type": "code",
      "execution_count": 18,
      "metadata": {
        "colab": {
          "base_uri": "https://localhost:8080/"
        },
        "id": "iLBPu2ObxrqT",
        "outputId": "ba617929-6bbb-40b1-edeb-5bd72605dd55",
        "scrolled": true
      },
      "outputs": [
        {
          "output_type": "stream",
          "name": "stdout",
          "text": [
            "\n",
            "Average rating of user 1515220 : 3.9655172413793105\n"
          ]
        }
      ],
      "source": [
        "sample_train_averages['user'] = get_average_ratings(sample_train_sparse_matrix, of_users=True)\n",
        "print('\\nAverage rating of user 1515220 :',sample_train_averages['user'][1515220])"
      ]
    },
    {
      "cell_type": "markdown",
      "metadata": {
        "id": "qiVaPz6AxrqV"
      },
      "source": [
        "<h3>Finding Average rating per Movie</h3>"
      ]
    },
    {
      "cell_type": "code",
      "execution_count": 19,
      "metadata": {
        "colab": {
          "base_uri": "https://localhost:8080/"
        },
        "id": "q8QD09k4xrqV",
        "outputId": "cc6fa365-17fe-4d0a-f632-22d1393a7d25",
        "scrolled": true
      },
      "outputs": [
        {
          "output_type": "stream",
          "name": "stdout",
          "text": [
            "\n",
            " AVerage rating of movie 15153 : 2.6458333333333335\n"
          ]
        }
      ],
      "source": [
        "sample_train_averages['movie'] =  get_average_ratings(sample_train_sparse_matrix, of_users=False)\n",
        "print('\\n AVerage rating of movie 15153 :',sample_train_averages['movie'][15153])"
      ]
    },
    {
      "cell_type": "markdown",
      "metadata": {
        "id": "JLZervrkxrqZ"
      },
      "source": [
        " "
      ]
    },
    {
      "cell_type": "markdown",
      "metadata": {
        "id": "xVwLprg-xrqZ"
      },
      "source": [
        "<h2> Featurizing data </h2>"
      ]
    },
    {
      "cell_type": "code",
      "execution_count": 20,
      "metadata": {
        "colab": {
          "base_uri": "https://localhost:8080/"
        },
        "id": "E85auQgixrqZ",
        "outputId": "fb14cb73-d16f-4b35-9b94-7fd8a4dc2478"
      },
      "outputs": [
        {
          "output_type": "stream",
          "name": "stdout",
          "text": [
            "\n",
            " No of ratings in Our Sampled train matrix is : 129286\n",
            "\n",
            "\n",
            " No of ratings in Our Sampled test  matrix is : 7333\n",
            "\n"
          ]
        }
      ],
      "source": [
        "print('\\n No of ratings in Our Sampled train matrix is : {}\\n'.format(sample_train_sparse_matrix.count_nonzero()))\n",
        "print('\\n No of ratings in Our Sampled test  matrix is : {}\\n'.format(sample_test_sparse_matrix.count_nonzero()))"
      ]
    },
    {
      "cell_type": "markdown",
      "metadata": {
        "id": "GZ7FYSibxrqc"
      },
      "source": [
        "<h3> Featurizing data for regression problem </h3>"
      ]
    },
    {
      "cell_type": "markdown",
      "metadata": {
        "id": "7ZMRQApaxrqc"
      },
      "source": [
        "<h4> Featurizing train data </h4>"
      ]
    },
    {
      "cell_type": "code",
      "execution_count": 21,
      "metadata": {
        "id": "jMTXqVR3xrqd"
      },
      "outputs": [],
      "source": [
        "# get users, movies and ratings from our samples train sparse matrix\n",
        "sample_train_users, sample_train_movies, sample_train_ratings = sparse.find(sample_train_sparse_matrix)"
      ]
    },
    {
      "cell_type": "code",
      "execution_count": 22,
      "metadata": {
        "colab": {
          "base_uri": "https://localhost:8080/"
        },
        "id": "Hr_gXr0ixrqh",
        "outputId": "e0ca59b1-5f5d-4236-9d4e-e194533040eb",
        "scrolled": true
      },
      "outputs": [
        {
          "output_type": "stream",
          "name": "stdout",
          "text": [
            "File already exists we don't have to prepare again...\n",
            "0:00:00.001529\n"
          ]
        }
      ],
      "source": [
        "############################################################\n",
        "# It took me almost 10 hours to prepare this train dataset.#\n",
        "############################################################\n",
        "start = datetime.now()\n",
        "if os.path.isfile('reg_train.csv'):\n",
        "    print(\"File already exists we don't have to prepare again...\" )\n",
        "else:\n",
        "    print('preparing {} tuples for the dataset..\\n'.format(len(sample_train_ratings)))\n",
        "    with open('reg_train.csv', mode='w') as reg_data_file:\n",
        "        count = 0\n",
        "        for (user, movie, rating)  in zip(sample_train_users, sample_train_movies, sample_train_ratings):\n",
        "            st = datetime.now()\n",
        "        #     print(user, movie)    \n",
        "            #--------------------- Ratings of \"movie\" by similar users of \"user\" ---------------------\n",
        "            # compute the similar Users of the \"user\"        \n",
        "            user_sim = cosine_similarity(sample_train_sparse_matrix[user], sample_train_sparse_matrix).ravel()\n",
        "            top_sim_users = user_sim.argsort()[::-1][1:] # we are ignoring 'The User' from its similar users.\n",
        "            # get the ratings of most similar users for this movie\n",
        "            top_ratings = sample_train_sparse_matrix[top_sim_users, movie].toarray().ravel()\n",
        "            # we will make it's length \"5\" by adding movie averages to .\n",
        "            top_sim_users_ratings = list(top_ratings[top_ratings != 0][:5])\n",
        "            top_sim_users_ratings.extend([sample_train_averages['movie'][movie]]*(5 - len(top_sim_users_ratings)))\n",
        "        #     print(top_sim_users_ratings, end=\" \")    \n",
        "\n",
        "\n",
        "            #--------------------- Ratings by \"user\"  to similar movies of \"movie\" ---------------------\n",
        "            # compute the similar movies of the \"movie\"        \n",
        "            movie_sim = cosine_similarity(sample_train_sparse_matrix[:,movie].T, sample_train_sparse_matrix.T).ravel()\n",
        "            top_sim_movies = movie_sim.argsort()[::-1][1:] # we are ignoring 'The User' from its similar users.\n",
        "            # get the ratings of most similar movie rated by this user..\n",
        "            top_ratings = sample_train_sparse_matrix[user, top_sim_movies].toarray().ravel()\n",
        "            # we will make it's length \"5\" by adding user averages to.\n",
        "            top_sim_movies_ratings = list(top_ratings[top_ratings != 0][:5])\n",
        "            top_sim_movies_ratings.extend([sample_train_averages['user'][user]]*(5-len(top_sim_movies_ratings))) \n",
        "        #     print(top_sim_movies_ratings, end=\" : -- \")\n",
        "\n",
        "            #-----------------prepare the row to be stored in a file-----------------#\n",
        "            row = list()\n",
        "            row.append(user)\n",
        "            row.append(movie)\n",
        "            # Now add the other features to this data...\n",
        "            row.append(sample_train_averages['global']) # first feature\n",
        "            # next 5 features are similar_users \"movie\" ratings\n",
        "            row.extend(top_sim_users_ratings)\n",
        "            # next 5 features are \"user\" ratings for similar_movies\n",
        "            row.extend(top_sim_movies_ratings)\n",
        "            # Avg_user rating\n",
        "            row.append(sample_train_averages['user'][user])\n",
        "            # Avg_movie rating\n",
        "            row.append(sample_train_averages['movie'][movie])\n",
        "\n",
        "            # finalley, The actual Rating of this user-movie pair...\n",
        "            row.append(rating)\n",
        "            count = count + 1\n",
        "\n",
        "            # add rows to the file opened..\n",
        "            reg_data_file.write(','.join(map(str, row)))\n",
        "            reg_data_file.write('\\n')        \n",
        "            if (count)%10000 == 0:\n",
        "                # print(','.join(map(str, row)))\n",
        "                print(\"Done for {} rows----- {}\".format(count, datetime.now() - start))\n",
        "\n",
        "\n",
        "print(datetime.now() - start)"
      ]
    },
    {
      "cell_type": "markdown",
      "metadata": {
        "id": "k3xJ8aWyxrqj"
      },
      "source": [
        "__Reading from the file to make a Train_dataframe__"
      ]
    },
    {
      "cell_type": "code",
      "execution_count": 23,
      "metadata": {
        "colab": {
          "base_uri": "https://localhost:8080/",
          "height": 206
        },
        "id": "oUs6s6AZxrqj",
        "outputId": "ec1035ae-b4cb-4e89-e088-6778b2c0afab"
      },
      "outputs": [
        {
          "output_type": "execute_result",
          "data": {
            "text/plain": [
              "     user  movie      GAvg  sur1  sur2  sur3  sur4  sur5  smr1  smr2  smr3  \\\n",
              "0   53406     33  3.581679   4.0   5.0   5.0   4.0   1.0   5.0   2.0   5.0   \n",
              "1   99540     33  3.581679   5.0   5.0   5.0   4.0   5.0   3.0   4.0   4.0   \n",
              "2   99865     33  3.581679   5.0   5.0   4.0   5.0   3.0   5.0   4.0   4.0   \n",
              "3  101620     33  3.581679   2.0   3.0   5.0   5.0   4.0   4.0   3.0   3.0   \n",
              "4  112974     33  3.581679   5.0   5.0   5.0   5.0   5.0   3.0   5.0   5.0   \n",
              "\n",
              "   smr4  smr5      UAvg      MAvg  rating  \n",
              "0   3.0   1.0  3.370370  4.092437       4  \n",
              "1   3.0   5.0  3.555556  4.092437       3  \n",
              "2   5.0   4.0  3.714286  4.092437       5  \n",
              "3   4.0   5.0  3.584416  4.092437       5  \n",
              "4   5.0   3.0  3.750000  4.092437       5  "
            ],
            "text/html": [
              "\n",
              "  <div id=\"df-5d9a1272-a1b9-4ff8-8478-1bb3a43a32bd\">\n",
              "    <div class=\"colab-df-container\">\n",
              "      <div>\n",
              "<style scoped>\n",
              "    .dataframe tbody tr th:only-of-type {\n",
              "        vertical-align: middle;\n",
              "    }\n",
              "\n",
              "    .dataframe tbody tr th {\n",
              "        vertical-align: top;\n",
              "    }\n",
              "\n",
              "    .dataframe thead th {\n",
              "        text-align: right;\n",
              "    }\n",
              "</style>\n",
              "<table border=\"1\" class=\"dataframe\">\n",
              "  <thead>\n",
              "    <tr style=\"text-align: right;\">\n",
              "      <th></th>\n",
              "      <th>user</th>\n",
              "      <th>movie</th>\n",
              "      <th>GAvg</th>\n",
              "      <th>sur1</th>\n",
              "      <th>sur2</th>\n",
              "      <th>sur3</th>\n",
              "      <th>sur4</th>\n",
              "      <th>sur5</th>\n",
              "      <th>smr1</th>\n",
              "      <th>smr2</th>\n",
              "      <th>smr3</th>\n",
              "      <th>smr4</th>\n",
              "      <th>smr5</th>\n",
              "      <th>UAvg</th>\n",
              "      <th>MAvg</th>\n",
              "      <th>rating</th>\n",
              "    </tr>\n",
              "  </thead>\n",
              "  <tbody>\n",
              "    <tr>\n",
              "      <th>0</th>\n",
              "      <td>53406</td>\n",
              "      <td>33</td>\n",
              "      <td>3.581679</td>\n",
              "      <td>4.0</td>\n",
              "      <td>5.0</td>\n",
              "      <td>5.0</td>\n",
              "      <td>4.0</td>\n",
              "      <td>1.0</td>\n",
              "      <td>5.0</td>\n",
              "      <td>2.0</td>\n",
              "      <td>5.0</td>\n",
              "      <td>3.0</td>\n",
              "      <td>1.0</td>\n",
              "      <td>3.370370</td>\n",
              "      <td>4.092437</td>\n",
              "      <td>4</td>\n",
              "    </tr>\n",
              "    <tr>\n",
              "      <th>1</th>\n",
              "      <td>99540</td>\n",
              "      <td>33</td>\n",
              "      <td>3.581679</td>\n",
              "      <td>5.0</td>\n",
              "      <td>5.0</td>\n",
              "      <td>5.0</td>\n",
              "      <td>4.0</td>\n",
              "      <td>5.0</td>\n",
              "      <td>3.0</td>\n",
              "      <td>4.0</td>\n",
              "      <td>4.0</td>\n",
              "      <td>3.0</td>\n",
              "      <td>5.0</td>\n",
              "      <td>3.555556</td>\n",
              "      <td>4.092437</td>\n",
              "      <td>3</td>\n",
              "    </tr>\n",
              "    <tr>\n",
              "      <th>2</th>\n",
              "      <td>99865</td>\n",
              "      <td>33</td>\n",
              "      <td>3.581679</td>\n",
              "      <td>5.0</td>\n",
              "      <td>5.0</td>\n",
              "      <td>4.0</td>\n",
              "      <td>5.0</td>\n",
              "      <td>3.0</td>\n",
              "      <td>5.0</td>\n",
              "      <td>4.0</td>\n",
              "      <td>4.0</td>\n",
              "      <td>5.0</td>\n",
              "      <td>4.0</td>\n",
              "      <td>3.714286</td>\n",
              "      <td>4.092437</td>\n",
              "      <td>5</td>\n",
              "    </tr>\n",
              "    <tr>\n",
              "      <th>3</th>\n",
              "      <td>101620</td>\n",
              "      <td>33</td>\n",
              "      <td>3.581679</td>\n",
              "      <td>2.0</td>\n",
              "      <td>3.0</td>\n",
              "      <td>5.0</td>\n",
              "      <td>5.0</td>\n",
              "      <td>4.0</td>\n",
              "      <td>4.0</td>\n",
              "      <td>3.0</td>\n",
              "      <td>3.0</td>\n",
              "      <td>4.0</td>\n",
              "      <td>5.0</td>\n",
              "      <td>3.584416</td>\n",
              "      <td>4.092437</td>\n",
              "      <td>5</td>\n",
              "    </tr>\n",
              "    <tr>\n",
              "      <th>4</th>\n",
              "      <td>112974</td>\n",
              "      <td>33</td>\n",
              "      <td>3.581679</td>\n",
              "      <td>5.0</td>\n",
              "      <td>5.0</td>\n",
              "      <td>5.0</td>\n",
              "      <td>5.0</td>\n",
              "      <td>5.0</td>\n",
              "      <td>3.0</td>\n",
              "      <td>5.0</td>\n",
              "      <td>5.0</td>\n",
              "      <td>5.0</td>\n",
              "      <td>3.0</td>\n",
              "      <td>3.750000</td>\n",
              "      <td>4.092437</td>\n",
              "      <td>5</td>\n",
              "    </tr>\n",
              "  </tbody>\n",
              "</table>\n",
              "</div>\n",
              "      <button class=\"colab-df-convert\" onclick=\"convertToInteractive('df-5d9a1272-a1b9-4ff8-8478-1bb3a43a32bd')\"\n",
              "              title=\"Convert this dataframe to an interactive table.\"\n",
              "              style=\"display:none;\">\n",
              "        \n",
              "  <svg xmlns=\"http://www.w3.org/2000/svg\" height=\"24px\"viewBox=\"0 0 24 24\"\n",
              "       width=\"24px\">\n",
              "    <path d=\"M0 0h24v24H0V0z\" fill=\"none\"/>\n",
              "    <path d=\"M18.56 5.44l.94 2.06.94-2.06 2.06-.94-2.06-.94-.94-2.06-.94 2.06-2.06.94zm-11 1L8.5 8.5l.94-2.06 2.06-.94-2.06-.94L8.5 2.5l-.94 2.06-2.06.94zm10 10l.94 2.06.94-2.06 2.06-.94-2.06-.94-.94-2.06-.94 2.06-2.06.94z\"/><path d=\"M17.41 7.96l-1.37-1.37c-.4-.4-.92-.59-1.43-.59-.52 0-1.04.2-1.43.59L10.3 9.45l-7.72 7.72c-.78.78-.78 2.05 0 2.83L4 21.41c.39.39.9.59 1.41.59.51 0 1.02-.2 1.41-.59l7.78-7.78 2.81-2.81c.8-.78.8-2.07 0-2.86zM5.41 20L4 18.59l7.72-7.72 1.47 1.35L5.41 20z\"/>\n",
              "  </svg>\n",
              "      </button>\n",
              "      \n",
              "  <style>\n",
              "    .colab-df-container {\n",
              "      display:flex;\n",
              "      flex-wrap:wrap;\n",
              "      gap: 12px;\n",
              "    }\n",
              "\n",
              "    .colab-df-convert {\n",
              "      background-color: #E8F0FE;\n",
              "      border: none;\n",
              "      border-radius: 50%;\n",
              "      cursor: pointer;\n",
              "      display: none;\n",
              "      fill: #1967D2;\n",
              "      height: 32px;\n",
              "      padding: 0 0 0 0;\n",
              "      width: 32px;\n",
              "    }\n",
              "\n",
              "    .colab-df-convert:hover {\n",
              "      background-color: #E2EBFA;\n",
              "      box-shadow: 0px 1px 2px rgba(60, 64, 67, 0.3), 0px 1px 3px 1px rgba(60, 64, 67, 0.15);\n",
              "      fill: #174EA6;\n",
              "    }\n",
              "\n",
              "    [theme=dark] .colab-df-convert {\n",
              "      background-color: #3B4455;\n",
              "      fill: #D2E3FC;\n",
              "    }\n",
              "\n",
              "    [theme=dark] .colab-df-convert:hover {\n",
              "      background-color: #434B5C;\n",
              "      box-shadow: 0px 1px 3px 1px rgba(0, 0, 0, 0.15);\n",
              "      filter: drop-shadow(0px 1px 2px rgba(0, 0, 0, 0.3));\n",
              "      fill: #FFFFFF;\n",
              "    }\n",
              "  </style>\n",
              "\n",
              "      <script>\n",
              "        const buttonEl =\n",
              "          document.querySelector('#df-5d9a1272-a1b9-4ff8-8478-1bb3a43a32bd button.colab-df-convert');\n",
              "        buttonEl.style.display =\n",
              "          google.colab.kernel.accessAllowed ? 'block' : 'none';\n",
              "\n",
              "        async function convertToInteractive(key) {\n",
              "          const element = document.querySelector('#df-5d9a1272-a1b9-4ff8-8478-1bb3a43a32bd');\n",
              "          const dataTable =\n",
              "            await google.colab.kernel.invokeFunction('convertToInteractive',\n",
              "                                                     [key], {});\n",
              "          if (!dataTable) return;\n",
              "\n",
              "          const docLinkHtml = 'Like what you see? Visit the ' +\n",
              "            '<a target=\"_blank\" href=https://colab.research.google.com/notebooks/data_table.ipynb>data table notebook</a>'\n",
              "            + ' to learn more about interactive tables.';\n",
              "          element.innerHTML = '';\n",
              "          dataTable['output_type'] = 'display_data';\n",
              "          await google.colab.output.renderOutput(dataTable, element);\n",
              "          const docLink = document.createElement('div');\n",
              "          docLink.innerHTML = docLinkHtml;\n",
              "          element.appendChild(docLink);\n",
              "        }\n",
              "      </script>\n",
              "    </div>\n",
              "  </div>\n",
              "  "
            ]
          },
          "metadata": {},
          "execution_count": 23
        }
      ],
      "source": [
        "reg_train = pd.read_csv('reg_train.csv', names = ['user', 'movie', 'GAvg', 'sur1', 'sur2', 'sur3', 'sur4', 'sur5','smr1', 'smr2', 'smr3', 'smr4', 'smr5', 'UAvg', 'MAvg', 'rating'], header=None)\n",
        "reg_train.head()"
      ]
    },
    {
      "cell_type": "markdown",
      "metadata": {
        "id": "e90d1zMCxrql"
      },
      "source": [
        "-----------------------\n",
        "\n",
        "- __GAvg__ : Average rating of all the ratings \n",
        "\n",
        "\n",
        "- __Similar users rating of this movie__:\n",
        "    - sur1, sur2, sur3, sur4, sur5 ( top 5 similar users who rated that movie.. )\n",
        "    \n",
        "\n",
        "\n",
        "- __Similar movies rated by this user__:\n",
        "    - smr1, smr2, smr3, smr4, smr5 ( top 5 similar movies rated by this movie.. )\n",
        "\n",
        "\n",
        "- __UAvg__ : User's Average rating\n",
        "\n",
        "\n",
        "- __MAvg__ : Average rating of this movie\n",
        "\n",
        "\n",
        "- __rating__ : Rating of this movie by this user.\n",
        "\n",
        "-----------------------"
      ]
    },
    {
      "cell_type": "markdown",
      "metadata": {
        "id": "kW-WflXTxrqm"
      },
      "source": [
        " "
      ]
    },
    {
      "cell_type": "markdown",
      "metadata": {
        "id": "r9vMR-Edxrqm"
      },
      "source": [
        "<h4> Featurizing test data </h4>"
      ]
    },
    {
      "cell_type": "code",
      "execution_count": 24,
      "metadata": {
        "id": "M2QBhCcMxrqm"
      },
      "outputs": [],
      "source": [
        "# get users, movies and ratings from the Sampled Test \n",
        "sample_test_users, sample_test_movies, sample_test_ratings = sparse.find(sample_test_sparse_matrix)"
      ]
    },
    {
      "cell_type": "code",
      "execution_count": 25,
      "metadata": {
        "colab": {
          "base_uri": "https://localhost:8080/"
        },
        "id": "nDL4-uKcxrqo",
        "outputId": "c6649263-1ccb-4e5a-86dc-cd62b2897632",
        "scrolled": true
      },
      "outputs": [
        {
          "output_type": "execute_result",
          "data": {
            "text/plain": [
              "3.581679377504138"
            ]
          },
          "metadata": {},
          "execution_count": 25
        }
      ],
      "source": [
        "sample_train_averages['global']"
      ]
    },
    {
      "cell_type": "code",
      "execution_count": 26,
      "metadata": {
        "colab": {
          "base_uri": "https://localhost:8080/"
        },
        "id": "CLVejZA3xrqs",
        "outputId": "a3f53e10-bbd7-4343-93f7-46322e017236"
      },
      "outputs": [
        {
          "output_type": "stream",
          "name": "stdout",
          "text": [
            "It is already created...\n"
          ]
        }
      ],
      "source": [
        "start = datetime.now()\n",
        "\n",
        "if os.path.isfile('reg_test.csv'):\n",
        "    print(\"It is already created...\")\n",
        "else:\n",
        "\n",
        "    print('preparing {} tuples for the dataset..\\n'.format(len(sample_test_ratings)))\n",
        "    with open('reg_test.csv', mode='w') as reg_data_file:\n",
        "        count = 0 \n",
        "        for (user, movie, rating)  in zip(sample_test_users, sample_test_movies, sample_test_ratings):\n",
        "            st = datetime.now()\n",
        "\n",
        "        #--------------------- Ratings of \"movie\" by similar users of \"user\" ---------------------\n",
        "            #print(user, movie)\n",
        "            try:\n",
        "                # compute the similar Users of the \"user\"        \n",
        "                user_sim = cosine_similarity(sample_train_sparse_matrix[user], sample_train_sparse_matrix).ravel()\n",
        "                top_sim_users = user_sim.argsort()[::-1][1:] # we are ignoring 'The User' from its similar users.\n",
        "                # get the ratings of most similar users for this movie\n",
        "                top_ratings = sample_train_sparse_matrix[top_sim_users, movie].toarray().ravel()\n",
        "                # we will make it's length \"5\" by adding movie averages to .\n",
        "                top_sim_users_ratings = list(top_ratings[top_ratings != 0][:5])\n",
        "                top_sim_users_ratings.extend([sample_train_averages['movie'][movie]]*(5 - len(top_sim_users_ratings)))\n",
        "                # print(top_sim_users_ratings, end=\"--\")\n",
        "\n",
        "            except (IndexError, KeyError):\n",
        "                # It is a new User or new Movie or there are no ratings for given user for top similar movies...\n",
        "                ########## Cold STart Problem ##########\n",
        "                top_sim_users_ratings.extend([sample_train_averages['global']]*(5 - len(top_sim_users_ratings)))\n",
        "                #print(top_sim_users_ratings)\n",
        "            except:\n",
        "                print(user, movie)\n",
        "                # we just want KeyErrors to be resolved. Not every Exception...\n",
        "                raise\n",
        "\n",
        "\n",
        "\n",
        "            #--------------------- Ratings by \"user\"  to similar movies of \"movie\" ---------------------\n",
        "            try:\n",
        "                # compute the similar movies of the \"movie\"        \n",
        "                movie_sim = cosine_similarity(sample_train_sparse_matrix[:,movie].T, sample_train_sparse_matrix.T).ravel()\n",
        "                top_sim_movies = movie_sim.argsort()[::-1][1:] # we are ignoring 'The User' from its similar users.\n",
        "                # get the ratings of most similar movie rated by this user..\n",
        "                top_ratings = sample_train_sparse_matrix[user, top_sim_movies].toarray().ravel()\n",
        "                # we will make it's length \"5\" by adding user averages to.\n",
        "                top_sim_movies_ratings = list(top_ratings[top_ratings != 0][:5])\n",
        "                top_sim_movies_ratings.extend([sample_train_averages['user'][user]]*(5-len(top_sim_movies_ratings))) \n",
        "                #print(top_sim_movies_ratings)\n",
        "            except (IndexError, KeyError):\n",
        "                #print(top_sim_movies_ratings, end=\" : -- \")\n",
        "                top_sim_movies_ratings.extend([sample_train_averages['global']]*(5-len(top_sim_movies_ratings)))\n",
        "                #print(top_sim_movies_ratings)\n",
        "            except :\n",
        "                raise\n",
        "\n",
        "            #-----------------prepare the row to be stores in a file-----------------#\n",
        "            row = list()\n",
        "            # add usser and movie name first\n",
        "            row.append(user)\n",
        "            row.append(movie)\n",
        "            row.append(sample_train_averages['global']) # first feature\n",
        "            #print(row)\n",
        "            # next 5 features are similar_users \"movie\" ratings\n",
        "            row.extend(top_sim_users_ratings)\n",
        "            #print(row)\n",
        "            # next 5 features are \"user\" ratings for similar_movies\n",
        "            row.extend(top_sim_movies_ratings)\n",
        "            #print(row)\n",
        "            # Avg_user rating\n",
        "            try:\n",
        "                row.append(sample_train_averages['user'][user])\n",
        "            except KeyError:\n",
        "                row.append(sample_train_averages['global'])\n",
        "            except:\n",
        "                raise\n",
        "            #print(row)\n",
        "            # Avg_movie rating\n",
        "            try:\n",
        "                row.append(sample_train_averages['movie'][movie])\n",
        "            except KeyError:\n",
        "                row.append(sample_train_averages['global'])\n",
        "            except:\n",
        "                raise\n",
        "            #print(row)\n",
        "            # finalley, The actual Rating of this user-movie pair...\n",
        "            row.append(rating)\n",
        "            #print(row)\n",
        "            count = count + 1\n",
        "\n",
        "            # add rows to the file opened..\n",
        "            reg_data_file.write(','.join(map(str, row)))\n",
        "            #print(','.join(map(str, row)))\n",
        "            reg_data_file.write('\\n')        \n",
        "            if (count)%1000 == 0:\n",
        "                #print(','.join(map(str, row)))\n",
        "                print(\"Done for {} rows----- {}\".format(count, datetime.now() - start))\n",
        "    print(\"\",datetime.now() - start)  "
      ]
    },
    {
      "cell_type": "markdown",
      "metadata": {
        "id": "RgiFyKukxrqu"
      },
      "source": [
        "__Reading from the file to make a test dataframe __"
      ]
    },
    {
      "cell_type": "code",
      "execution_count": 27,
      "metadata": {
        "colab": {
          "base_uri": "https://localhost:8080/",
          "height": 239
        },
        "id": "7mhv5Rztxrqv",
        "outputId": "52c36680-cfec-47d9-a911-780d7d28ea82"
      },
      "outputs": [
        {
          "output_type": "execute_result",
          "data": {
            "text/plain": [
              "      user  movie      GAvg      sur1      sur2      sur3      sur4      sur5  \\\n",
              "0   808635     71  3.581679  3.581679  3.581679  3.581679  3.581679  3.581679   \n",
              "1   941866     71  3.581679  3.581679  3.581679  3.581679  3.581679  3.581679   \n",
              "2  1737912     71  3.581679  3.581679  3.581679  3.581679  3.581679  3.581679   \n",
              "3  1849204     71  3.581679  3.581679  3.581679  3.581679  3.581679  3.581679   \n",
              "\n",
              "       smr1      smr2      smr3      smr4      smr5      UAvg      MAvg  \\\n",
              "0  3.581679  3.581679  3.581679  3.581679  3.581679  3.581679  3.581679   \n",
              "1  3.581679  3.581679  3.581679  3.581679  3.581679  3.581679  3.581679   \n",
              "2  3.581679  3.581679  3.581679  3.581679  3.581679  3.581679  3.581679   \n",
              "3  3.581679  3.581679  3.581679  3.581679  3.581679  3.581679  3.581679   \n",
              "\n",
              "   rating  \n",
              "0       5  \n",
              "1       4  \n",
              "2       3  \n",
              "3       4  "
            ],
            "text/html": [
              "\n",
              "  <div id=\"df-2f85b8d0-112d-4369-bd65-915fd6049603\">\n",
              "    <div class=\"colab-df-container\">\n",
              "      <div>\n",
              "<style scoped>\n",
              "    .dataframe tbody tr th:only-of-type {\n",
              "        vertical-align: middle;\n",
              "    }\n",
              "\n",
              "    .dataframe tbody tr th {\n",
              "        vertical-align: top;\n",
              "    }\n",
              "\n",
              "    .dataframe thead th {\n",
              "        text-align: right;\n",
              "    }\n",
              "</style>\n",
              "<table border=\"1\" class=\"dataframe\">\n",
              "  <thead>\n",
              "    <tr style=\"text-align: right;\">\n",
              "      <th></th>\n",
              "      <th>user</th>\n",
              "      <th>movie</th>\n",
              "      <th>GAvg</th>\n",
              "      <th>sur1</th>\n",
              "      <th>sur2</th>\n",
              "      <th>sur3</th>\n",
              "      <th>sur4</th>\n",
              "      <th>sur5</th>\n",
              "      <th>smr1</th>\n",
              "      <th>smr2</th>\n",
              "      <th>smr3</th>\n",
              "      <th>smr4</th>\n",
              "      <th>smr5</th>\n",
              "      <th>UAvg</th>\n",
              "      <th>MAvg</th>\n",
              "      <th>rating</th>\n",
              "    </tr>\n",
              "  </thead>\n",
              "  <tbody>\n",
              "    <tr>\n",
              "      <th>0</th>\n",
              "      <td>808635</td>\n",
              "      <td>71</td>\n",
              "      <td>3.581679</td>\n",
              "      <td>3.581679</td>\n",
              "      <td>3.581679</td>\n",
              "      <td>3.581679</td>\n",
              "      <td>3.581679</td>\n",
              "      <td>3.581679</td>\n",
              "      <td>3.581679</td>\n",
              "      <td>3.581679</td>\n",
              "      <td>3.581679</td>\n",
              "      <td>3.581679</td>\n",
              "      <td>3.581679</td>\n",
              "      <td>3.581679</td>\n",
              "      <td>3.581679</td>\n",
              "      <td>5</td>\n",
              "    </tr>\n",
              "    <tr>\n",
              "      <th>1</th>\n",
              "      <td>941866</td>\n",
              "      <td>71</td>\n",
              "      <td>3.581679</td>\n",
              "      <td>3.581679</td>\n",
              "      <td>3.581679</td>\n",
              "      <td>3.581679</td>\n",
              "      <td>3.581679</td>\n",
              "      <td>3.581679</td>\n",
              "      <td>3.581679</td>\n",
              "      <td>3.581679</td>\n",
              "      <td>3.581679</td>\n",
              "      <td>3.581679</td>\n",
              "      <td>3.581679</td>\n",
              "      <td>3.581679</td>\n",
              "      <td>3.581679</td>\n",
              "      <td>4</td>\n",
              "    </tr>\n",
              "    <tr>\n",
              "      <th>2</th>\n",
              "      <td>1737912</td>\n",
              "      <td>71</td>\n",
              "      <td>3.581679</td>\n",
              "      <td>3.581679</td>\n",
              "      <td>3.581679</td>\n",
              "      <td>3.581679</td>\n",
              "      <td>3.581679</td>\n",
              "      <td>3.581679</td>\n",
              "      <td>3.581679</td>\n",
              "      <td>3.581679</td>\n",
              "      <td>3.581679</td>\n",
              "      <td>3.581679</td>\n",
              "      <td>3.581679</td>\n",
              "      <td>3.581679</td>\n",
              "      <td>3.581679</td>\n",
              "      <td>3</td>\n",
              "    </tr>\n",
              "    <tr>\n",
              "      <th>3</th>\n",
              "      <td>1849204</td>\n",
              "      <td>71</td>\n",
              "      <td>3.581679</td>\n",
              "      <td>3.581679</td>\n",
              "      <td>3.581679</td>\n",
              "      <td>3.581679</td>\n",
              "      <td>3.581679</td>\n",
              "      <td>3.581679</td>\n",
              "      <td>3.581679</td>\n",
              "      <td>3.581679</td>\n",
              "      <td>3.581679</td>\n",
              "      <td>3.581679</td>\n",
              "      <td>3.581679</td>\n",
              "      <td>3.581679</td>\n",
              "      <td>3.581679</td>\n",
              "      <td>4</td>\n",
              "    </tr>\n",
              "  </tbody>\n",
              "</table>\n",
              "</div>\n",
              "      <button class=\"colab-df-convert\" onclick=\"convertToInteractive('df-2f85b8d0-112d-4369-bd65-915fd6049603')\"\n",
              "              title=\"Convert this dataframe to an interactive table.\"\n",
              "              style=\"display:none;\">\n",
              "        \n",
              "  <svg xmlns=\"http://www.w3.org/2000/svg\" height=\"24px\"viewBox=\"0 0 24 24\"\n",
              "       width=\"24px\">\n",
              "    <path d=\"M0 0h24v24H0V0z\" fill=\"none\"/>\n",
              "    <path d=\"M18.56 5.44l.94 2.06.94-2.06 2.06-.94-2.06-.94-.94-2.06-.94 2.06-2.06.94zm-11 1L8.5 8.5l.94-2.06 2.06-.94-2.06-.94L8.5 2.5l-.94 2.06-2.06.94zm10 10l.94 2.06.94-2.06 2.06-.94-2.06-.94-.94-2.06-.94 2.06-2.06.94z\"/><path d=\"M17.41 7.96l-1.37-1.37c-.4-.4-.92-.59-1.43-.59-.52 0-1.04.2-1.43.59L10.3 9.45l-7.72 7.72c-.78.78-.78 2.05 0 2.83L4 21.41c.39.39.9.59 1.41.59.51 0 1.02-.2 1.41-.59l7.78-7.78 2.81-2.81c.8-.78.8-2.07 0-2.86zM5.41 20L4 18.59l7.72-7.72 1.47 1.35L5.41 20z\"/>\n",
              "  </svg>\n",
              "      </button>\n",
              "      \n",
              "  <style>\n",
              "    .colab-df-container {\n",
              "      display:flex;\n",
              "      flex-wrap:wrap;\n",
              "      gap: 12px;\n",
              "    }\n",
              "\n",
              "    .colab-df-convert {\n",
              "      background-color: #E8F0FE;\n",
              "      border: none;\n",
              "      border-radius: 50%;\n",
              "      cursor: pointer;\n",
              "      display: none;\n",
              "      fill: #1967D2;\n",
              "      height: 32px;\n",
              "      padding: 0 0 0 0;\n",
              "      width: 32px;\n",
              "    }\n",
              "\n",
              "    .colab-df-convert:hover {\n",
              "      background-color: #E2EBFA;\n",
              "      box-shadow: 0px 1px 2px rgba(60, 64, 67, 0.3), 0px 1px 3px 1px rgba(60, 64, 67, 0.15);\n",
              "      fill: #174EA6;\n",
              "    }\n",
              "\n",
              "    [theme=dark] .colab-df-convert {\n",
              "      background-color: #3B4455;\n",
              "      fill: #D2E3FC;\n",
              "    }\n",
              "\n",
              "    [theme=dark] .colab-df-convert:hover {\n",
              "      background-color: #434B5C;\n",
              "      box-shadow: 0px 1px 3px 1px rgba(0, 0, 0, 0.15);\n",
              "      filter: drop-shadow(0px 1px 2px rgba(0, 0, 0, 0.3));\n",
              "      fill: #FFFFFF;\n",
              "    }\n",
              "  </style>\n",
              "\n",
              "      <script>\n",
              "        const buttonEl =\n",
              "          document.querySelector('#df-2f85b8d0-112d-4369-bd65-915fd6049603 button.colab-df-convert');\n",
              "        buttonEl.style.display =\n",
              "          google.colab.kernel.accessAllowed ? 'block' : 'none';\n",
              "\n",
              "        async function convertToInteractive(key) {\n",
              "          const element = document.querySelector('#df-2f85b8d0-112d-4369-bd65-915fd6049603');\n",
              "          const dataTable =\n",
              "            await google.colab.kernel.invokeFunction('convertToInteractive',\n",
              "                                                     [key], {});\n",
              "          if (!dataTable) return;\n",
              "\n",
              "          const docLinkHtml = 'Like what you see? Visit the ' +\n",
              "            '<a target=\"_blank\" href=https://colab.research.google.com/notebooks/data_table.ipynb>data table notebook</a>'\n",
              "            + ' to learn more about interactive tables.';\n",
              "          element.innerHTML = '';\n",
              "          dataTable['output_type'] = 'display_data';\n",
              "          await google.colab.output.renderOutput(dataTable, element);\n",
              "          const docLink = document.createElement('div');\n",
              "          docLink.innerHTML = docLinkHtml;\n",
              "          element.appendChild(docLink);\n",
              "        }\n",
              "      </script>\n",
              "    </div>\n",
              "  </div>\n",
              "  "
            ]
          },
          "metadata": {},
          "execution_count": 27
        }
      ],
      "source": [
        "reg_test_df = pd.read_csv('reg_test.csv', names = ['user', 'movie', 'GAvg', 'sur1', 'sur2', 'sur3', 'sur4', 'sur5',\n",
        "                                                          'smr1', 'smr2', 'smr3', 'smr4', 'smr5',\n",
        "                                                          'UAvg', 'MAvg', 'rating'], header=None)\n",
        "reg_test_df.head(4)"
      ]
    },
    {
      "cell_type": "markdown",
      "metadata": {
        "id": "_vWmzUruxrqx"
      },
      "source": [
        "-----------------------\n",
        "\n",
        "- __GAvg__ : Average rating of all the ratings \n",
        "\n",
        "\n",
        "- __Similar users rating of this movie__:\n",
        "    - sur1, sur2, sur3, sur4, sur5 ( top 5 simiular users who rated that movie.. )\n",
        "    \n",
        "\n",
        "\n",
        "- __Similar movies rated by this user__:\n",
        "    - smr1, smr2, smr3, smr4, smr5 ( top 5 simiular movies rated by this movie.. )\n",
        "\n",
        "\n",
        "- __UAvg__ : User AVerage rating\n",
        "\n",
        "\n",
        "- __MAvg__ : Average rating of this movie\n",
        "\n",
        "\n",
        "- __rating__ : Rating of this movie by this user.\n",
        "\n",
        "-----------------------"
      ]
    },
    {
      "cell_type": "markdown",
      "metadata": {
        "id": "QM1iX_xyxrqx"
      },
      "source": [
        " "
      ]
    },
    {
      "cell_type": "markdown",
      "metadata": {
        "id": "tLaiV_tZxrqy"
      },
      "source": [
        "<h3> Transforming data for Surprise models</h3>"
      ]
    },
    {
      "cell_type": "code",
      "execution_count": 28,
      "metadata": {
        "colab": {
          "base_uri": "https://localhost:8080/"
        },
        "id": "tczhJmmSMQI_",
        "outputId": "149fa004-d5f6-4182-de3f-c8410622a6db"
      },
      "outputs": [
        {
          "output_type": "stream",
          "name": "stdout",
          "text": [
            "Looking in indexes: https://pypi.org/simple, https://us-python.pkg.dev/colab-wheels/public/simple/\n",
            "Collecting surprise\n",
            "  Downloading surprise-0.1-py2.py3-none-any.whl (1.8 kB)\n",
            "Collecting scikit-surprise\n",
            "  Downloading scikit-surprise-1.1.1.tar.gz (11.8 MB)\n",
            "\u001b[K     |████████████████████████████████| 11.8 MB 4.2 MB/s \n",
            "\u001b[?25hRequirement already satisfied: joblib>=0.11 in /usr/local/lib/python3.7/dist-packages (from scikit-surprise->surprise) (1.2.0)\n",
            "Requirement already satisfied: numpy>=1.11.2 in /usr/local/lib/python3.7/dist-packages (from scikit-surprise->surprise) (1.21.6)\n",
            "Requirement already satisfied: scipy>=1.0.0 in /usr/local/lib/python3.7/dist-packages (from scikit-surprise->surprise) (1.7.3)\n",
            "Requirement already satisfied: six>=1.10.0 in /usr/local/lib/python3.7/dist-packages (from scikit-surprise->surprise) (1.15.0)\n",
            "Building wheels for collected packages: scikit-surprise\n",
            "  Building wheel for scikit-surprise (setup.py) ... \u001b[?25l\u001b[?25hdone\n",
            "  Created wheel for scikit-surprise: filename=scikit_surprise-1.1.1-cp37-cp37m-linux_x86_64.whl size=1633976 sha256=526cf19b29969cea789cfea9dd47c1878bc1e9381d15f7d4257a691b198545e4\n",
            "  Stored in directory: /root/.cache/pip/wheels/76/44/74/b498c42be47b2406bd27994e16c5188e337c657025ab400c1c\n",
            "Successfully built scikit-surprise\n",
            "Installing collected packages: scikit-surprise, surprise\n",
            "Successfully installed scikit-surprise-1.1.1 surprise-0.1\n"
          ]
        }
      ],
      "source": [
        "!pip install surprise"
      ]
    },
    {
      "cell_type": "code",
      "execution_count": 29,
      "metadata": {
        "id": "2d2vQJ5lxrqy"
      },
      "outputs": [],
      "source": [
        "from surprise import Reader, Dataset"
      ]
    },
    {
      "cell_type": "markdown",
      "metadata": {
        "id": "YzeK0zA9xrq0"
      },
      "source": [
        "<h4> Transforming train data </h4>"
      ]
    },
    {
      "cell_type": "markdown",
      "metadata": {
        "id": "0l0rgL1qxrq1"
      },
      "source": [
        "- We can't give raw data (movie, user, rating) to train the model in Surprise library.\n",
        "\n",
        "\n",
        "- They have a separate format for TRAIN and TEST data, which will be useful for training the models like SVD, KNNBaseLineOnly....etc..,in Surprise.\n",
        "\n",
        "\n",
        "- We can form the trainset from a file, or from a Pandas  DataFrame. \n",
        "http://surprise.readthedocs.io/en/stable/getting_started.html#load-dom-dataframe-py "
      ]
    },
    {
      "cell_type": "code",
      "execution_count": 30,
      "metadata": {
        "id": "z9TA98dwxrq1"
      },
      "outputs": [],
      "source": [
        "# It is to specify how to read the dataframe.\n",
        "# for our dataframe, we don't have to specify anything extra..\n",
        "reader = Reader(rating_scale=(1,5))\n",
        "\n",
        "# create the traindata from the dataframe...\n",
        "train_data = Dataset.load_from_df(reg_train[['user', 'movie', 'rating']], reader)\n",
        "\n",
        "# build the trainset from traindata.., It is of dataset format from surprise library..\n",
        "trainset = train_data.build_full_trainset() "
      ]
    },
    {
      "cell_type": "markdown",
      "metadata": {
        "id": "6OTXxLz-xrq2"
      },
      "source": [
        "<h4> Transforming test data </h4>"
      ]
    },
    {
      "cell_type": "markdown",
      "metadata": {
        "id": "iwKbEi_uxrq2"
      },
      "source": [
        "- Testset is just a list of (user, movie, rating) tuples. (Order in the tuple is impotant) "
      ]
    },
    {
      "cell_type": "code",
      "execution_count": 33,
      "metadata": {
        "colab": {
          "base_uri": "https://localhost:8080/"
        },
        "id": "v3jqrt6lxrq2",
        "outputId": "ab701229-8228-4588-a7fe-29bc362575b9"
      },
      "outputs": [
        {
          "output_type": "execute_result",
          "data": {
            "text/plain": [
              "[(808635, 71, 5), (941866, 71, 4), (1737912, 71, 3)]"
            ]
          },
          "metadata": {},
          "execution_count": 33
        }
      ],
      "source": [
        "testset = list(zip(reg_test_df.user.values, reg_test_df.movie.values, reg_test_df.rating.values))\n",
        "testset[:3]"
      ]
    },
    {
      "cell_type": "code",
      "execution_count": 34,
      "metadata": {
        "id": "RxI14Fh1iHgp"
      },
      "outputs": [],
      "source": [
        "train_data_A1 = reg_train[['user', 'movie', 'rating']]\n",
        "test_data_A1 = reg_test_df[['user', 'movie', 'rating']]"
      ]
    },
    {
      "cell_type": "code",
      "execution_count": null,
      "metadata": {
        "colab": {
          "base_uri": "https://localhost:8080/",
          "height": 206
        },
        "id": "do-SLaVFiKVz",
        "outputId": "dfccc032-ba7c-444c-9412-54901688c173"
      },
      "outputs": [
        {
          "data": {
            "text/html": [
              "\n",
              "  <div id=\"df-5b0afb00-bf84-4a4c-936b-1964a88dafd6\">\n",
              "    <div class=\"colab-df-container\">\n",
              "      <div>\n",
              "<style scoped>\n",
              "    .dataframe tbody tr th:only-of-type {\n",
              "        vertical-align: middle;\n",
              "    }\n",
              "\n",
              "    .dataframe tbody tr th {\n",
              "        vertical-align: top;\n",
              "    }\n",
              "\n",
              "    .dataframe thead th {\n",
              "        text-align: right;\n",
              "    }\n",
              "</style>\n",
              "<table border=\"1\" class=\"dataframe\">\n",
              "  <thead>\n",
              "    <tr style=\"text-align: right;\">\n",
              "      <th></th>\n",
              "      <th>user</th>\n",
              "      <th>movie</th>\n",
              "      <th>rating</th>\n",
              "    </tr>\n",
              "  </thead>\n",
              "  <tbody>\n",
              "    <tr>\n",
              "      <th>0</th>\n",
              "      <td>53406</td>\n",
              "      <td>33</td>\n",
              "      <td>4</td>\n",
              "    </tr>\n",
              "    <tr>\n",
              "      <th>1</th>\n",
              "      <td>99540</td>\n",
              "      <td>33</td>\n",
              "      <td>3</td>\n",
              "    </tr>\n",
              "    <tr>\n",
              "      <th>2</th>\n",
              "      <td>99865</td>\n",
              "      <td>33</td>\n",
              "      <td>5</td>\n",
              "    </tr>\n",
              "    <tr>\n",
              "      <th>3</th>\n",
              "      <td>101620</td>\n",
              "      <td>33</td>\n",
              "      <td>5</td>\n",
              "    </tr>\n",
              "    <tr>\n",
              "      <th>4</th>\n",
              "      <td>112974</td>\n",
              "      <td>33</td>\n",
              "      <td>5</td>\n",
              "    </tr>\n",
              "  </tbody>\n",
              "</table>\n",
              "</div>\n",
              "      <button class=\"colab-df-convert\" onclick=\"convertToInteractive('df-5b0afb00-bf84-4a4c-936b-1964a88dafd6')\"\n",
              "              title=\"Convert this dataframe to an interactive table.\"\n",
              "              style=\"display:none;\">\n",
              "        \n",
              "  <svg xmlns=\"http://www.w3.org/2000/svg\" height=\"24px\"viewBox=\"0 0 24 24\"\n",
              "       width=\"24px\">\n",
              "    <path d=\"M0 0h24v24H0V0z\" fill=\"none\"/>\n",
              "    <path d=\"M18.56 5.44l.94 2.06.94-2.06 2.06-.94-2.06-.94-.94-2.06-.94 2.06-2.06.94zm-11 1L8.5 8.5l.94-2.06 2.06-.94-2.06-.94L8.5 2.5l-.94 2.06-2.06.94zm10 10l.94 2.06.94-2.06 2.06-.94-2.06-.94-.94-2.06-.94 2.06-2.06.94z\"/><path d=\"M17.41 7.96l-1.37-1.37c-.4-.4-.92-.59-1.43-.59-.52 0-1.04.2-1.43.59L10.3 9.45l-7.72 7.72c-.78.78-.78 2.05 0 2.83L4 21.41c.39.39.9.59 1.41.59.51 0 1.02-.2 1.41-.59l7.78-7.78 2.81-2.81c.8-.78.8-2.07 0-2.86zM5.41 20L4 18.59l7.72-7.72 1.47 1.35L5.41 20z\"/>\n",
              "  </svg>\n",
              "      </button>\n",
              "      \n",
              "  <style>\n",
              "    .colab-df-container {\n",
              "      display:flex;\n",
              "      flex-wrap:wrap;\n",
              "      gap: 12px;\n",
              "    }\n",
              "\n",
              "    .colab-df-convert {\n",
              "      background-color: #E8F0FE;\n",
              "      border: none;\n",
              "      border-radius: 50%;\n",
              "      cursor: pointer;\n",
              "      display: none;\n",
              "      fill: #1967D2;\n",
              "      height: 32px;\n",
              "      padding: 0 0 0 0;\n",
              "      width: 32px;\n",
              "    }\n",
              "\n",
              "    .colab-df-convert:hover {\n",
              "      background-color: #E2EBFA;\n",
              "      box-shadow: 0px 1px 2px rgba(60, 64, 67, 0.3), 0px 1px 3px 1px rgba(60, 64, 67, 0.15);\n",
              "      fill: #174EA6;\n",
              "    }\n",
              "\n",
              "    [theme=dark] .colab-df-convert {\n",
              "      background-color: #3B4455;\n",
              "      fill: #D2E3FC;\n",
              "    }\n",
              "\n",
              "    [theme=dark] .colab-df-convert:hover {\n",
              "      background-color: #434B5C;\n",
              "      box-shadow: 0px 1px 3px 1px rgba(0, 0, 0, 0.15);\n",
              "      filter: drop-shadow(0px 1px 2px rgba(0, 0, 0, 0.3));\n",
              "      fill: #FFFFFF;\n",
              "    }\n",
              "  </style>\n",
              "\n",
              "      <script>\n",
              "        const buttonEl =\n",
              "          document.querySelector('#df-5b0afb00-bf84-4a4c-936b-1964a88dafd6 button.colab-df-convert');\n",
              "        buttonEl.style.display =\n",
              "          google.colab.kernel.accessAllowed ? 'block' : 'none';\n",
              "\n",
              "        async function convertToInteractive(key) {\n",
              "          const element = document.querySelector('#df-5b0afb00-bf84-4a4c-936b-1964a88dafd6');\n",
              "          const dataTable =\n",
              "            await google.colab.kernel.invokeFunction('convertToInteractive',\n",
              "                                                     [key], {});\n",
              "          if (!dataTable) return;\n",
              "\n",
              "          const docLinkHtml = 'Like what you see? Visit the ' +\n",
              "            '<a target=\"_blank\" href=https://colab.research.google.com/notebooks/data_table.ipynb>data table notebook</a>'\n",
              "            + ' to learn more about interactive tables.';\n",
              "          element.innerHTML = '';\n",
              "          dataTable['output_type'] = 'display_data';\n",
              "          await google.colab.output.renderOutput(dataTable, element);\n",
              "          const docLink = document.createElement('div');\n",
              "          docLink.innerHTML = docLinkHtml;\n",
              "          element.appendChild(docLink);\n",
              "        }\n",
              "      </script>\n",
              "    </div>\n",
              "  </div>\n",
              "  "
            ],
            "text/plain": [
              "     user  movie  rating\n",
              "0   53406     33       4\n",
              "1   99540     33       3\n",
              "2   99865     33       5\n",
              "3  101620     33       5\n",
              "4  112974     33       5"
            ]
          },
          "execution_count": 45,
          "metadata": {},
          "output_type": "execute_result"
        }
      ],
      "source": [
        "train_data_A1.head()"
      ]
    },
    {
      "cell_type": "code",
      "execution_count": null,
      "metadata": {
        "colab": {
          "base_uri": "https://localhost:8080/",
          "height": 206
        },
        "id": "HZjFSRbhkQ8k",
        "outputId": "3b837f4d-3359-4ec7-dbbd-6fb79c06b130"
      },
      "outputs": [
        {
          "data": {
            "text/html": [
              "\n",
              "  <div id=\"df-d645844e-b6e8-4355-bd64-1e3d493fa7ed\">\n",
              "    <div class=\"colab-df-container\">\n",
              "      <div>\n",
              "<style scoped>\n",
              "    .dataframe tbody tr th:only-of-type {\n",
              "        vertical-align: middle;\n",
              "    }\n",
              "\n",
              "    .dataframe tbody tr th {\n",
              "        vertical-align: top;\n",
              "    }\n",
              "\n",
              "    .dataframe thead th {\n",
              "        text-align: right;\n",
              "    }\n",
              "</style>\n",
              "<table border=\"1\" class=\"dataframe\">\n",
              "  <thead>\n",
              "    <tr style=\"text-align: right;\">\n",
              "      <th></th>\n",
              "      <th>user</th>\n",
              "      <th>movie</th>\n",
              "      <th>rating</th>\n",
              "    </tr>\n",
              "  </thead>\n",
              "  <tbody>\n",
              "    <tr>\n",
              "      <th>0</th>\n",
              "      <td>808635</td>\n",
              "      <td>71</td>\n",
              "      <td>5</td>\n",
              "    </tr>\n",
              "    <tr>\n",
              "      <th>1</th>\n",
              "      <td>941866</td>\n",
              "      <td>71</td>\n",
              "      <td>4</td>\n",
              "    </tr>\n",
              "    <tr>\n",
              "      <th>2</th>\n",
              "      <td>1737912</td>\n",
              "      <td>71</td>\n",
              "      <td>3</td>\n",
              "    </tr>\n",
              "    <tr>\n",
              "      <th>3</th>\n",
              "      <td>1849204</td>\n",
              "      <td>71</td>\n",
              "      <td>4</td>\n",
              "    </tr>\n",
              "    <tr>\n",
              "      <th>4</th>\n",
              "      <td>28572</td>\n",
              "      <td>111</td>\n",
              "      <td>1</td>\n",
              "    </tr>\n",
              "  </tbody>\n",
              "</table>\n",
              "</div>\n",
              "      <button class=\"colab-df-convert\" onclick=\"convertToInteractive('df-d645844e-b6e8-4355-bd64-1e3d493fa7ed')\"\n",
              "              title=\"Convert this dataframe to an interactive table.\"\n",
              "              style=\"display:none;\">\n",
              "        \n",
              "  <svg xmlns=\"http://www.w3.org/2000/svg\" height=\"24px\"viewBox=\"0 0 24 24\"\n",
              "       width=\"24px\">\n",
              "    <path d=\"M0 0h24v24H0V0z\" fill=\"none\"/>\n",
              "    <path d=\"M18.56 5.44l.94 2.06.94-2.06 2.06-.94-2.06-.94-.94-2.06-.94 2.06-2.06.94zm-11 1L8.5 8.5l.94-2.06 2.06-.94-2.06-.94L8.5 2.5l-.94 2.06-2.06.94zm10 10l.94 2.06.94-2.06 2.06-.94-2.06-.94-.94-2.06-.94 2.06-2.06.94z\"/><path d=\"M17.41 7.96l-1.37-1.37c-.4-.4-.92-.59-1.43-.59-.52 0-1.04.2-1.43.59L10.3 9.45l-7.72 7.72c-.78.78-.78 2.05 0 2.83L4 21.41c.39.39.9.59 1.41.59.51 0 1.02-.2 1.41-.59l7.78-7.78 2.81-2.81c.8-.78.8-2.07 0-2.86zM5.41 20L4 18.59l7.72-7.72 1.47 1.35L5.41 20z\"/>\n",
              "  </svg>\n",
              "      </button>\n",
              "      \n",
              "  <style>\n",
              "    .colab-df-container {\n",
              "      display:flex;\n",
              "      flex-wrap:wrap;\n",
              "      gap: 12px;\n",
              "    }\n",
              "\n",
              "    .colab-df-convert {\n",
              "      background-color: #E8F0FE;\n",
              "      border: none;\n",
              "      border-radius: 50%;\n",
              "      cursor: pointer;\n",
              "      display: none;\n",
              "      fill: #1967D2;\n",
              "      height: 32px;\n",
              "      padding: 0 0 0 0;\n",
              "      width: 32px;\n",
              "    }\n",
              "\n",
              "    .colab-df-convert:hover {\n",
              "      background-color: #E2EBFA;\n",
              "      box-shadow: 0px 1px 2px rgba(60, 64, 67, 0.3), 0px 1px 3px 1px rgba(60, 64, 67, 0.15);\n",
              "      fill: #174EA6;\n",
              "    }\n",
              "\n",
              "    [theme=dark] .colab-df-convert {\n",
              "      background-color: #3B4455;\n",
              "      fill: #D2E3FC;\n",
              "    }\n",
              "\n",
              "    [theme=dark] .colab-df-convert:hover {\n",
              "      background-color: #434B5C;\n",
              "      box-shadow: 0px 1px 3px 1px rgba(0, 0, 0, 0.15);\n",
              "      filter: drop-shadow(0px 1px 2px rgba(0, 0, 0, 0.3));\n",
              "      fill: #FFFFFF;\n",
              "    }\n",
              "  </style>\n",
              "\n",
              "      <script>\n",
              "        const buttonEl =\n",
              "          document.querySelector('#df-d645844e-b6e8-4355-bd64-1e3d493fa7ed button.colab-df-convert');\n",
              "        buttonEl.style.display =\n",
              "          google.colab.kernel.accessAllowed ? 'block' : 'none';\n",
              "\n",
              "        async function convertToInteractive(key) {\n",
              "          const element = document.querySelector('#df-d645844e-b6e8-4355-bd64-1e3d493fa7ed');\n",
              "          const dataTable =\n",
              "            await google.colab.kernel.invokeFunction('convertToInteractive',\n",
              "                                                     [key], {});\n",
              "          if (!dataTable) return;\n",
              "\n",
              "          const docLinkHtml = 'Like what you see? Visit the ' +\n",
              "            '<a target=\"_blank\" href=https://colab.research.google.com/notebooks/data_table.ipynb>data table notebook</a>'\n",
              "            + ' to learn more about interactive tables.';\n",
              "          element.innerHTML = '';\n",
              "          dataTable['output_type'] = 'display_data';\n",
              "          await google.colab.output.renderOutput(dataTable, element);\n",
              "          const docLink = document.createElement('div');\n",
              "          docLink.innerHTML = docLinkHtml;\n",
              "          element.appendChild(docLink);\n",
              "        }\n",
              "      </script>\n",
              "    </div>\n",
              "  </div>\n",
              "  "
            ],
            "text/plain": [
              "      user  movie  rating\n",
              "0   808635     71       5\n",
              "1   941866     71       4\n",
              "2  1737912     71       3\n",
              "3  1849204     71       4\n",
              "4    28572    111       1"
            ]
          },
          "execution_count": 46,
          "metadata": {},
          "output_type": "execute_result"
        }
      ],
      "source": [
        "test_data_A1.head()"
      ]
    },
    {
      "cell_type": "markdown",
      "metadata": {
        "id": "ZzgDaBL_xrq8"
      },
      "source": [
        "<h2>Applying Machine Learning models </h2>"
      ]
    },
    {
      "cell_type": "markdown",
      "metadata": {
        "id": "YRL_TP7axrq9"
      },
      "source": [
        "-  Global dictionary that stores rmse and mape for all the models....\n",
        "\n",
        "    - It stores the metrics in a dictionary of dictionaries\n",
        "\n",
        "    > __keys__ : model names(string)\n",
        "\n",
        "    > __value__: dict(__key__ : metric, __value__ : value ) "
      ]
    },
    {
      "cell_type": "code",
      "execution_count": 35,
      "metadata": {
        "colab": {
          "base_uri": "https://localhost:8080/"
        },
        "id": "9sKjPQMExrq9",
        "outputId": "8218a15b-cecd-4ffd-b988-16a9357a585b"
      },
      "outputs": [
        {
          "output_type": "execute_result",
          "data": {
            "text/plain": [
              "({}, {})"
            ]
          },
          "metadata": {},
          "execution_count": 35
        }
      ],
      "source": [
        "models_evaluation_train = dict()\n",
        "models_evaluation_test = dict()\n",
        "\n",
        "models_evaluation_train, models_evaluation_test"
      ]
    },
    {
      "cell_type": "markdown",
      "metadata": {
        "id": "Ca6rt6ZixrrA"
      },
      "source": [
        " "
      ]
    },
    {
      "cell_type": "markdown",
      "metadata": {
        "id": "Cg4ii0eRxrrB"
      },
      "source": [
        " > __Utility functions for running regression models__"
      ]
    },
    {
      "cell_type": "code",
      "execution_count": 40,
      "metadata": {
        "id": "6h_z36v6xrrE"
      },
      "outputs": [],
      "source": [
        "# to get rmse and mape given actual and predicted ratings..\n",
        "def get_error_metrics(y_true, y_pred):\n",
        "    rmse = np.sqrt(np.mean([ (y_true[i] - y_pred[i])**2 for i in range(len(y_pred)) ]))\n",
        "    mape = np.mean(np.abs( (y_true - y_pred)/y_true )) * 100\n",
        "    return rmse, mape\n",
        "\n",
        "###################################################################\n",
        "###################################################################\n",
        "def run_xgboost(algo,  x_train, y_train, x_test, y_test, verbose=True):\n",
        "    \"\"\"\n",
        "    It will return train_results and test_results\n",
        "    \"\"\"\n",
        "    \n",
        "    # dictionaries for storing train and test results\n",
        "    train_results = dict()\n",
        "    test_results = dict()\n",
        "    \n",
        "    \n",
        "    # fit the model\n",
        "    print('Training the model..')\n",
        "    start =datetime.now()\n",
        "    algo.fit(x_train, y_train, eval_metric = 'rmse')\n",
        "    print('Done. Time taken : {}\\n'.format(datetime.now()-start))\n",
        "    print('Done \\n')\n",
        "\n",
        "    # from the trained model, get the predictions....\n",
        "    print('Evaluating the model with TRAIN data...')\n",
        "    start =datetime.now()\n",
        "    y_train_pred = algo.predict(x_train)\n",
        "    # get the rmse and mape of train data...\n",
        "    rmse_train, mape_train = get_error_metrics(y_train.values, y_train_pred)\n",
        "    \n",
        "    # store the results in train_results dictionary..\n",
        "    train_results = {'rmse': rmse_train,\n",
        "                    'mape' : mape_train,\n",
        "                    'predictions' : y_train_pred}\n",
        "    \n",
        "    #######################################\n",
        "    # get the test data predictions and compute rmse and mape\n",
        "    print('Evaluating Test data')\n",
        "    y_test_pred = algo.predict(x_test) \n",
        "    rmse_test, mape_test = get_error_metrics(y_true=y_test.values, y_pred=y_test_pred)\n",
        "    # store them in our test results dictionary.\n",
        "    test_results = {'rmse': rmse_test,\n",
        "                    'mape' : mape_test,\n",
        "                    'predictions':y_test_pred}\n",
        "    if verbose:\n",
        "        print('\\nTEST DATA')\n",
        "        print('-'*30)\n",
        "        print('RMSE : ', rmse_test)\n",
        "        print('MAPE : ', mape_test)\n",
        "        \n",
        "    # return these train and test results...\n",
        "    return train_results, test_results, y_test_pred\n",
        "    "
      ]
    },
    {
      "cell_type": "markdown",
      "metadata": {
        "id": "eABdBWP_xrrF"
      },
      "source": [
        "> __Utility functions for Surprise modes__"
      ]
    },
    {
      "cell_type": "code",
      "execution_count": 52,
      "metadata": {
        "id": "b9B1gLPvxrrG"
      },
      "outputs": [],
      "source": [
        "# This is just to makesure that all of our algorithms should produce same results everytime they run...\n",
        "\n",
        "my_seed = 15\n",
        "random.seed(my_seed)\n",
        "np.random.seed(my_seed)\n",
        "\n",
        "##########################################################\n",
        "# Get  (actual_list , predicted_list) ratings given list \n",
        "# of predictions (prediction is a class in Surprise).    \n",
        "##########################################################\n",
        "def get_ratings(predictions):\n",
        "    actual = np.array([pred.r_ui for pred in predictions])\n",
        "    pred = np.array([pred.est for pred in predictions])\n",
        "    \n",
        "    return actual, pred\n",
        "\n",
        "################################################################\n",
        "# Get ''rmse'' and ''mape'' , given list of prediction objecs  #\n",
        "################################################################\n",
        "def get_errors(predictions, print_them=False):\n",
        "\n",
        "    actual, pred = get_ratings(predictions)\n",
        "    rmse = np.sqrt(np.mean((pred - actual)**2))\n",
        "    mape = np.mean(np.abs(pred - actual)/actual)\n",
        "\n",
        "    return rmse, mape*100\n",
        "\n",
        "##################################################################################\n",
        "# This will return predicted ratings, rmse and mape of both train and test data  #\n",
        "##################################################################################\n",
        "def run_surprise(algo, trainset, testset, verbose=True): \n",
        "    '''\n",
        "        return train_dict, test_dict\n",
        "    \n",
        "        It returns two dictionaries, one for train and the other is for test\n",
        "        Each of them have 3 key-value pairs, which specify ''rmse'', ''mape'', and ''predicted ratings''.\n",
        "    '''\n",
        "    start = datetime.now()\n",
        "    # dictionaries that stores metrics for train and test..\n",
        "    train = dict()\n",
        "    test = dict()\n",
        "    \n",
        "    # train the algorithm with the trainset\n",
        "    st = datetime.now()\n",
        "    print('Training the model...')\n",
        "    algo.fit(trainset)\n",
        "    print('Done. time taken : {} \\n'.format(datetime.now()-st))\n",
        "    \n",
        "    # ---------------- Evaluating train data--------------------#\n",
        "    st = datetime.now()\n",
        "    print('Evaluating the model with train data..')\n",
        "\n",
        "    # get the train predictions (list of prediction class inside Surprise)\n",
        "    train_preds = algo.test(trainset.build_testset())\n",
        "\n",
        "    # get predicted ratings from the train predictions..\n",
        "    train_actual_ratings, train_pred_ratings = get_ratings(train_preds)\n",
        "\n",
        "    # get ''rmse'' and ''mape'' from the train predictions.\n",
        "    train_rmse, train_mape = get_errors(train_preds)\n",
        "\n",
        "    print('time taken : {}'.format(datetime.now()-st))\n",
        "    \n",
        "    if verbose:\n",
        "        print('-'*15)\n",
        "        print('Train Data')\n",
        "        print('-'*15)\n",
        "        print(\"RMSE : {}\\n\\nMAPE : {}\\n\".format(train_rmse, train_mape))\n",
        "    \n",
        "    #store them in the train dictionary\n",
        "    if verbose:\n",
        "        print('adding train results in the dictionary..')\n",
        "    train['rmse'] = train_rmse\n",
        "    train['mape'] = train_mape\n",
        "    train['predictions'] = train_pred_ratings\n",
        "    \n",
        "    #------------ Evaluating Test data---------------#\n",
        "    st = datetime.now()\n",
        "    print('\\nEvaluating for test data...')\n",
        "    # get the predictions( list of prediction classes) of test data\n",
        "    test_preds = algo.test(testset)\n",
        "    # get the predicted ratings from the list of predictions\n",
        "    test_actual_ratings, test_pred_ratings = get_ratings(test_preds)\n",
        "    # get error metrics from the predicted and actual ratings\n",
        "    test_rmse, test_mape = get_errors(test_preds)\n",
        "    print('time taken : {}'.format(datetime.now()-st))\n",
        "    \n",
        "    if verbose:\n",
        "        print('-'*15)\n",
        "        print('Test Data')\n",
        "        print('-'*15)\n",
        "        print(\"RMSE : {}\\n\\nMAPE : {}\\n\".format(test_rmse, test_mape))\n",
        "    # store them in test dictionary\n",
        "    if verbose:\n",
        "        print('storing the test results in test dictionary...')\n",
        "    test['rmse'] = test_rmse\n",
        "    test['mape'] = test_mape\n",
        "    test['predictions'] = test_pred_ratings\n",
        "    \n",
        "    print('\\n'+'-'*45)\n",
        "    print('Total time taken to run this algorithm :', datetime.now() - start)\n",
        "    \n",
        "    # return two dictionaries train and test\n",
        "    return train, test, test_actual_ratings, test_pred_ratings"
      ]
    },
    {
      "cell_type": "markdown",
      "metadata": {
        "id": "vlx884YTxrrI"
      },
      "source": [
        " "
      ]
    },
    {
      "cell_type": "markdown",
      "metadata": {
        "id": "Jh6CNDb1xrrI"
      },
      "source": [
        "<h3> XGBoost with initial 13 features </h3>"
      ]
    },
    {
      "cell_type": "code",
      "execution_count": 38,
      "metadata": {
        "id": "GDMZ35MNxrrJ"
      },
      "outputs": [],
      "source": [
        "import xgboost as xgb"
      ]
    },
    {
      "cell_type": "code",
      "execution_count": 41,
      "metadata": {
        "colab": {
          "base_uri": "https://localhost:8080/",
          "height": 243
        },
        "id": "DoxUdAnFxrrK",
        "outputId": "a49c7ace-bdb3-4ba5-e6d6-d8f00b260d1d"
      },
      "outputs": [
        {
          "output_type": "stream",
          "name": "stdout",
          "text": [
            "Training the model..\n",
            "[00:16:46] WARNING: /workspace/src/objective/regression_obj.cu:152: reg:linear is now deprecated in favor of reg:squarederror.\n",
            "Done. Time taken : 0:00:02.863780\n",
            "\n",
            "Done \n",
            "\n",
            "Evaluating the model with TRAIN data...\n",
            "Evaluating Test data\n",
            "\n",
            "TEST DATA\n",
            "------------------------------\n",
            "RMSE :  1.076373581778953\n",
            "MAPE :  34.48223172520999\n"
          ]
        },
        {
          "output_type": "display_data",
          "data": {
            "text/plain": [
              "<IPython.core.display.Javascript object>"
            ],
            "application/javascript": [
              "/* Put everything inside the global mpl namespace */\n",
              "window.mpl = {};\n",
              "\n",
              "\n",
              "mpl.get_websocket_type = function() {\n",
              "    if (typeof(WebSocket) !== 'undefined') {\n",
              "        return WebSocket;\n",
              "    } else if (typeof(MozWebSocket) !== 'undefined') {\n",
              "        return MozWebSocket;\n",
              "    } else {\n",
              "        alert('Your browser does not have WebSocket support. ' +\n",
              "              'Please try Chrome, Safari or Firefox ≥ 6. ' +\n",
              "              'Firefox 4 and 5 are also supported but you ' +\n",
              "              'have to enable WebSockets in about:config.');\n",
              "    };\n",
              "}\n",
              "\n",
              "mpl.figure = function(figure_id, websocket, ondownload, parent_element) {\n",
              "    this.id = figure_id;\n",
              "\n",
              "    this.ws = websocket;\n",
              "\n",
              "    this.supports_binary = (this.ws.binaryType != undefined);\n",
              "\n",
              "    if (!this.supports_binary) {\n",
              "        var warnings = document.getElementById(\"mpl-warnings\");\n",
              "        if (warnings) {\n",
              "            warnings.style.display = 'block';\n",
              "            warnings.textContent = (\n",
              "                \"This browser does not support binary websocket messages. \" +\n",
              "                    \"Performance may be slow.\");\n",
              "        }\n",
              "    }\n",
              "\n",
              "    this.imageObj = new Image();\n",
              "\n",
              "    this.context = undefined;\n",
              "    this.message = undefined;\n",
              "    this.canvas = undefined;\n",
              "    this.rubberband_canvas = undefined;\n",
              "    this.rubberband_context = undefined;\n",
              "    this.format_dropdown = undefined;\n",
              "\n",
              "    this.image_mode = 'full';\n",
              "\n",
              "    this.root = $('<div/>');\n",
              "    this._root_extra_style(this.root)\n",
              "    this.root.attr('style', 'display: inline-block');\n",
              "\n",
              "    $(parent_element).append(this.root);\n",
              "\n",
              "    this._init_header(this);\n",
              "    this._init_canvas(this);\n",
              "    this._init_toolbar(this);\n",
              "\n",
              "    var fig = this;\n",
              "\n",
              "    this.waiting = false;\n",
              "\n",
              "    this.ws.onopen =  function () {\n",
              "            fig.send_message(\"supports_binary\", {value: fig.supports_binary});\n",
              "            fig.send_message(\"send_image_mode\", {});\n",
              "            if (mpl.ratio != 1) {\n",
              "                fig.send_message(\"set_dpi_ratio\", {'dpi_ratio': mpl.ratio});\n",
              "            }\n",
              "            fig.send_message(\"refresh\", {});\n",
              "        }\n",
              "\n",
              "    this.imageObj.onload = function() {\n",
              "            if (fig.image_mode == 'full') {\n",
              "                // Full images could contain transparency (where diff images\n",
              "                // almost always do), so we need to clear the canvas so that\n",
              "                // there is no ghosting.\n",
              "                fig.context.clearRect(0, 0, fig.canvas.width, fig.canvas.height);\n",
              "            }\n",
              "            fig.context.drawImage(fig.imageObj, 0, 0);\n",
              "        };\n",
              "\n",
              "    this.imageObj.onunload = function() {\n",
              "        fig.ws.close();\n",
              "    }\n",
              "\n",
              "    this.ws.onmessage = this._make_on_message_function(this);\n",
              "\n",
              "    this.ondownload = ondownload;\n",
              "}\n",
              "\n",
              "mpl.figure.prototype._init_header = function() {\n",
              "    var titlebar = $(\n",
              "        '<div class=\"ui-dialog-titlebar ui-widget-header ui-corner-all ' +\n",
              "        'ui-helper-clearfix\"/>');\n",
              "    var titletext = $(\n",
              "        '<div class=\"ui-dialog-title\" style=\"width: 100%; ' +\n",
              "        'text-align: center; padding: 3px;\"/>');\n",
              "    titlebar.append(titletext)\n",
              "    this.root.append(titlebar);\n",
              "    this.header = titletext[0];\n",
              "}\n",
              "\n",
              "\n",
              "\n",
              "mpl.figure.prototype._canvas_extra_style = function(canvas_div) {\n",
              "\n",
              "}\n",
              "\n",
              "\n",
              "mpl.figure.prototype._root_extra_style = function(canvas_div) {\n",
              "\n",
              "}\n",
              "\n",
              "mpl.figure.prototype._init_canvas = function() {\n",
              "    var fig = this;\n",
              "\n",
              "    var canvas_div = $('<div/>');\n",
              "\n",
              "    canvas_div.attr('style', 'position: relative; clear: both; outline: 0');\n",
              "\n",
              "    function canvas_keyboard_event(event) {\n",
              "        return fig.key_event(event, event['data']);\n",
              "    }\n",
              "\n",
              "    canvas_div.keydown('key_press', canvas_keyboard_event);\n",
              "    canvas_div.keyup('key_release', canvas_keyboard_event);\n",
              "    this.canvas_div = canvas_div\n",
              "    this._canvas_extra_style(canvas_div)\n",
              "    this.root.append(canvas_div);\n",
              "\n",
              "    var canvas = $('<canvas/>');\n",
              "    canvas.addClass('mpl-canvas');\n",
              "    canvas.attr('style', \"left: 0; top: 0; z-index: 0; outline: 0\")\n",
              "\n",
              "    this.canvas = canvas[0];\n",
              "    this.context = canvas[0].getContext(\"2d\");\n",
              "\n",
              "    var backingStore = this.context.backingStorePixelRatio ||\n",
              "\tthis.context.webkitBackingStorePixelRatio ||\n",
              "\tthis.context.mozBackingStorePixelRatio ||\n",
              "\tthis.context.msBackingStorePixelRatio ||\n",
              "\tthis.context.oBackingStorePixelRatio ||\n",
              "\tthis.context.backingStorePixelRatio || 1;\n",
              "\n",
              "    mpl.ratio = (window.devicePixelRatio || 1) / backingStore;\n",
              "\n",
              "    var rubberband = $('<canvas/>');\n",
              "    rubberband.attr('style', \"position: absolute; left: 0; top: 0; z-index: 1;\")\n",
              "\n",
              "    var pass_mouse_events = true;\n",
              "\n",
              "    canvas_div.resizable({\n",
              "        start: function(event, ui) {\n",
              "            pass_mouse_events = false;\n",
              "        },\n",
              "        resize: function(event, ui) {\n",
              "            fig.request_resize(ui.size.width, ui.size.height);\n",
              "        },\n",
              "        stop: function(event, ui) {\n",
              "            pass_mouse_events = true;\n",
              "            fig.request_resize(ui.size.width, ui.size.height);\n",
              "        },\n",
              "    });\n",
              "\n",
              "    function mouse_event_fn(event) {\n",
              "        if (pass_mouse_events)\n",
              "            return fig.mouse_event(event, event['data']);\n",
              "    }\n",
              "\n",
              "    rubberband.mousedown('button_press', mouse_event_fn);\n",
              "    rubberband.mouseup('button_release', mouse_event_fn);\n",
              "    // Throttle sequential mouse events to 1 every 20ms.\n",
              "    rubberband.mousemove('motion_notify', mouse_event_fn);\n",
              "\n",
              "    rubberband.mouseenter('figure_enter', mouse_event_fn);\n",
              "    rubberband.mouseleave('figure_leave', mouse_event_fn);\n",
              "\n",
              "    canvas_div.on(\"wheel\", function (event) {\n",
              "        event = event.originalEvent;\n",
              "        event['data'] = 'scroll'\n",
              "        if (event.deltaY < 0) {\n",
              "            event.step = 1;\n",
              "        } else {\n",
              "            event.step = -1;\n",
              "        }\n",
              "        mouse_event_fn(event);\n",
              "    });\n",
              "\n",
              "    canvas_div.append(canvas);\n",
              "    canvas_div.append(rubberband);\n",
              "\n",
              "    this.rubberband = rubberband;\n",
              "    this.rubberband_canvas = rubberband[0];\n",
              "    this.rubberband_context = rubberband[0].getContext(\"2d\");\n",
              "    this.rubberband_context.strokeStyle = \"#000000\";\n",
              "\n",
              "    this._resize_canvas = function(width, height) {\n",
              "        // Keep the size of the canvas, canvas container, and rubber band\n",
              "        // canvas in synch.\n",
              "        canvas_div.css('width', width)\n",
              "        canvas_div.css('height', height)\n",
              "\n",
              "        canvas.attr('width', width * mpl.ratio);\n",
              "        canvas.attr('height', height * mpl.ratio);\n",
              "        canvas.attr('style', 'width: ' + width + 'px; height: ' + height + 'px;');\n",
              "\n",
              "        rubberband.attr('width', width);\n",
              "        rubberband.attr('height', height);\n",
              "    }\n",
              "\n",
              "    // Set the figure to an initial 600x600px, this will subsequently be updated\n",
              "    // upon first draw.\n",
              "    this._resize_canvas(600, 600);\n",
              "\n",
              "    // Disable right mouse context menu.\n",
              "    $(this.rubberband_canvas).bind(\"contextmenu\",function(e){\n",
              "        return false;\n",
              "    });\n",
              "\n",
              "    function set_focus () {\n",
              "        canvas.focus();\n",
              "        canvas_div.focus();\n",
              "    }\n",
              "\n",
              "    window.setTimeout(set_focus, 100);\n",
              "}\n",
              "\n",
              "mpl.figure.prototype._init_toolbar = function() {\n",
              "    var fig = this;\n",
              "\n",
              "    var nav_element = $('<div/>');\n",
              "    nav_element.attr('style', 'width: 100%');\n",
              "    this.root.append(nav_element);\n",
              "\n",
              "    // Define a callback function for later on.\n",
              "    function toolbar_event(event) {\n",
              "        return fig.toolbar_button_onclick(event['data']);\n",
              "    }\n",
              "    function toolbar_mouse_event(event) {\n",
              "        return fig.toolbar_button_onmouseover(event['data']);\n",
              "    }\n",
              "\n",
              "    for(var toolbar_ind in mpl.toolbar_items) {\n",
              "        var name = mpl.toolbar_items[toolbar_ind][0];\n",
              "        var tooltip = mpl.toolbar_items[toolbar_ind][1];\n",
              "        var image = mpl.toolbar_items[toolbar_ind][2];\n",
              "        var method_name = mpl.toolbar_items[toolbar_ind][3];\n",
              "\n",
              "        if (!name) {\n",
              "            // put a spacer in here.\n",
              "            continue;\n",
              "        }\n",
              "        var button = $('<button/>');\n",
              "        button.addClass('ui-button ui-widget ui-state-default ui-corner-all ' +\n",
              "                        'ui-button-icon-only');\n",
              "        button.attr('role', 'button');\n",
              "        button.attr('aria-disabled', 'false');\n",
              "        button.click(method_name, toolbar_event);\n",
              "        button.mouseover(tooltip, toolbar_mouse_event);\n",
              "\n",
              "        var icon_img = $('<span/>');\n",
              "        icon_img.addClass('ui-button-icon-primary ui-icon');\n",
              "        icon_img.addClass(image);\n",
              "        icon_img.addClass('ui-corner-all');\n",
              "\n",
              "        var tooltip_span = $('<span/>');\n",
              "        tooltip_span.addClass('ui-button-text');\n",
              "        tooltip_span.html(tooltip);\n",
              "\n",
              "        button.append(icon_img);\n",
              "        button.append(tooltip_span);\n",
              "\n",
              "        nav_element.append(button);\n",
              "    }\n",
              "\n",
              "    var fmt_picker_span = $('<span/>');\n",
              "\n",
              "    var fmt_picker = $('<select/>');\n",
              "    fmt_picker.addClass('mpl-toolbar-option ui-widget ui-widget-content');\n",
              "    fmt_picker_span.append(fmt_picker);\n",
              "    nav_element.append(fmt_picker_span);\n",
              "    this.format_dropdown = fmt_picker[0];\n",
              "\n",
              "    for (var ind in mpl.extensions) {\n",
              "        var fmt = mpl.extensions[ind];\n",
              "        var option = $(\n",
              "            '<option/>', {selected: fmt === mpl.default_extension}).html(fmt);\n",
              "        fmt_picker.append(option);\n",
              "    }\n",
              "\n",
              "    // Add hover states to the ui-buttons\n",
              "    $( \".ui-button\" ).hover(\n",
              "        function() { $(this).addClass(\"ui-state-hover\");},\n",
              "        function() { $(this).removeClass(\"ui-state-hover\");}\n",
              "    );\n",
              "\n",
              "    var status_bar = $('<span class=\"mpl-message\"/>');\n",
              "    nav_element.append(status_bar);\n",
              "    this.message = status_bar[0];\n",
              "}\n",
              "\n",
              "mpl.figure.prototype.request_resize = function(x_pixels, y_pixels) {\n",
              "    // Request matplotlib to resize the figure. Matplotlib will then trigger a resize in the client,\n",
              "    // which will in turn request a refresh of the image.\n",
              "    this.send_message('resize', {'width': x_pixels, 'height': y_pixels});\n",
              "}\n",
              "\n",
              "mpl.figure.prototype.send_message = function(type, properties) {\n",
              "    properties['type'] = type;\n",
              "    properties['figure_id'] = this.id;\n",
              "    this.ws.send(JSON.stringify(properties));\n",
              "}\n",
              "\n",
              "mpl.figure.prototype.send_draw_message = function() {\n",
              "    if (!this.waiting) {\n",
              "        this.waiting = true;\n",
              "        this.ws.send(JSON.stringify({type: \"draw\", figure_id: this.id}));\n",
              "    }\n",
              "}\n",
              "\n",
              "\n",
              "mpl.figure.prototype.handle_save = function(fig, msg) {\n",
              "    var format_dropdown = fig.format_dropdown;\n",
              "    var format = format_dropdown.options[format_dropdown.selectedIndex].value;\n",
              "    fig.ondownload(fig, format);\n",
              "}\n",
              "\n",
              "\n",
              "mpl.figure.prototype.handle_resize = function(fig, msg) {\n",
              "    var size = msg['size'];\n",
              "    if (size[0] != fig.canvas.width || size[1] != fig.canvas.height) {\n",
              "        fig._resize_canvas(size[0], size[1]);\n",
              "        fig.send_message(\"refresh\", {});\n",
              "    };\n",
              "}\n",
              "\n",
              "mpl.figure.prototype.handle_rubberband = function(fig, msg) {\n",
              "    var x0 = msg['x0'] / mpl.ratio;\n",
              "    var y0 = (fig.canvas.height - msg['y0']) / mpl.ratio;\n",
              "    var x1 = msg['x1'] / mpl.ratio;\n",
              "    var y1 = (fig.canvas.height - msg['y1']) / mpl.ratio;\n",
              "    x0 = Math.floor(x0) + 0.5;\n",
              "    y0 = Math.floor(y0) + 0.5;\n",
              "    x1 = Math.floor(x1) + 0.5;\n",
              "    y1 = Math.floor(y1) + 0.5;\n",
              "    var min_x = Math.min(x0, x1);\n",
              "    var min_y = Math.min(y0, y1);\n",
              "    var width = Math.abs(x1 - x0);\n",
              "    var height = Math.abs(y1 - y0);\n",
              "\n",
              "    fig.rubberband_context.clearRect(\n",
              "        0, 0, fig.canvas.width / mpl.ratio, fig.canvas.height / mpl.ratio);\n",
              "\n",
              "    fig.rubberband_context.strokeRect(min_x, min_y, width, height);\n",
              "}\n",
              "\n",
              "mpl.figure.prototype.handle_figure_label = function(fig, msg) {\n",
              "    // Updates the figure title.\n",
              "    fig.header.textContent = msg['label'];\n",
              "}\n",
              "\n",
              "mpl.figure.prototype.handle_cursor = function(fig, msg) {\n",
              "    var cursor = msg['cursor'];\n",
              "    switch(cursor)\n",
              "    {\n",
              "    case 0:\n",
              "        cursor = 'pointer';\n",
              "        break;\n",
              "    case 1:\n",
              "        cursor = 'default';\n",
              "        break;\n",
              "    case 2:\n",
              "        cursor = 'crosshair';\n",
              "        break;\n",
              "    case 3:\n",
              "        cursor = 'move';\n",
              "        break;\n",
              "    }\n",
              "    fig.rubberband_canvas.style.cursor = cursor;\n",
              "}\n",
              "\n",
              "mpl.figure.prototype.handle_message = function(fig, msg) {\n",
              "    fig.message.textContent = msg['message'];\n",
              "}\n",
              "\n",
              "mpl.figure.prototype.handle_draw = function(fig, msg) {\n",
              "    // Request the server to send over a new figure.\n",
              "    fig.send_draw_message();\n",
              "}\n",
              "\n",
              "mpl.figure.prototype.handle_image_mode = function(fig, msg) {\n",
              "    fig.image_mode = msg['mode'];\n",
              "}\n",
              "\n",
              "mpl.figure.prototype.updated_canvas_event = function() {\n",
              "    // Called whenever the canvas gets updated.\n",
              "    this.send_message(\"ack\", {});\n",
              "}\n",
              "\n",
              "// A function to construct a web socket function for onmessage handling.\n",
              "// Called in the figure constructor.\n",
              "mpl.figure.prototype._make_on_message_function = function(fig) {\n",
              "    return function socket_on_message(evt) {\n",
              "        if (evt.data instanceof Blob) {\n",
              "            /* FIXME: We get \"Resource interpreted as Image but\n",
              "             * transferred with MIME type text/plain:\" errors on\n",
              "             * Chrome.  But how to set the MIME type?  It doesn't seem\n",
              "             * to be part of the websocket stream */\n",
              "            evt.data.type = \"image/png\";\n",
              "\n",
              "            /* Free the memory for the previous frames */\n",
              "            if (fig.imageObj.src) {\n",
              "                (window.URL || window.webkitURL).revokeObjectURL(\n",
              "                    fig.imageObj.src);\n",
              "            }\n",
              "\n",
              "            fig.imageObj.src = (window.URL || window.webkitURL).createObjectURL(\n",
              "                evt.data);\n",
              "            fig.updated_canvas_event();\n",
              "            fig.waiting = false;\n",
              "            return;\n",
              "        }\n",
              "        else if (typeof evt.data === 'string' && evt.data.slice(0, 21) == \"data:image/png;base64\") {\n",
              "            fig.imageObj.src = evt.data;\n",
              "            fig.updated_canvas_event();\n",
              "            fig.waiting = false;\n",
              "            return;\n",
              "        }\n",
              "\n",
              "        var msg = JSON.parse(evt.data);\n",
              "        var msg_type = msg['type'];\n",
              "\n",
              "        // Call the  \"handle_{type}\" callback, which takes\n",
              "        // the figure and JSON message as its only arguments.\n",
              "        try {\n",
              "            var callback = fig[\"handle_\" + msg_type];\n",
              "        } catch (e) {\n",
              "            console.log(\"No handler for the '\" + msg_type + \"' message type: \", msg);\n",
              "            return;\n",
              "        }\n",
              "\n",
              "        if (callback) {\n",
              "            try {\n",
              "                // console.log(\"Handling '\" + msg_type + \"' message: \", msg);\n",
              "                callback(fig, msg);\n",
              "            } catch (e) {\n",
              "                console.log(\"Exception inside the 'handler_\" + msg_type + \"' callback:\", e, e.stack, msg);\n",
              "            }\n",
              "        }\n",
              "    };\n",
              "}\n",
              "\n",
              "// from http://stackoverflow.com/questions/1114465/getting-mouse-location-in-canvas\n",
              "mpl.findpos = function(e) {\n",
              "    //this section is from http://www.quirksmode.org/js/events_properties.html\n",
              "    var targ;\n",
              "    if (!e)\n",
              "        e = window.event;\n",
              "    if (e.target)\n",
              "        targ = e.target;\n",
              "    else if (e.srcElement)\n",
              "        targ = e.srcElement;\n",
              "    if (targ.nodeType == 3) // defeat Safari bug\n",
              "        targ = targ.parentNode;\n",
              "\n",
              "    // jQuery normalizes the pageX and pageY\n",
              "    // pageX,Y are the mouse positions relative to the document\n",
              "    // offset() returns the position of the element relative to the document\n",
              "    var x = e.pageX - $(targ).offset().left;\n",
              "    var y = e.pageY - $(targ).offset().top;\n",
              "\n",
              "    return {\"x\": x, \"y\": y};\n",
              "};\n",
              "\n",
              "/*\n",
              " * return a copy of an object with only non-object keys\n",
              " * we need this to avoid circular references\n",
              " * http://stackoverflow.com/a/24161582/3208463\n",
              " */\n",
              "function simpleKeys (original) {\n",
              "  return Object.keys(original).reduce(function (obj, key) {\n",
              "    if (typeof original[key] !== 'object')\n",
              "        obj[key] = original[key]\n",
              "    return obj;\n",
              "  }, {});\n",
              "}\n",
              "\n",
              "mpl.figure.prototype.mouse_event = function(event, name) {\n",
              "    var canvas_pos = mpl.findpos(event)\n",
              "\n",
              "    if (name === 'button_press')\n",
              "    {\n",
              "        this.canvas.focus();\n",
              "        this.canvas_div.focus();\n",
              "    }\n",
              "\n",
              "    var x = canvas_pos.x * mpl.ratio;\n",
              "    var y = canvas_pos.y * mpl.ratio;\n",
              "\n",
              "    this.send_message(name, {x: x, y: y, button: event.button,\n",
              "                             step: event.step,\n",
              "                             guiEvent: simpleKeys(event)});\n",
              "\n",
              "    /* This prevents the web browser from automatically changing to\n",
              "     * the text insertion cursor when the button is pressed.  We want\n",
              "     * to control all of the cursor setting manually through the\n",
              "     * 'cursor' event from matplotlib */\n",
              "    event.preventDefault();\n",
              "    return false;\n",
              "}\n",
              "\n",
              "mpl.figure.prototype._key_event_extra = function(event, name) {\n",
              "    // Handle any extra behaviour associated with a key event\n",
              "}\n",
              "\n",
              "mpl.figure.prototype.key_event = function(event, name) {\n",
              "\n",
              "    // Prevent repeat events\n",
              "    if (name == 'key_press')\n",
              "    {\n",
              "        if (event.which === this._key)\n",
              "            return;\n",
              "        else\n",
              "            this._key = event.which;\n",
              "    }\n",
              "    if (name == 'key_release')\n",
              "        this._key = null;\n",
              "\n",
              "    var value = '';\n",
              "    if (event.ctrlKey && event.which != 17)\n",
              "        value += \"ctrl+\";\n",
              "    if (event.altKey && event.which != 18)\n",
              "        value += \"alt+\";\n",
              "    if (event.shiftKey && event.which != 16)\n",
              "        value += \"shift+\";\n",
              "\n",
              "    value += 'k';\n",
              "    value += event.which.toString();\n",
              "\n",
              "    this._key_event_extra(event, name);\n",
              "\n",
              "    this.send_message(name, {key: value,\n",
              "                             guiEvent: simpleKeys(event)});\n",
              "    return false;\n",
              "}\n",
              "\n",
              "mpl.figure.prototype.toolbar_button_onclick = function(name) {\n",
              "    if (name == 'download') {\n",
              "        this.handle_save(this, null);\n",
              "    } else {\n",
              "        this.send_message(\"toolbar_button\", {name: name});\n",
              "    }\n",
              "};\n",
              "\n",
              "mpl.figure.prototype.toolbar_button_onmouseover = function(tooltip) {\n",
              "    this.message.textContent = tooltip;\n",
              "};\n",
              "mpl.toolbar_items = [[\"Home\", \"Reset original view\", \"fa fa-home icon-home\", \"home\"], [\"Back\", \"Back to previous view\", \"fa fa-arrow-left icon-arrow-left\", \"back\"], [\"Forward\", \"Forward to next view\", \"fa fa-arrow-right icon-arrow-right\", \"forward\"], [\"\", \"\", \"\", \"\"], [\"Pan\", \"Pan axes with left mouse, zoom with right\", \"fa fa-arrows icon-move\", \"pan\"], [\"Zoom\", \"Zoom to rectangle\", \"fa fa-square-o icon-check-empty\", \"zoom\"], [\"\", \"\", \"\", \"\"], [\"Download\", \"Download plot\", \"fa fa-floppy-o icon-save\", \"download\"]];\n",
              "\n",
              "mpl.extensions = [\"eps\", \"jpeg\", \"pdf\", \"png\", \"ps\", \"raw\", \"svg\", \"tif\"];\n",
              "\n",
              "mpl.default_extension = \"png\";var comm_websocket_adapter = function(comm) {\n",
              "    // Create a \"websocket\"-like object which calls the given IPython comm\n",
              "    // object with the appropriate methods. Currently this is a non binary\n",
              "    // socket, so there is still some room for performance tuning.\n",
              "    var ws = {};\n",
              "\n",
              "    ws.close = function() {\n",
              "        comm.close()\n",
              "    };\n",
              "    ws.send = function(m) {\n",
              "        //console.log('sending', m);\n",
              "        comm.send(m);\n",
              "    };\n",
              "    // Register the callback with on_msg.\n",
              "    comm.on_msg(function(msg) {\n",
              "        //console.log('receiving', msg['content']['data'], msg);\n",
              "        // Pass the mpl event to the overridden (by mpl) onmessage function.\n",
              "        ws.onmessage(msg['content']['data'])\n",
              "    });\n",
              "    return ws;\n",
              "}\n",
              "\n",
              "mpl.mpl_figure_comm = function(comm, msg) {\n",
              "    // This is the function which gets called when the mpl process\n",
              "    // starts-up an IPython Comm through the \"matplotlib\" channel.\n",
              "\n",
              "    var id = msg.content.data.id;\n",
              "    // Get hold of the div created by the display call when the Comm\n",
              "    // socket was opened in Python.\n",
              "    var element = $(\"#\" + id);\n",
              "    var ws_proxy = comm_websocket_adapter(comm)\n",
              "\n",
              "    function ondownload(figure, format) {\n",
              "        window.open(figure.imageObj.src);\n",
              "    }\n",
              "\n",
              "    var fig = new mpl.figure(id, ws_proxy,\n",
              "                           ondownload,\n",
              "                           element.get(0));\n",
              "\n",
              "    // Call onopen now - mpl needs it, as it is assuming we've passed it a real\n",
              "    // web socket which is closed, not our websocket->open comm proxy.\n",
              "    ws_proxy.onopen();\n",
              "\n",
              "    fig.parent_element = element.get(0);\n",
              "    fig.cell_info = mpl.find_output_cell(\"<div id='\" + id + \"'></div>\");\n",
              "    if (!fig.cell_info) {\n",
              "        console.error(\"Failed to find cell for figure\", id, fig);\n",
              "        return;\n",
              "    }\n",
              "\n",
              "    var output_index = fig.cell_info[2]\n",
              "    var cell = fig.cell_info[0];\n",
              "\n",
              "};\n",
              "\n",
              "mpl.figure.prototype.handle_close = function(fig, msg) {\n",
              "    var width = fig.canvas.width/mpl.ratio\n",
              "    fig.root.unbind('remove')\n",
              "\n",
              "    // Update the output cell to use the data from the current canvas.\n",
              "    fig.push_to_output();\n",
              "    var dataURL = fig.canvas.toDataURL();\n",
              "    // Re-enable the keyboard manager in IPython - without this line, in FF,\n",
              "    // the notebook keyboard shortcuts fail.\n",
              "    IPython.keyboard_manager.enable()\n",
              "    $(fig.parent_element).html('<img src=\"' + dataURL + '\" width=\"' + width + '\">');\n",
              "    fig.close_ws(fig, msg);\n",
              "}\n",
              "\n",
              "mpl.figure.prototype.close_ws = function(fig, msg){\n",
              "    fig.send_message('closing', msg);\n",
              "    // fig.ws.close()\n",
              "}\n",
              "\n",
              "mpl.figure.prototype.push_to_output = function(remove_interactive) {\n",
              "    // Turn the data on the canvas into data in the output cell.\n",
              "    var width = this.canvas.width/mpl.ratio\n",
              "    var dataURL = this.canvas.toDataURL();\n",
              "    this.cell_info[1]['text/html'] = '<img src=\"' + dataURL + '\" width=\"' + width + '\">';\n",
              "}\n",
              "\n",
              "mpl.figure.prototype.updated_canvas_event = function() {\n",
              "    // Tell IPython that the notebook contents must change.\n",
              "    IPython.notebook.set_dirty(true);\n",
              "    this.send_message(\"ack\", {});\n",
              "    var fig = this;\n",
              "    // Wait a second, then push the new image to the DOM so\n",
              "    // that it is saved nicely (might be nice to debounce this).\n",
              "    setTimeout(function () { fig.push_to_output() }, 1000);\n",
              "}\n",
              "\n",
              "mpl.figure.prototype._init_toolbar = function() {\n",
              "    var fig = this;\n",
              "\n",
              "    var nav_element = $('<div/>');\n",
              "    nav_element.attr('style', 'width: 100%');\n",
              "    this.root.append(nav_element);\n",
              "\n",
              "    // Define a callback function for later on.\n",
              "    function toolbar_event(event) {\n",
              "        return fig.toolbar_button_onclick(event['data']);\n",
              "    }\n",
              "    function toolbar_mouse_event(event) {\n",
              "        return fig.toolbar_button_onmouseover(event['data']);\n",
              "    }\n",
              "\n",
              "    for(var toolbar_ind in mpl.toolbar_items){\n",
              "        var name = mpl.toolbar_items[toolbar_ind][0];\n",
              "        var tooltip = mpl.toolbar_items[toolbar_ind][1];\n",
              "        var image = mpl.toolbar_items[toolbar_ind][2];\n",
              "        var method_name = mpl.toolbar_items[toolbar_ind][3];\n",
              "\n",
              "        if (!name) { continue; };\n",
              "\n",
              "        var button = $('<button class=\"btn btn-default\" href=\"#\" title=\"' + name + '\"><i class=\"fa ' + image + ' fa-lg\"></i></button>');\n",
              "        button.click(method_name, toolbar_event);\n",
              "        button.mouseover(tooltip, toolbar_mouse_event);\n",
              "        nav_element.append(button);\n",
              "    }\n",
              "\n",
              "    // Add the status bar.\n",
              "    var status_bar = $('<span class=\"mpl-message\" style=\"text-align:right; float: right;\"/>');\n",
              "    nav_element.append(status_bar);\n",
              "    this.message = status_bar[0];\n",
              "\n",
              "    // Add the close button to the window.\n",
              "    var buttongrp = $('<div class=\"btn-group inline pull-right\"></div>');\n",
              "    var button = $('<button class=\"btn btn-mini btn-primary\" href=\"#\" title=\"Stop Interaction\"><i class=\"fa fa-power-off icon-remove icon-large\"></i></button>');\n",
              "    button.click(function (evt) { fig.handle_close(fig, {}); } );\n",
              "    button.mouseover('Stop Interaction', toolbar_mouse_event);\n",
              "    buttongrp.append(button);\n",
              "    var titlebar = this.root.find($('.ui-dialog-titlebar'));\n",
              "    titlebar.prepend(buttongrp);\n",
              "}\n",
              "\n",
              "mpl.figure.prototype._root_extra_style = function(el){\n",
              "    var fig = this\n",
              "    el.on(\"remove\", function(){\n",
              "\tfig.close_ws(fig, {});\n",
              "    });\n",
              "}\n",
              "\n",
              "mpl.figure.prototype._canvas_extra_style = function(el){\n",
              "    // this is important to make the div 'focusable\n",
              "    el.attr('tabindex', 0)\n",
              "    // reach out to IPython and tell the keyboard manager to turn it's self\n",
              "    // off when our div gets focus\n",
              "\n",
              "    // location in version 3\n",
              "    if (IPython.notebook.keyboard_manager) {\n",
              "        IPython.notebook.keyboard_manager.register_events(el);\n",
              "    }\n",
              "    else {\n",
              "        // location in version 2\n",
              "        IPython.keyboard_manager.register_events(el);\n",
              "    }\n",
              "\n",
              "}\n",
              "\n",
              "mpl.figure.prototype._key_event_extra = function(event, name) {\n",
              "    var manager = IPython.notebook.keyboard_manager;\n",
              "    if (!manager)\n",
              "        manager = IPython.keyboard_manager;\n",
              "\n",
              "    // Check for shift+enter\n",
              "    if (event.shiftKey && event.which == 13) {\n",
              "        this.canvas_div.blur();\n",
              "        // select the cell after this one\n",
              "        var index = IPython.notebook.find_cell_index(this.cell_info[0]);\n",
              "        IPython.notebook.select(index + 1);\n",
              "    }\n",
              "}\n",
              "\n",
              "mpl.figure.prototype.handle_save = function(fig, msg) {\n",
              "    fig.ondownload(fig, null);\n",
              "}\n",
              "\n",
              "\n",
              "mpl.find_output_cell = function(html_output) {\n",
              "    // Return the cell and output element which can be found *uniquely* in the notebook.\n",
              "    // Note - this is a bit hacky, but it is done because the \"notebook_saving.Notebook\"\n",
              "    // IPython event is triggered only after the cells have been serialised, which for\n",
              "    // our purposes (turning an active figure into a static one), is too late.\n",
              "    var cells = IPython.notebook.get_cells();\n",
              "    var ncells = cells.length;\n",
              "    for (var i=0; i<ncells; i++) {\n",
              "        var cell = cells[i];\n",
              "        if (cell.cell_type === 'code'){\n",
              "            for (var j=0; j<cell.output_area.outputs.length; j++) {\n",
              "                var data = cell.output_area.outputs[j];\n",
              "                if (data.data) {\n",
              "                    // IPython >= 3 moved mimebundle to data attribute of output\n",
              "                    data = data.data;\n",
              "                }\n",
              "                if (data['text/html'] == html_output) {\n",
              "                    return [cell, data, j];\n",
              "                }\n",
              "            }\n",
              "        }\n",
              "    }\n",
              "}\n",
              "\n",
              "// Register the function which deals with the matplotlib target/channel.\n",
              "// The kernel may be null if the page has been refreshed.\n",
              "if (IPython.notebook.kernel != null) {\n",
              "    IPython.notebook.kernel.comm_manager.register_target('matplotlib', mpl.mpl_figure_comm);\n",
              "}\n"
            ]
          },
          "metadata": {}
        },
        {
          "output_type": "display_data",
          "data": {
            "text/plain": [
              "<IPython.core.display.HTML object>"
            ],
            "text/html": [
              "<div id='6ab555a3-41dc-47c3-9f63-a7d059f007f6'></div>"
            ]
          },
          "metadata": {}
        }
      ],
      "source": [
        "# prepare Train data\n",
        "x_train = reg_train.drop(['user','movie','rating'], axis=1)\n",
        "y_train = reg_train['rating']\n",
        "\n",
        "# Prepare Test data\n",
        "x_test = reg_test_df.drop(['user','movie','rating'], axis=1)\n",
        "y_test = reg_test_df['rating']\n",
        "\n",
        "# initialize Our first XGBoost model...\n",
        "first_xgb = xgb.XGBRegressor(silent=False, n_jobs=13, random_state=15, n_estimators=100)\n",
        "train_results, test_results, predictions_b1 = run_xgboost(first_xgb, x_train, y_train, x_test, y_test)\n",
        "\n",
        "# store the results in models_evaluations dictionaries\n",
        "models_evaluation_train['first_algo'] = train_results\n",
        "models_evaluation_test['first_algo'] = test_results\n",
        "\n",
        "xgb.plot_importance(first_xgb)\n",
        "plt.show()"
      ]
    },
    {
      "cell_type": "code",
      "source": [
        "b1_rmse=1.0764\n",
        "b1_mape=34.482"
      ],
      "metadata": {
        "id": "p71ZxLjyuqnn"
      },
      "execution_count": 59,
      "outputs": []
    },
    {
      "cell_type": "code",
      "source": [
        "rating_b1_csv=pd.DataFrame(data=y_test)\n",
        "prediction_b1_csv=pd.DataFrame(data=predictions_b1)\n",
        "rating_b1_csv.to_csv('rating_b1.csv',encoding='utf-8')\n",
        "prediction_b1_csv.to_csv('prediction_b1.csv',encoding='utf-8')"
      ],
      "metadata": {
        "id": "0exLCnSEgW2r"
      },
      "execution_count": 48,
      "outputs": []
    },
    {
      "cell_type": "markdown",
      "metadata": {
        "id": "2w39xJPlxrrh"
      },
      "source": [
        "<h3> Surprise KNNBaseline predictor </h3>"
      ]
    },
    {
      "cell_type": "code",
      "execution_count": 49,
      "metadata": {
        "id": "QaJlXYiKxrrh"
      },
      "outputs": [],
      "source": [
        "from surprise import KNNBaseline"
      ]
    },
    {
      "cell_type": "markdown",
      "metadata": {
        "id": "VCI_ZO0uxrrm"
      },
      "source": [
        "  <h4> Surprise KNNBaseline with user user similarities</h4>"
      ]
    },
    {
      "cell_type": "code",
      "execution_count": 53,
      "metadata": {
        "colab": {
          "base_uri": "https://localhost:8080/",
          "height": 538
        },
        "id": "wzIDc0Z9xrrm",
        "outputId": "c716dd71-911b-4e43-f51b-34a8f5709f6a",
        "scrolled": false
      },
      "outputs": [
        {
          "output_type": "stream",
          "name": "stdout",
          "text": [
            "Training the model...\n",
            "Estimating biases using sgd...\n",
            "Computing the pearson_baseline similarity matrix...\n",
            "Done computing similarity matrix.\n",
            "Done. time taken : 0:00:27.627739 \n",
            "\n",
            "Evaluating the model with train data..\n",
            "time taken : 0:01:45.550633\n",
            "---------------\n",
            "Train Data\n",
            "---------------\n",
            "RMSE : 0.33642097416508826\n",
            "\n",
            "MAPE : 9.145093375416348\n",
            "\n",
            "adding train results in the dictionary..\n",
            "\n",
            "Evaluating for test data...\n",
            "time taken : 0:00:00.078705\n",
            "---------------\n",
            "Test Data\n",
            "---------------\n",
            "RMSE : 1.0726493739667242\n",
            "\n",
            "MAPE : 35.02094499698424\n",
            "\n",
            "storing the test results in test dictionary...\n",
            "\n",
            "---------------------------------------------\n",
            "Total time taken to run this algorithm : 0:02:13.257687\n"
          ]
        }
      ],
      "source": [
        "# we specify , how to compute similarities and what to consider with sim_options to our algorithm\n",
        "sim_options = {'user_based' : True,\n",
        "               'name': 'pearson_baseline',\n",
        "               'shrinkage': 100,\n",
        "               'min_support': 2\n",
        "              } \n",
        "# we keep other parameters like regularization parameter and learning_rate as default values.\n",
        "bsl_options = {'method': 'sgd'} \n",
        "\n",
        "knn_bsl_u = KNNBaseline(k=40, sim_options = sim_options, bsl_options = bsl_options)\n",
        "knn_bsl_u_train_results, knn_bsl_u_test_results, rating_b2, prediction_b2 = run_surprise(knn_bsl_u, trainset, testset, verbose=True)\n",
        "\n",
        "# Just store these error metrics in our models_evaluation datastructure\n",
        "models_evaluation_train['knn_bsl_u'] = knn_bsl_u_train_results \n",
        "models_evaluation_test['knn_bsl_u'] = knn_bsl_u_test_results\n"
      ]
    },
    {
      "cell_type": "code",
      "source": [
        "b2_rmse=1.0726\n",
        "b2_mape=35.021"
      ],
      "metadata": {
        "id": "yK4D1fbpu1Gt"
      },
      "execution_count": 60,
      "outputs": []
    },
    {
      "cell_type": "code",
      "source": [
        "rating_b2_csv=pd.DataFrame(data=rating_b2)\n",
        "prediction_b2_csv=pd.DataFrame(data=prediction_b2)\n",
        "rating_b2_csv.to_csv('rating_b2.csv',encoding='utf-8')\n",
        "prediction_b2_csv.to_csv('prediction_b2.csv',encoding='utf-8')"
      ],
      "metadata": {
        "id": "GEcsaJMDiTb3"
      },
      "execution_count": 54,
      "outputs": []
    },
    {
      "cell_type": "markdown",
      "metadata": {
        "id": "kOZ62nT7xrr0"
      },
      "source": [
        "<h3> Matrix Factorization Techniques </h3>"
      ]
    },
    {
      "cell_type": "markdown",
      "metadata": {
        "id": "l8TKj6Ggxrr1"
      },
      "source": [
        "<h4> SVD Matrix Factorization User Movie interactions </h4>"
      ]
    },
    {
      "cell_type": "code",
      "execution_count": 55,
      "metadata": {
        "id": "PVKeXrzLxrr1"
      },
      "outputs": [],
      "source": [
        "from surprise import SVD"
      ]
    },
    {
      "cell_type": "code",
      "execution_count": 56,
      "metadata": {
        "colab": {
          "base_uri": "https://localhost:8080/",
          "height": 833
        },
        "id": "SDCetsu-xrr3",
        "outputId": "13acb629-56f8-4351-e091-86e41374578e",
        "scrolled": false
      },
      "outputs": [
        {
          "output_type": "stream",
          "name": "stdout",
          "text": [
            "Training the model...\n",
            "Processing epoch 0\n",
            "Processing epoch 1\n",
            "Processing epoch 2\n",
            "Processing epoch 3\n",
            "Processing epoch 4\n",
            "Processing epoch 5\n",
            "Processing epoch 6\n",
            "Processing epoch 7\n",
            "Processing epoch 8\n",
            "Processing epoch 9\n",
            "Processing epoch 10\n",
            "Processing epoch 11\n",
            "Processing epoch 12\n",
            "Processing epoch 13\n",
            "Processing epoch 14\n",
            "Processing epoch 15\n",
            "Processing epoch 16\n",
            "Processing epoch 17\n",
            "Processing epoch 18\n",
            "Processing epoch 19\n",
            "Done. time taken : 0:00:07.997846 \n",
            "\n",
            "Evaluating the model with train data..\n",
            "time taken : 0:00:01.449780\n",
            "---------------\n",
            "Train Data\n",
            "---------------\n",
            "RMSE : 0.6330909501027698\n",
            "\n",
            "MAPE : 18.001060243744398\n",
            "\n",
            "adding train results in the dictionary..\n",
            "\n",
            "Evaluating for test data...\n",
            "time taken : 0:00:00.076150\n",
            "---------------\n",
            "Test Data\n",
            "---------------\n",
            "RMSE : 1.075063163782051\n",
            "\n",
            "MAPE : 35.15593514504269\n",
            "\n",
            "storing the test results in test dictionary...\n",
            "\n",
            "---------------------------------------------\n",
            "Total time taken to run this algorithm : 0:00:09.525157\n"
          ]
        }
      ],
      "source": [
        "# initiallize the model\n",
        "svd = SVD(n_factors=100, biased=False, random_state=15, verbose=True)\n",
        "svd_train_results, svd_test_results, rating_b3, prediction_b3 = run_surprise(svd, trainset, testset, verbose=True)\n",
        "\n",
        "# Just store these error metrics in our models_evaluation datastructure\n",
        "models_evaluation_train['svd'] = svd_train_results \n",
        "models_evaluation_test['svd'] = svd_test_results"
      ]
    },
    {
      "cell_type": "code",
      "source": [
        "b3_rmse=1.0751\n",
        "b3_mape=35.156"
      ],
      "metadata": {
        "id": "aVTkRJGJu7Al"
      },
      "execution_count": 61,
      "outputs": []
    },
    {
      "cell_type": "code",
      "source": [
        "rating_b3_csv=pd.DataFrame(data=rating_b3)\n",
        "prediction_b3_csv=pd.DataFrame(data=prediction_b3)\n",
        "rating_b3_csv.to_csv('rating_b3.csv',encoding='utf-8')\n",
        "prediction_b3_csv.to_csv('prediction_b3.csv',encoding='utf-8')"
      ],
      "metadata": {
        "id": "rd_lnkZEisTV"
      },
      "execution_count": 57,
      "outputs": []
    },
    {
      "cell_type": "markdown",
      "metadata": {
        "id": "htQai0mLYgPH"
      },
      "source": [
        "<h4> SVD Matrix Factorization User Movie interactions with bias </h4>"
      ]
    },
    {
      "cell_type": "code",
      "execution_count": null,
      "metadata": {
        "id": "HUYPYHNcYfQe"
      },
      "outputs": [],
      "source": [
        "# train_data_A1 user\tmovie\trating"
      ]
    },
    {
      "cell_type": "code",
      "execution_count": null,
      "metadata": {
        "colab": {
          "base_uri": "https://localhost:8080/",
          "height": 206
        },
        "id": "pBmgwa7o6VOC",
        "outputId": "7d8ba0e4-e733-46a1-c65d-b15529816b44"
      },
      "outputs": [
        {
          "data": {
            "text/html": [
              "\n",
              "  <div id=\"df-59be33e9-2f52-4b74-a0d9-96c17096dedb\">\n",
              "    <div class=\"colab-df-container\">\n",
              "      <div>\n",
              "<style scoped>\n",
              "    .dataframe tbody tr th:only-of-type {\n",
              "        vertical-align: middle;\n",
              "    }\n",
              "\n",
              "    .dataframe tbody tr th {\n",
              "        vertical-align: top;\n",
              "    }\n",
              "\n",
              "    .dataframe thead th {\n",
              "        text-align: right;\n",
              "    }\n",
              "</style>\n",
              "<table border=\"1\" class=\"dataframe\">\n",
              "  <thead>\n",
              "    <tr style=\"text-align: right;\">\n",
              "      <th></th>\n",
              "      <th>user</th>\n",
              "      <th>movie</th>\n",
              "      <th>rating</th>\n",
              "    </tr>\n",
              "  </thead>\n",
              "  <tbody>\n",
              "    <tr>\n",
              "      <th>0</th>\n",
              "      <td>53406</td>\n",
              "      <td>33</td>\n",
              "      <td>4</td>\n",
              "    </tr>\n",
              "    <tr>\n",
              "      <th>1</th>\n",
              "      <td>99540</td>\n",
              "      <td>33</td>\n",
              "      <td>3</td>\n",
              "    </tr>\n",
              "    <tr>\n",
              "      <th>2</th>\n",
              "      <td>99865</td>\n",
              "      <td>33</td>\n",
              "      <td>5</td>\n",
              "    </tr>\n",
              "    <tr>\n",
              "      <th>3</th>\n",
              "      <td>101620</td>\n",
              "      <td>33</td>\n",
              "      <td>5</td>\n",
              "    </tr>\n",
              "    <tr>\n",
              "      <th>4</th>\n",
              "      <td>112974</td>\n",
              "      <td>33</td>\n",
              "      <td>5</td>\n",
              "    </tr>\n",
              "  </tbody>\n",
              "</table>\n",
              "</div>\n",
              "      <button class=\"colab-df-convert\" onclick=\"convertToInteractive('df-59be33e9-2f52-4b74-a0d9-96c17096dedb')\"\n",
              "              title=\"Convert this dataframe to an interactive table.\"\n",
              "              style=\"display:none;\">\n",
              "        \n",
              "  <svg xmlns=\"http://www.w3.org/2000/svg\" height=\"24px\"viewBox=\"0 0 24 24\"\n",
              "       width=\"24px\">\n",
              "    <path d=\"M0 0h24v24H0V0z\" fill=\"none\"/>\n",
              "    <path d=\"M18.56 5.44l.94 2.06.94-2.06 2.06-.94-2.06-.94-.94-2.06-.94 2.06-2.06.94zm-11 1L8.5 8.5l.94-2.06 2.06-.94-2.06-.94L8.5 2.5l-.94 2.06-2.06.94zm10 10l.94 2.06.94-2.06 2.06-.94-2.06-.94-.94-2.06-.94 2.06-2.06.94z\"/><path d=\"M17.41 7.96l-1.37-1.37c-.4-.4-.92-.59-1.43-.59-.52 0-1.04.2-1.43.59L10.3 9.45l-7.72 7.72c-.78.78-.78 2.05 0 2.83L4 21.41c.39.39.9.59 1.41.59.51 0 1.02-.2 1.41-.59l7.78-7.78 2.81-2.81c.8-.78.8-2.07 0-2.86zM5.41 20L4 18.59l7.72-7.72 1.47 1.35L5.41 20z\"/>\n",
              "  </svg>\n",
              "      </button>\n",
              "      \n",
              "  <style>\n",
              "    .colab-df-container {\n",
              "      display:flex;\n",
              "      flex-wrap:wrap;\n",
              "      gap: 12px;\n",
              "    }\n",
              "\n",
              "    .colab-df-convert {\n",
              "      background-color: #E8F0FE;\n",
              "      border: none;\n",
              "      border-radius: 50%;\n",
              "      cursor: pointer;\n",
              "      display: none;\n",
              "      fill: #1967D2;\n",
              "      height: 32px;\n",
              "      padding: 0 0 0 0;\n",
              "      width: 32px;\n",
              "    }\n",
              "\n",
              "    .colab-df-convert:hover {\n",
              "      background-color: #E2EBFA;\n",
              "      box-shadow: 0px 1px 2px rgba(60, 64, 67, 0.3), 0px 1px 3px 1px rgba(60, 64, 67, 0.15);\n",
              "      fill: #174EA6;\n",
              "    }\n",
              "\n",
              "    [theme=dark] .colab-df-convert {\n",
              "      background-color: #3B4455;\n",
              "      fill: #D2E3FC;\n",
              "    }\n",
              "\n",
              "    [theme=dark] .colab-df-convert:hover {\n",
              "      background-color: #434B5C;\n",
              "      box-shadow: 0px 1px 3px 1px rgba(0, 0, 0, 0.15);\n",
              "      filter: drop-shadow(0px 1px 2px rgba(0, 0, 0, 0.3));\n",
              "      fill: #FFFFFF;\n",
              "    }\n",
              "  </style>\n",
              "\n",
              "      <script>\n",
              "        const buttonEl =\n",
              "          document.querySelector('#df-59be33e9-2f52-4b74-a0d9-96c17096dedb button.colab-df-convert');\n",
              "        buttonEl.style.display =\n",
              "          google.colab.kernel.accessAllowed ? 'block' : 'none';\n",
              "\n",
              "        async function convertToInteractive(key) {\n",
              "          const element = document.querySelector('#df-59be33e9-2f52-4b74-a0d9-96c17096dedb');\n",
              "          const dataTable =\n",
              "            await google.colab.kernel.invokeFunction('convertToInteractive',\n",
              "                                                     [key], {});\n",
              "          if (!dataTable) return;\n",
              "\n",
              "          const docLinkHtml = 'Like what you see? Visit the ' +\n",
              "            '<a target=\"_blank\" href=https://colab.research.google.com/notebooks/data_table.ipynb>data table notebook</a>'\n",
              "            + ' to learn more about interactive tables.';\n",
              "          element.innerHTML = '';\n",
              "          dataTable['output_type'] = 'display_data';\n",
              "          await google.colab.output.renderOutput(dataTable, element);\n",
              "          const docLink = document.createElement('div');\n",
              "          docLink.innerHTML = docLinkHtml;\n",
              "          element.appendChild(docLink);\n",
              "        }\n",
              "      </script>\n",
              "    </div>\n",
              "  </div>\n",
              "  "
            ],
            "text/plain": [
              "     user  movie  rating\n",
              "0   53406     33       4\n",
              "1   99540     33       3\n",
              "2   99865     33       5\n",
              "3  101620     33       5\n",
              "4  112974     33       5"
            ]
          },
          "execution_count": 60,
          "metadata": {},
          "output_type": "execute_result"
        }
      ],
      "source": [
        "train_data_A1.head()"
      ]
    },
    {
      "cell_type": "code",
      "execution_count": null,
      "metadata": {
        "colab": {
          "base_uri": "https://localhost:8080/",
          "height": 206
        },
        "id": "Zeix7SIt7uMi",
        "outputId": "46383273-6af1-44db-8839-acf05fb1fe2b"
      },
      "outputs": [
        {
          "data": {
            "text/html": [
              "\n",
              "  <div id=\"df-602916a6-30c2-42e8-b83d-db01752d3d9c\">\n",
              "    <div class=\"colab-df-container\">\n",
              "      <div>\n",
              "<style scoped>\n",
              "    .dataframe tbody tr th:only-of-type {\n",
              "        vertical-align: middle;\n",
              "    }\n",
              "\n",
              "    .dataframe tbody tr th {\n",
              "        vertical-align: top;\n",
              "    }\n",
              "\n",
              "    .dataframe thead th {\n",
              "        text-align: right;\n",
              "    }\n",
              "</style>\n",
              "<table border=\"1\" class=\"dataframe\">\n",
              "  <thead>\n",
              "    <tr style=\"text-align: right;\">\n",
              "      <th></th>\n",
              "      <th>movie</th>\n",
              "      <th>user</th>\n",
              "      <th>rating</th>\n",
              "      <th>date</th>\n",
              "    </tr>\n",
              "  </thead>\n",
              "  <tbody>\n",
              "    <tr>\n",
              "      <th>0</th>\n",
              "      <td>10341</td>\n",
              "      <td>510180</td>\n",
              "      <td>4</td>\n",
              "      <td>1999-11-11</td>\n",
              "    </tr>\n",
              "    <tr>\n",
              "      <th>1</th>\n",
              "      <td>1798</td>\n",
              "      <td>510180</td>\n",
              "      <td>5</td>\n",
              "      <td>1999-11-11</td>\n",
              "    </tr>\n",
              "    <tr>\n",
              "      <th>2</th>\n",
              "      <td>10774</td>\n",
              "      <td>510180</td>\n",
              "      <td>3</td>\n",
              "      <td>1999-11-11</td>\n",
              "    </tr>\n",
              "    <tr>\n",
              "      <th>3</th>\n",
              "      <td>8651</td>\n",
              "      <td>510180</td>\n",
              "      <td>2</td>\n",
              "      <td>1999-11-11</td>\n",
              "    </tr>\n",
              "    <tr>\n",
              "      <th>4</th>\n",
              "      <td>14660</td>\n",
              "      <td>510180</td>\n",
              "      <td>2</td>\n",
              "      <td>1999-11-11</td>\n",
              "    </tr>\n",
              "  </tbody>\n",
              "</table>\n",
              "</div>\n",
              "      <button class=\"colab-df-convert\" onclick=\"convertToInteractive('df-602916a6-30c2-42e8-b83d-db01752d3d9c')\"\n",
              "              title=\"Convert this dataframe to an interactive table.\"\n",
              "              style=\"display:none;\">\n",
              "        \n",
              "  <svg xmlns=\"http://www.w3.org/2000/svg\" height=\"24px\"viewBox=\"0 0 24 24\"\n",
              "       width=\"24px\">\n",
              "    <path d=\"M0 0h24v24H0V0z\" fill=\"none\"/>\n",
              "    <path d=\"M18.56 5.44l.94 2.06.94-2.06 2.06-.94-2.06-.94-.94-2.06-.94 2.06-2.06.94zm-11 1L8.5 8.5l.94-2.06 2.06-.94-2.06-.94L8.5 2.5l-.94 2.06-2.06.94zm10 10l.94 2.06.94-2.06 2.06-.94-2.06-.94-.94-2.06-.94 2.06-2.06.94z\"/><path d=\"M17.41 7.96l-1.37-1.37c-.4-.4-.92-.59-1.43-.59-.52 0-1.04.2-1.43.59L10.3 9.45l-7.72 7.72c-.78.78-.78 2.05 0 2.83L4 21.41c.39.39.9.59 1.41.59.51 0 1.02-.2 1.41-.59l7.78-7.78 2.81-2.81c.8-.78.8-2.07 0-2.86zM5.41 20L4 18.59l7.72-7.72 1.47 1.35L5.41 20z\"/>\n",
              "  </svg>\n",
              "      </button>\n",
              "      \n",
              "  <style>\n",
              "    .colab-df-container {\n",
              "      display:flex;\n",
              "      flex-wrap:wrap;\n",
              "      gap: 12px;\n",
              "    }\n",
              "\n",
              "    .colab-df-convert {\n",
              "      background-color: #E8F0FE;\n",
              "      border: none;\n",
              "      border-radius: 50%;\n",
              "      cursor: pointer;\n",
              "      display: none;\n",
              "      fill: #1967D2;\n",
              "      height: 32px;\n",
              "      padding: 0 0 0 0;\n",
              "      width: 32px;\n",
              "    }\n",
              "\n",
              "    .colab-df-convert:hover {\n",
              "      background-color: #E2EBFA;\n",
              "      box-shadow: 0px 1px 2px rgba(60, 64, 67, 0.3), 0px 1px 3px 1px rgba(60, 64, 67, 0.15);\n",
              "      fill: #174EA6;\n",
              "    }\n",
              "\n",
              "    [theme=dark] .colab-df-convert {\n",
              "      background-color: #3B4455;\n",
              "      fill: #D2E3FC;\n",
              "    }\n",
              "\n",
              "    [theme=dark] .colab-df-convert:hover {\n",
              "      background-color: #434B5C;\n",
              "      box-shadow: 0px 1px 3px 1px rgba(0, 0, 0, 0.15);\n",
              "      filter: drop-shadow(0px 1px 2px rgba(0, 0, 0, 0.3));\n",
              "      fill: #FFFFFF;\n",
              "    }\n",
              "  </style>\n",
              "\n",
              "      <script>\n",
              "        const buttonEl =\n",
              "          document.querySelector('#df-602916a6-30c2-42e8-b83d-db01752d3d9c button.colab-df-convert');\n",
              "        buttonEl.style.display =\n",
              "          google.colab.kernel.accessAllowed ? 'block' : 'none';\n",
              "\n",
              "        async function convertToInteractive(key) {\n",
              "          const element = document.querySelector('#df-602916a6-30c2-42e8-b83d-db01752d3d9c');\n",
              "          const dataTable =\n",
              "            await google.colab.kernel.invokeFunction('convertToInteractive',\n",
              "                                                     [key], {});\n",
              "          if (!dataTable) return;\n",
              "\n",
              "          const docLinkHtml = 'Like what you see? Visit the ' +\n",
              "            '<a target=\"_blank\" href=https://colab.research.google.com/notebooks/data_table.ipynb>data table notebook</a>'\n",
              "            + ' to learn more about interactive tables.';\n",
              "          element.innerHTML = '';\n",
              "          dataTable['output_type'] = 'display_data';\n",
              "          await google.colab.output.renderOutput(dataTable, element);\n",
              "          const docLink = document.createElement('div');\n",
              "          docLink.innerHTML = docLinkHtml;\n",
              "          element.appendChild(docLink);\n",
              "        }\n",
              "      </script>\n",
              "    </div>\n",
              "  </div>\n",
              "  "
            ],
            "text/plain": [
              "   movie    user  rating       date\n",
              "0  10341  510180       4 1999-11-11\n",
              "1   1798  510180       5 1999-11-11\n",
              "2  10774  510180       3 1999-11-11\n",
              "3   8651  510180       2 1999-11-11\n",
              "4  14660  510180       2 1999-11-11"
            ]
          },
          "execution_count": 13,
          "metadata": {},
          "output_type": "execute_result"
        }
      ],
      "source": [
        "train_df.head()"
      ]
    },
    {
      "cell_type": "code",
      "execution_count": null,
      "metadata": {
        "colab": {
          "base_uri": "https://localhost:8080/",
          "height": 34
        },
        "id": "hgeQpEqn3fOG",
        "outputId": "25d9fb16-81fb-4896-9963-309b961d735a"
      },
      "outputs": [
        {
          "data": {
            "text/plain": [
              "array(['10', '9', '8'], dtype='<U2')"
            ]
          },
          "execution_count": 88,
          "metadata": {},
          "output_type": "execute_result"
        }
      ],
      "source": [
        "a={'8':[[1,2]],'9':[[3,4],[5,6]],'10':[[]]}\n",
        "# avg=np.mean([a[user_id][0] for user_id in a.keys()])\n",
        "# avg\n",
        "# for key in a.keys():\n",
        "#   for movie in a[key]:\n",
        "#     print(key, movie[0])\n",
        "  #print(a[key][0][0])\n",
        "lista=list(a.keys())\n",
        "np.random.permutation(lista)"
      ]
    },
    {
      "cell_type": "code",
      "execution_count": null,
      "metadata": {
        "colab": {
          "base_uri": "https://localhost:8080/"
        },
        "id": "J-wulycDP0c2",
        "outputId": "4ca1ed40-6bdf-4247-de5f-67305dd93d54"
      },
      "outputs": [
        {
          "name": "stdout",
          "output_type": "stream",
          "text": [
            "data.csv\t\t\t     sample_test_sparse_matrix.npz\n",
            "data_folder\t\t\t     sample_train_sparse_matrix.npz\n",
            "dict.json\t\t\t     test.csv\n",
            "Netflix_Movie_Recommendation1.ipynb  test_sparse_matrix.npz\n",
            "reg_test.csv\t\t\t     train.csv\n",
            "reg_train.csv\t\t\t     train_sparse_matrix.npz\n"
          ]
        }
      ],
      "source": [
        "!ls"
      ]
    },
    {
      "cell_type": "code",
      "execution_count": 9,
      "metadata": {
        "id": "-GvU_3yKzC0N"
      },
      "outputs": [],
      "source": [
        "from collections import defaultdict\n",
        "import json\n",
        "def create_movie_user_dict_train(df):\n",
        "\n",
        "    if not os.path.isfile('movie_user_train.json'):\n",
        "        movie_user = defaultdict(list)\n",
        "        # count=0\n",
        "        for iter, row in df.iterrows():\n",
        "            # count+=1\n",
        "            # if count%10000==0:\n",
        "            #   print(count)\n",
        "            movie_user[row[0]].append([row[1], row[2]])\n",
        "        my_json = json.dumps(movie_user)\n",
        "        f = open(\"movie_user_train.json\",\"w\")\n",
        "        f.write(my_json)\n",
        "        f.close()\n",
        "    else:\n",
        "        print(\"opening json file\")\n",
        "        with open('movie_user_train.json') as json_file:\n",
        "          movie_user = json.load(json_file)\n",
        "    print('movie_user_train.json loaded')\n",
        "    return movie_user\n",
        "\n",
        "def create_user_movie_dict_train(df):\n",
        "\n",
        "    if not os.path.isfile('user_movie_train.json'):\n",
        "        user_movie = defaultdict(list)\n",
        "        for iter, row in df.iterrows():\n",
        "            user_movie[row[1]].append([row[0], row[2]])\n",
        "        my_json = json.dumps(user_movie)\n",
        "        f = open(\"user_movie_train.json\",\"w\")\n",
        "        f.write(my_json)\n",
        "        f.close()\n",
        "    else:\n",
        "        print(\"opening json file\")\n",
        "        with open('user_movie_train.json') as json_file:\n",
        "          user_movie = json.load(json_file)\n",
        "    print('user_movie_train.json loaded')\n",
        "    return user_movie\n",
        "\n",
        "def create_movie_user_dict_test(df):\n",
        "\n",
        "    if not os.path.isfile('movie_user_test.json'):\n",
        "        movie_user = defaultdict(list)\n",
        "        for iter, row in df.iterrows():\n",
        "            movie_user[row[0]].append([row[1], row[2]])\n",
        "        my_json = json.dumps(movie_user)\n",
        "        f = open(\"movie_user_test.json\",\"w\")\n",
        "        f.write(my_json)\n",
        "        f.close()\n",
        "    else:\n",
        "        print(\"opening json file\")\n",
        "        with open('movie_user_test.json') as json_file:\n",
        "          movie_user = json.load(json_file)\n",
        "    print('movie_user_test.json loaded')\n",
        "    return movie_user\n",
        "\n",
        "def create_user_movie_dict_test(df):\n",
        "\n",
        "    if not os.path.isfile('user_movie_test.json'):\n",
        "        user_movie = defaultdict(list)\n",
        "        for iter, row in df.iterrows():\n",
        "            user_movie[row[1]].append([row[0], row[2]])\n",
        "        my_json = json.dumps(user_movie)\n",
        "        f = open(\"user_movie_test.json\",\"w\")\n",
        "        f.write(my_json)\n",
        "        f.close()\n",
        "    else:\n",
        "        print(\"opening json file\")\n",
        "        with open('user_movie_test.json') as json_file:\n",
        "          user_movie = json.load(json_file)\n",
        "    print('user_movie_test.json loaded')\n",
        "    return user_movie"
      ]
    },
    {
      "cell_type": "code",
      "execution_count": 10,
      "metadata": {
        "id": "nCWKHZhjac4H"
      },
      "outputs": [],
      "source": [
        "import gc"
      ]
    },
    {
      "cell_type": "code",
      "execution_count": 11,
      "metadata": {
        "colab": {
          "base_uri": "https://localhost:8080/"
        },
        "id": "uECLgs6rNHfy",
        "outputId": "33aed6d0-edde-47e5-cf36-34a1632c3945"
      },
      "outputs": [
        {
          "output_type": "stream",
          "name": "stdout",
          "text": [
            "opening json file\n",
            "movie_user_train.json loaded\n"
          ]
        },
        {
          "output_type": "execute_result",
          "data": {
            "text/plain": [
              "0"
            ]
          },
          "metadata": {},
          "execution_count": 11
        }
      ],
      "source": [
        "movie_user_train = create_movie_user_dict_train(train_df)\n",
        "gc.collect()"
      ]
    },
    {
      "cell_type": "code",
      "execution_count": 12,
      "metadata": {
        "colab": {
          "base_uri": "https://localhost:8080/"
        },
        "id": "2moeKpFUZ3t4",
        "outputId": "0f975887-97e0-493b-86dd-84969f08951b"
      },
      "outputs": [
        {
          "output_type": "stream",
          "name": "stdout",
          "text": [
            "opening json file\n",
            "user_movie_train.json loaded\n"
          ]
        },
        {
          "output_type": "execute_result",
          "data": {
            "text/plain": [
              "0"
            ]
          },
          "metadata": {},
          "execution_count": 12
        }
      ],
      "source": [
        "user_movie_train = create_user_movie_dict_train(train_df)\n",
        "gc.collect()"
      ]
    },
    {
      "cell_type": "code",
      "execution_count": 13,
      "metadata": {
        "colab": {
          "base_uri": "https://localhost:8080/"
        },
        "id": "K1r00gfCYjzy",
        "outputId": "3a0b4ace-5437-4eca-9588-d1bce9ecfead"
      },
      "outputs": [
        {
          "output_type": "stream",
          "name": "stdout",
          "text": [
            "opening json file\n",
            "movie_user_test.json loaded\n"
          ]
        },
        {
          "output_type": "execute_result",
          "data": {
            "text/plain": [
              "0"
            ]
          },
          "metadata": {},
          "execution_count": 13
        }
      ],
      "source": [
        "movie_user_test = create_movie_user_dict_test(test_df)\n",
        "gc.collect()"
      ]
    },
    {
      "cell_type": "code",
      "execution_count": 14,
      "metadata": {
        "colab": {
          "base_uri": "https://localhost:8080/"
        },
        "id": "ACnPNc-xZ701",
        "outputId": "dee2ec54-30d7-4bb3-f5ff-ebbf42aee61e"
      },
      "outputs": [
        {
          "output_type": "stream",
          "name": "stdout",
          "text": [
            "opening json file\n",
            "user_movie_test.json loaded\n"
          ]
        },
        {
          "output_type": "execute_result",
          "data": {
            "text/plain": [
              "0"
            ]
          },
          "metadata": {},
          "execution_count": 14
        }
      ],
      "source": [
        "user_movie_test = create_user_movie_dict_test(test_df)\n",
        "gc.collect()"
      ]
    },
    {
      "cell_type": "code",
      "execution_count": null,
      "metadata": {
        "colab": {
          "base_uri": "https://localhost:8080/",
          "height": 206
        },
        "id": "S6gkYQNLEX8q",
        "outputId": "3b3d554b-b130-425e-8ea1-8b8f959b8553"
      },
      "outputs": [
        {
          "data": {
            "text/html": [
              "\n",
              "  <div id=\"df-b3a403f4-5bdc-4534-90b2-976a9d29b529\">\n",
              "    <div class=\"colab-df-container\">\n",
              "      <div>\n",
              "<style scoped>\n",
              "    .dataframe tbody tr th:only-of-type {\n",
              "        vertical-align: middle;\n",
              "    }\n",
              "\n",
              "    .dataframe tbody tr th {\n",
              "        vertical-align: top;\n",
              "    }\n",
              "\n",
              "    .dataframe thead th {\n",
              "        text-align: right;\n",
              "    }\n",
              "</style>\n",
              "<table border=\"1\" class=\"dataframe\">\n",
              "  <thead>\n",
              "    <tr style=\"text-align: right;\">\n",
              "      <th></th>\n",
              "      <th>movie</th>\n",
              "      <th>user</th>\n",
              "      <th>rating</th>\n",
              "      <th>date</th>\n",
              "    </tr>\n",
              "  </thead>\n",
              "  <tbody>\n",
              "    <tr>\n",
              "      <th>56431994</th>\n",
              "      <td>10341</td>\n",
              "      <td>510180</td>\n",
              "      <td>4</td>\n",
              "      <td>1999-11-11</td>\n",
              "    </tr>\n",
              "    <tr>\n",
              "      <th>9056171</th>\n",
              "      <td>1798</td>\n",
              "      <td>510180</td>\n",
              "      <td>5</td>\n",
              "      <td>1999-11-11</td>\n",
              "    </tr>\n",
              "    <tr>\n",
              "      <th>58698779</th>\n",
              "      <td>10774</td>\n",
              "      <td>510180</td>\n",
              "      <td>3</td>\n",
              "      <td>1999-11-11</td>\n",
              "    </tr>\n",
              "    <tr>\n",
              "      <th>48101611</th>\n",
              "      <td>8651</td>\n",
              "      <td>510180</td>\n",
              "      <td>2</td>\n",
              "      <td>1999-11-11</td>\n",
              "    </tr>\n",
              "    <tr>\n",
              "      <th>81893208</th>\n",
              "      <td>14660</td>\n",
              "      <td>510180</td>\n",
              "      <td>2</td>\n",
              "      <td>1999-11-11</td>\n",
              "    </tr>\n",
              "  </tbody>\n",
              "</table>\n",
              "</div>\n",
              "      <button class=\"colab-df-convert\" onclick=\"convertToInteractive('df-b3a403f4-5bdc-4534-90b2-976a9d29b529')\"\n",
              "              title=\"Convert this dataframe to an interactive table.\"\n",
              "              style=\"display:none;\">\n",
              "        \n",
              "  <svg xmlns=\"http://www.w3.org/2000/svg\" height=\"24px\"viewBox=\"0 0 24 24\"\n",
              "       width=\"24px\">\n",
              "    <path d=\"M0 0h24v24H0V0z\" fill=\"none\"/>\n",
              "    <path d=\"M18.56 5.44l.94 2.06.94-2.06 2.06-.94-2.06-.94-.94-2.06-.94 2.06-2.06.94zm-11 1L8.5 8.5l.94-2.06 2.06-.94-2.06-.94L8.5 2.5l-.94 2.06-2.06.94zm10 10l.94 2.06.94-2.06 2.06-.94-2.06-.94-.94-2.06-.94 2.06-2.06.94z\"/><path d=\"M17.41 7.96l-1.37-1.37c-.4-.4-.92-.59-1.43-.59-.52 0-1.04.2-1.43.59L10.3 9.45l-7.72 7.72c-.78.78-.78 2.05 0 2.83L4 21.41c.39.39.9.59 1.41.59.51 0 1.02-.2 1.41-.59l7.78-7.78 2.81-2.81c.8-.78.8-2.07 0-2.86zM5.41 20L4 18.59l7.72-7.72 1.47 1.35L5.41 20z\"/>\n",
              "  </svg>\n",
              "      </button>\n",
              "      \n",
              "  <style>\n",
              "    .colab-df-container {\n",
              "      display:flex;\n",
              "      flex-wrap:wrap;\n",
              "      gap: 12px;\n",
              "    }\n",
              "\n",
              "    .colab-df-convert {\n",
              "      background-color: #E8F0FE;\n",
              "      border: none;\n",
              "      border-radius: 50%;\n",
              "      cursor: pointer;\n",
              "      display: none;\n",
              "      fill: #1967D2;\n",
              "      height: 32px;\n",
              "      padding: 0 0 0 0;\n",
              "      width: 32px;\n",
              "    }\n",
              "\n",
              "    .colab-df-convert:hover {\n",
              "      background-color: #E2EBFA;\n",
              "      box-shadow: 0px 1px 2px rgba(60, 64, 67, 0.3), 0px 1px 3px 1px rgba(60, 64, 67, 0.15);\n",
              "      fill: #174EA6;\n",
              "    }\n",
              "\n",
              "    [theme=dark] .colab-df-convert {\n",
              "      background-color: #3B4455;\n",
              "      fill: #D2E3FC;\n",
              "    }\n",
              "\n",
              "    [theme=dark] .colab-df-convert:hover {\n",
              "      background-color: #434B5C;\n",
              "      box-shadow: 0px 1px 3px 1px rgba(0, 0, 0, 0.15);\n",
              "      filter: drop-shadow(0px 1px 2px rgba(0, 0, 0, 0.3));\n",
              "      fill: #FFFFFF;\n",
              "    }\n",
              "  </style>\n",
              "\n",
              "      <script>\n",
              "        const buttonEl =\n",
              "          document.querySelector('#df-b3a403f4-5bdc-4534-90b2-976a9d29b529 button.colab-df-convert');\n",
              "        buttonEl.style.display =\n",
              "          google.colab.kernel.accessAllowed ? 'block' : 'none';\n",
              "\n",
              "        async function convertToInteractive(key) {\n",
              "          const element = document.querySelector('#df-b3a403f4-5bdc-4534-90b2-976a9d29b529');\n",
              "          const dataTable =\n",
              "            await google.colab.kernel.invokeFunction('convertToInteractive',\n",
              "                                                     [key], {});\n",
              "          if (!dataTable) return;\n",
              "\n",
              "          const docLinkHtml = 'Like what you see? Visit the ' +\n",
              "            '<a target=\"_blank\" href=https://colab.research.google.com/notebooks/data_table.ipynb>data table notebook</a>'\n",
              "            + ' to learn more about interactive tables.';\n",
              "          element.innerHTML = '';\n",
              "          dataTable['output_type'] = 'display_data';\n",
              "          await google.colab.output.renderOutput(dataTable, element);\n",
              "          const docLink = document.createElement('div');\n",
              "          docLink.innerHTML = docLinkHtml;\n",
              "          element.appendChild(docLink);\n",
              "        }\n",
              "      </script>\n",
              "    </div>\n",
              "  </div>\n",
              "  "
            ],
            "text/plain": [
              "          movie    user  rating       date\n",
              "56431994  10341  510180       4 1999-11-11\n",
              "9056171    1798  510180       5 1999-11-11\n",
              "58698779  10774  510180       3 1999-11-11\n",
              "48101611   8651  510180       2 1999-11-11\n",
              "81893208  14660  510180       2 1999-11-11"
            ]
          },
          "execution_count": 21,
          "metadata": {},
          "output_type": "execute_result"
        }
      ],
      "source": [
        "df.head()"
      ]
    },
    {
      "cell_type": "code",
      "execution_count": 19,
      "metadata": {
        "colab": {
          "base_uri": "https://localhost:8080/"
        },
        "id": "hvyof-Ukhoef",
        "outputId": "c6022a79-7be4-474b-c181-d8371d3b8ac5"
      },
      "outputs": [
        {
          "output_type": "stream",
          "name": "stdout",
          "text": [
            "step 1 is running\n",
            "rmse is 0.930681, mape is 28.692381\n",
            "step 2 is running\n",
            "rmse is 0.911508, mape is 28.010546\n",
            "step 3 is running\n",
            "rmse is 0.904915, mape is 27.787671\n",
            "step 4 is running\n",
            "rmse is 0.902248, mape is 27.706676\n",
            "step 5 is running\n",
            "rmse is 0.900304, mape is 27.651940\n",
            "step 6 is running\n",
            "rmse is 0.898853, mape is 27.610988\n",
            "step 7 is running\n",
            "rmse is 0.897721, mape is 27.584084\n",
            "step 8 is running\n",
            "rmse is 0.896753, mape is 27.561957\n",
            "step 9 is running\n",
            "rmse is 0.895850, mape is 27.541974\n",
            "step 10 is running\n",
            "rmse is 0.894900, mape is 27.512758\n",
            "step 11 is running\n",
            "rmse is 0.894344, mape is 27.505143\n",
            "step 12 is running\n",
            "rmse is 0.893502, mape is 27.485455\n",
            "step 13 is running\n",
            "rmse is 0.893066, mape is 27.476706\n",
            "step 14 is running\n",
            "rmse is 0.892731, mape is 27.475897\n",
            "step 15 is running\n",
            "rmse is 0.892038, mape is 27.457791\n",
            "step 16 is running\n",
            "rmse is 0.891305, mape is 27.434367\n",
            "step 17 is running\n",
            "rmse is 0.891134, mape is 27.435108\n",
            "step 18 is running\n",
            "rmse is 0.890657, mape is 27.424751\n",
            "step 19 is running\n",
            "rmse is 0.890544, mape is 27.427971\n",
            "step 20 is running\n",
            "rmse is 0.890059, mape is 27.414911\n",
            "rmse is 0.999104, mape is 30.426929\n"
          ]
        }
      ],
      "source": [
        "class SVD:  \n",
        "    def __init__(self,movie_user,user_movie,K=30):  \n",
        "        self.movie_user=movie_user \n",
        "        self.user_movie=user_movie \n",
        "        self.K=K  \n",
        "        self.bi={}  \n",
        "        self.bu={}  \n",
        "        self.qi={}  \n",
        "        self.pu={}  \n",
        "        sum_rating=0\n",
        "        num_rating=0\n",
        "        for key in user_movie.keys():\n",
        "          num_rating+=len(user_movie[key])\n",
        "          for movie_rating in user_movie[key]:\n",
        "            sum_rating+=movie_rating[1]\n",
        "        self.avg=sum_rating/num_rating   \n",
        "        for user_id in list(user_movie.keys()): \n",
        "            uid=user_id\n",
        "            self.bu.setdefault(uid,0)\n",
        "            self.pu.setdefault(uid,np.random.random((self.K,1))/10*np.sqrt(self.K))\n",
        "        for movie_id in list(movie_user.keys()):\n",
        "            iid=movie_id  \n",
        "            self.bi.setdefault(iid,0)   \n",
        "            self.qi.setdefault(iid,np.random.random((self.K,1))/10*np.sqrt(self.K))  \n",
        "    \n",
        "    def predict(self,uid,iid):  #预测评分的函数  \n",
        "        #setdefault的作用是当该用户或者物品未出现过时，新建它的bi,bu,qi,pu，并设置初始值为0  \n",
        "        self.bi.setdefault(iid,0)  \n",
        "        self.bu.setdefault(uid,0)  \n",
        "        self.qi.setdefault(iid,np.zeros((self.K,1)))  \n",
        "        self.pu.setdefault(uid,np.zeros((self.K,1)))  \n",
        "        rating=self.avg+self.bi[iid]+self.bu[uid]+np.sum(self.qi[iid]*self.pu[uid]) #预测评分公式  \n",
        "        #由于评分范围在1到5，所以当分数大于5或小于1时，返回5,1.  \n",
        "        if rating>5:  \n",
        "            rating=5  \n",
        "        if rating<1:  \n",
        "            rating=1  \n",
        "        return rating  \n",
        "      \n",
        "    def train(self,movie_user,steps=20,gamma=0.04,Lambda=0.15):    #训练函数，step为迭代次数。  \n",
        "        for step in range(steps):  \n",
        "            print('step',step+1,'is running')  \n",
        "            KK=np.random.permutation(list(movie_user.keys())) #随机梯度下降算法，kk为对user_movie的keys进行随机洗牌\n",
        "            rmse=0.0;mape=0\n",
        "            count1=0\n",
        "            for movie_id in KK:  \n",
        "                for movie_rating in movie_user[movie_id]:  \n",
        "                  iid=movie_id  \n",
        "                  uid=movie_rating[0]  \n",
        "                  rating=movie_rating[1]  \n",
        "                  eui=rating-self.predict(uid, iid)  \n",
        "                  rmse+=eui**2  \n",
        "                  mape+=abs(eui)/rating\n",
        "                  self.bu[uid]+=gamma*(eui-Lambda*self.bu[uid])    \n",
        "                  self.bi[iid]+=gamma*(eui-Lambda*self.bi[iid])  \n",
        "                  tmp=self.qi[iid]  \n",
        "                  self.qi[iid]+=gamma*(eui*self.pu[uid]-Lambda*self.qi[iid])  \n",
        "                  self.pu[uid]+=gamma*(eui*tmp-Lambda*self.pu[uid]) \n",
        "                  count1+=1 \n",
        "            gamma=0.93*gamma  #gamma以0.93的学习率递减 \n",
        "            print('rmse is {0:3f}, mape is {1:3f}'.format(np.sqrt(rmse/count1),mape*100/count1))  \n",
        "      \n",
        "    def test(self,movie_user):   \n",
        "        rmse=0.0;mape=0  \n",
        "        count2=0\n",
        "        for movie_id in movie_user.keys(): \n",
        "          for movie_rating in movie_user[movie_id]: \n",
        "            uid=movie_rating[0]  \n",
        "            iid=movie_id  \n",
        "            rating=movie_rating[1]  \n",
        "            eui=rating-self.predict(uid, iid)  \n",
        "            rmse+=eui**2  \n",
        "            mape+=abs(eui)/rating\n",
        "            count2+=1\n",
        "        print('rmse is {0:3f}, mape is {1:3f}'.format(np.sqrt(rmse/count2),mape*100/count2))  \n",
        "           \n",
        "if __name__=='__main__':  \n",
        "     \n",
        "    a1=SVD(movie_user_train,user_movie_train,30)    \n",
        "    a1.train(movie_user_train)  \n",
        "    a1.test(movie_user_test)"
      ]
    },
    {
      "cell_type": "code",
      "source": [
        "a1_rmse=0.9991\n",
        "a1_mape=30.427"
      ],
      "metadata": {
        "id": "KIKdhpqkvJCU"
      },
      "execution_count": 62,
      "outputs": []
    },
    {
      "cell_type": "code",
      "source": [
        "def get_prediction(movie_user):\n",
        "  rating_a1=[]\n",
        "  prediction_a1=[]\n",
        "  for movie_id in movie_user.keys():\n",
        "    for movie_rating in movie_user[movie_id]:\n",
        "      uid=movie_rating[0] \n",
        "      rating=movie_rating[1]  \n",
        "      iid=movie_id    \n",
        "      prediction=a1.predict(uid, iid)  \n",
        "      rating_a1.append(rating)\n",
        "      prediction_a1.append(prediction)\n",
        "  return rating_a1,prediction_a1"
      ],
      "metadata": {
        "id": "q4pCGNU7xAXg"
      },
      "execution_count": null,
      "outputs": []
    },
    {
      "cell_type": "code",
      "source": [
        "rating_a1,prediction_a1=get_prediction(movie_user_test)\n",
        "rating_a1_csv=pd.DataFrame(data=rating_a1)\n",
        "prediction_a1_csv=pd.DataFrame(data=prediction_a1)\n",
        "rating_a1_csv.to_csv('rating_a1.csv',encoding='utf-8')\n",
        "prediction_a1_csv.to_csv('prediction_a1.csv',encoding='utf-8')"
      ],
      "metadata": {
        "id": "JbvniNWGxBBx"
      },
      "execution_count": null,
      "outputs": []
    },
    {
      "cell_type": "code",
      "execution_count": null,
      "metadata": {
        "id": "SsfZ8Qr0xhBS"
      },
      "outputs": [],
      "source": [
        "# train_data,test_data=train_df,test_df \n",
        "# a=SVD(train_data,30)    \n",
        "# a.train()  \n",
        "# a.test(test_df)"
      ]
    },
    {
      "cell_type": "markdown",
      "metadata": {
        "id": "lq88Q9YcxVdr"
      },
      "source": [
        "  <h4> SVD Matrix Factorization with implicit feedback from user ( user rated movies ) </h4>"
      ]
    },
    {
      "cell_type": "code",
      "execution_count": null,
      "metadata": {
        "id": "0XeG1JpVF387"
      },
      "outputs": [],
      "source": [
        "user_movie_train.keys()"
      ]
    },
    {
      "cell_type": "code",
      "execution_count": null,
      "metadata": {
        "id": "4k_bf3lqF609"
      },
      "outputs": [],
      "source": [
        "for user_id in user_movie_train.keys():\n",
        "  uid=user_id\n",
        "  # print(uid)\n",
        "  i=0\n",
        "  for movie_rating_pairs in user_movie_train[uid]:\n",
        "    print(i)\n",
        "    print(movie_rating_pairs)\n",
        "              "
      ]
    },
    {
      "cell_type": "code",
      "execution_count": null,
      "metadata": {
        "id": "mFkXFKkuTCrr"
      },
      "outputs": [],
      "source": [
        "user_movie_train['510180']"
      ]
    },
    {
      "cell_type": "code",
      "execution_count": null,
      "metadata": {
        "id": "CDxeqUpUaik6"
      },
      "outputs": [],
      "source": [
        "for user_id in user_movie_train.keys():\n",
        "  print(type(user_id))"
      ]
    },
    {
      "cell_type": "code",
      "execution_count": null,
      "metadata": {
        "colab": {
          "base_uri": "https://localhost:8080/"
        },
        "id": "rN--SUyIeWUB",
        "outputId": "05c8cdc0-b3d4-4ea1-cff0-6a568cfa35d2"
      },
      "outputs": [
        {
          "name": "stdout",
          "output_type": "stream",
          "text": [
            "1\n"
          ]
        }
      ],
      "source": [
        "a=1\n",
        "print(str(a))"
      ]
    },
    {
      "cell_type": "code",
      "execution_count": 18,
      "metadata": {
        "id": "0IzMu-MMxUtz",
        "colab": {
          "base_uri": "https://localhost:8080/"
        },
        "outputId": "4b9fe45f-b72f-473c-f0d4-47191eeeb8cf"
      },
      "outputs": [
        {
          "output_type": "stream",
          "name": "stdout",
          "text": [
            "step 1 is running\n",
            "rmse is 0.929614, mape is 28.659002\n",
            "step 2 is running\n",
            "rmse is 0.909448, mape is 27.934227\n",
            "step 3 is running\n",
            "rmse is 0.903887, mape is 27.754527\n",
            "step 4 is running\n",
            "rmse is 0.901565, mape is 27.682198\n",
            "step 5 is running\n",
            "rmse is 0.900010, mape is 27.641751\n",
            "step 6 is running\n",
            "rmse is 0.898869, mape is 27.614438\n",
            "step 7 is running\n",
            "rmse is 0.897527, mape is 27.579365\n",
            "step 8 is running\n",
            "rmse is 0.896925, mape is 27.570184\n",
            "step 9 is running\n",
            "rmse is 0.895907, mape is 27.544426\n",
            "step 10 is running\n",
            "rmse is 0.894960, mape is 27.519799\n",
            "step 11 is running\n",
            "rmse is 0.894531, mape is 27.511672\n",
            "step 12 is running\n",
            "rmse is 0.893669, mape is 27.492071\n",
            "rmse is 1.000600, mape is 30.468413\n"
          ]
        }
      ],
      "source": [
        "class SVDPP:  \n",
        "    def __init__(self,movie_user,user_movie,K=30):  \n",
        "        self.movie_user=movie_user \n",
        "        self.user_movie=user_movie  \n",
        "        self.K=K  \n",
        "        self.bi={}  \n",
        "        self.bu={}  \n",
        "        self.qi={}  \n",
        "        self.pu={} \n",
        "        sum_rating=0\n",
        "        num_rating=0 \n",
        "        for key in user_movie.keys():\n",
        "          num_rating+=len(user_movie[key])\n",
        "          for movie_rating_pairs in user_movie[key]:\n",
        "             sum_rating+=movie_rating_pairs[1]\n",
        "        self.avg=sum_rating/num_rating  \n",
        "        self.y={}  \n",
        "        self.u_dict={}\n",
        "        for user_id in user_movie.keys(): \n",
        "            uid=user_id\n",
        "            self.bu.setdefault(uid,0)\n",
        "            self.pu.setdefault(uid,np.random.random((self.K,1))/10*np.sqrt(self.K))\n",
        "\n",
        "        for movie_id in movie_user.keys():\n",
        "            iid=movie_id \n",
        "            # print(type(iid)) \n",
        "            self.bi.setdefault(iid,0)   \n",
        "            self.qi.setdefault(iid,np.random.random((self.K,1))/10*np.sqrt(self.K))\n",
        "            self.y.setdefault(iid,np.zeros((self.K,1))+.1)\n",
        "\n",
        "        for user_id in user_movie.keys():\n",
        "          uid=user_id\n",
        "          # print(type(uid))\n",
        "          self.u_dict.setdefault(uid,[])\n",
        "          for movie_rating in user_movie[uid]:\n",
        "            iid=movie_rating[0]\n",
        "            self.u_dict[uid].append(str(iid))\n",
        "\n",
        "    def predict(self,uid,iid):  #预测评分的函数  \n",
        "        #setdefault的作用是当该用户或者物品未出现过时，新建它的bi,bu,qi,pu及用户评价过的物品u_dict，并设置初始值为0  \n",
        "        self.bi.setdefault(iid,0)  \n",
        "        self.bu.setdefault(uid,0)  \n",
        "        self.qi.setdefault(iid,np.zeros((self.K,1)))  \n",
        "        self.pu.setdefault(uid,np.zeros((self.K,1)))  \n",
        "        self.y.setdefault(iid,np.zeros((self.K,1)))  \n",
        "        self.u_dict.setdefault(uid,[])  \n",
        "        u_impl_prf,sqrt_Nu=self.getY(uid, iid)  \n",
        "        rating=self.avg+self.bi[iid]+self.bu[uid]+np.sum(self.qi[iid]*(self.pu[uid]+u_impl_prf)) #预测评分公式  \n",
        "        #由于评分范围在1到5，所以当分数大于5或小于1时，返回5,1.  \n",
        "        if rating>5:  \n",
        "            rating=5  \n",
        "        if rating<1:  \n",
        "            rating=1  \n",
        "        return rating  \n",
        "      \n",
        "    #计算sqrt_Nu和∑yj  \n",
        "    def getY(self,uid,iid):  \n",
        "        Nu=self.u_dict[uid] \n",
        "        # Nu=[str(x) for x in Nu]\n",
        "        I_Nu=len(Nu)  \n",
        "        sqrt_Nu=np.sqrt(I_Nu)  \n",
        "        y_u=np.zeros((self.K,1))  \n",
        "        if I_Nu==0: \n",
        "            # print(\" \") \n",
        "            u_impl_prf=y_u  \n",
        "        else:  \n",
        "            for i in Nu:\n",
        "              # print(type(i))\n",
        "              # print(i) \n",
        "              y_u+=self.y[i]  \n",
        "            u_impl_prf = y_u / sqrt_Nu  \n",
        "          \n",
        "        return u_impl_prf,sqrt_Nu  \n",
        "      \n",
        "    def train(self,movie_user,steps=12,gamma=0.04,Lambda=0.15):    #训练函数，step为迭代次数。  \n",
        "        for step in range(steps):  \n",
        "          print('step',step+1,'is running')  \n",
        "          KK=np.random.permutation(list(movie_user.keys())) #随机梯度下降算法，kk为对矩阵进行随机洗牌  \n",
        "          rmse=0.0\n",
        "          mape=0 \n",
        "          count1=0\n",
        "          for movie_id in KK:\n",
        "            # print(user_id)\n",
        "            # print(type(user_id)) \n",
        "            for movie_rating in movie_user[movie_id]:\n",
        "              iid=movie_id\n",
        "              uid=movie_rating[0] \n",
        "              rating=movie_rating[1]\n",
        "              predict=self.predict(uid, iid)  \n",
        "              u_impl_prf,sqrt_Nu=self.getY(uid, iid)  \n",
        "              eui=rating-predict  \n",
        "              rmse+=eui**2\n",
        "              mape+=abs(eui)/rating  \n",
        "              self.bu[uid]+=gamma*(eui-Lambda*self.bu[uid])    \n",
        "              self.bi[iid]+=gamma*(eui-Lambda*self.bi[iid])  \n",
        "              self.pu[uid]+=gamma*(eui*self.qi[iid]-Lambda*self.pu[uid])  \n",
        "              self.qi[iid]+=gamma*(eui*(self.pu[uid]+u_impl_prf)-Lambda*self.qi[iid])  \n",
        "              for j in self.u_dict[uid]:  \n",
        "                self.y[j]+=gamma*(eui*self.qi[j]/sqrt_Nu-Lambda*self.y[j])  \n",
        "              count1+=1             \n",
        "          gamma=0.93*gamma  \n",
        "          print('rmse is {0:3f}, mape is {1:3f}'.format(np.sqrt(rmse/count1),mape*100/count1))  \n",
        "      \n",
        "    def test(self,movie_user):  #gamma以0.93的学习率递减  \n",
        "            \n",
        "        rmse=0.0 \n",
        "        mape=0 \n",
        "        count2=0\n",
        "        for movie_id in movie_user.keys():\n",
        "          for movie_rating in movie_user[movie_id]:\n",
        "            uid=movie_rating[0] \n",
        "            rating=movie_rating[1]  \n",
        "            iid=movie_id    \n",
        "            eui=rating-self.predict(uid, iid)  \n",
        "            rmse+=eui**2  \n",
        "            mape+=abs(eui)/rating\n",
        "            count2+=1\n",
        "        print('rmse is {0:3f}, mape is {1:3f}'.format(np.sqrt(rmse/count2),mape*100/count2))\n",
        "\n",
        "if __name__=='__main__':  \n",
        "    a2=SVDPP(movie_user_train,user_movie_train,30)    \n",
        "    a2.train(movie_user_train)  \n",
        "    a2.test(movie_user_test) \n"
      ]
    },
    {
      "cell_type": "code",
      "source": [
        "a2_rmse=1.0006\n",
        "a2_mape=30.468"
      ],
      "metadata": {
        "id": "16XlY4BwvQhO"
      },
      "execution_count": 63,
      "outputs": []
    },
    {
      "cell_type": "code",
      "source": [
        "# bu_a2 = a2.bu\n",
        "# bi_a2 = a2.bi\n",
        "# qi_a2 = a2.qi\n",
        "# pu_a2 = a2.pu\n",
        "\n",
        "def get_prediction(movie_user):\n",
        "  rating_a2=[]\n",
        "  prediction_a2=[]\n",
        "  for movie_id in movie_user.keys():\n",
        "    for movie_rating in movie_user[movie_id]:\n",
        "      uid=movie_rating[0] \n",
        "      rating=movie_rating[1]  \n",
        "      iid=movie_id    \n",
        "      prediction=a2.predict(uid, iid)  \n",
        "      rating_a2.append(rating)\n",
        "      prediction_a2.append(prediction)\n",
        "  return rating_a2,prediction_a2"
      ],
      "metadata": {
        "id": "l1yLpQtiitTK"
      },
      "execution_count": 30,
      "outputs": []
    },
    {
      "cell_type": "code",
      "source": [
        "rating_a2,prediction_a2=get_prediction(movie_user_test)\n",
        "rating_a2_csv=pd.DataFrame(data=rating_a2)\n",
        "prediction_a2_csv=pd.DataFrame(data=prediction_a2)\n",
        "rating_a2_csv.to_csv('rating_a2.csv',encoding='utf-8')\n",
        "prediction_a2_csv.to_csv('prediction_a2.csv',encoding='utf-8')"
      ],
      "metadata": {
        "id": "7OZk9D1rrHPD"
      },
      "execution_count": 34,
      "outputs": []
    },
    {
      "cell_type": "markdown",
      "metadata": {
        "id": "9REqQJvlCBvM"
      },
      "source": [
        "  <h4> Temporal Dynamics 1\n",
        "   </h4>"
      ]
    },
    {
      "cell_type": "code",
      "source": [
        "gc.collect()"
      ],
      "metadata": {
        "colab": {
          "base_uri": "https://localhost:8080/"
        },
        "id": "14x4445UsxEt",
        "outputId": "7e322060-c8bf-4fbd-9574-1a265457ac4b"
      },
      "execution_count": 36,
      "outputs": [
        {
          "output_type": "execute_result",
          "data": {
            "text/plain": [
              "224"
            ]
          },
          "metadata": {},
          "execution_count": 36
        }
      ]
    },
    {
      "cell_type": "code",
      "execution_count": 15,
      "metadata": {
        "id": "BnRZNAK-md1U"
      },
      "outputs": [],
      "source": [
        "from collections import defaultdict\n",
        "import json\n",
        "def create_movie_user_dict_train_date(df):\n",
        "\n",
        "    if not os.path.isfile('movie_user_train_date.json'):\n",
        "        movie_user = defaultdict(list)\n",
        "        # count=0\n",
        "        for iter, row in df.iterrows():\n",
        "            # count+=1\n",
        "            # if count%10000==0:\n",
        "            #   print(count)\n",
        "            movie_user[row[3].year].append([row[0], row[1], row[2]])\n",
        "        my_json = json.dumps(movie_user)\n",
        "        f = open(\"movie_user_train_date.json\",\"w\")\n",
        "        f.write(my_json)\n",
        "        f.close()\n",
        "    else:\n",
        "        print(\"opening json file\")\n",
        "        with open('movie_user_train_date.json') as json_file:\n",
        "          movie_user = json.load(json_file)\n",
        "    print('movie_user_train_date.json loaded')\n",
        "    return movie_user\n",
        "\n",
        "def create_movie_user_dict_test_date(df):\n",
        "\n",
        "    if not os.path.isfile('movie_user_test_date.json'):\n",
        "        movie_user = defaultdict(list)\n",
        "        for iter, row in df.iterrows():\n",
        "            movie_user[row[3].year].append([row[0], row[1], row[2]])\n",
        "        my_json = json.dumps(movie_user)\n",
        "        f = open(\"movie_user_test_date.json\",\"w\")\n",
        "        f.write(my_json)\n",
        "        f.close()\n",
        "    else:\n",
        "        print(\"opening json file\")\n",
        "        with open('movie_user_test_date.json') as json_file:\n",
        "          movie_user = json.load(json_file)\n",
        "    print('movie_user_test_date.json loaded')\n",
        "    return movie_user"
      ]
    },
    {
      "cell_type": "code",
      "execution_count": 16,
      "metadata": {
        "id": "UCAhiUtomiyh"
      },
      "outputs": [],
      "source": [
        "import gc"
      ]
    },
    {
      "cell_type": "code",
      "execution_count": 17,
      "metadata": {
        "id": "CBwqfRPOmdr4",
        "colab": {
          "base_uri": "https://localhost:8080/"
        },
        "outputId": "6f7f0af8-7f38-45ab-952a-1f981732bc55"
      },
      "outputs": [
        {
          "output_type": "stream",
          "name": "stdout",
          "text": [
            "opening json file\n",
            "movie_user_train_date.json loaded\n"
          ]
        },
        {
          "output_type": "execute_result",
          "data": {
            "text/plain": [
              "0"
            ]
          },
          "metadata": {},
          "execution_count": 17
        }
      ],
      "source": [
        "movie_user_train_date = create_movie_user_dict_train_date(train_df)\n",
        "gc.collect()"
      ]
    },
    {
      "cell_type": "code",
      "source": [
        "movie_user_test_date = create_movie_user_dict_test_date(test_df)\n",
        "gc.collect()"
      ],
      "metadata": {
        "colab": {
          "base_uri": "https://localhost:8080/"
        },
        "id": "nK_abBnPrZUp",
        "outputId": "ad4222c3-4a0d-4ea9-eaa6-dc2556948051"
      },
      "execution_count": 18,
      "outputs": [
        {
          "output_type": "stream",
          "name": "stdout",
          "text": [
            "opening json file\n",
            "movie_user_test_date.json loaded\n"
          ]
        },
        {
          "output_type": "execute_result",
          "data": {
            "text/plain": [
              "0"
            ]
          },
          "metadata": {},
          "execution_count": 18
        }
      ]
    },
    {
      "cell_type": "code",
      "source": [
        "class SVDTD1:  \n",
        "    def __init__(self,movie_user,user_movie,movie_user_date,K=30):  \n",
        "        self.movie_user=movie_user \n",
        "        self.user_movie=user_movie\n",
        "        self.movie_user_date=movie_user_date\n",
        "        self.K=K  \n",
        "        self.bi=defaultdict(dict)  \n",
        "        self.bu=defaultdict(dict)\n",
        "        self.qi={}  \n",
        "        self.pu={}  \n",
        "        sum_rating=0\n",
        "        num_rating=0\n",
        "        for key in user_movie.keys():\n",
        "          num_rating+=len(user_movie[key])\n",
        "          for movie_rating in user_movie[key]:\n",
        "            sum_rating+=movie_rating[1]\n",
        "        self.avg=sum_rating/num_rating  \n",
        "        for year in movie_user_date.keys():\n",
        "          for movie_user_rating in  movie_user_date[year]:\n",
        "            self.bi[year].setdefault(movie_user_rating[0],0)\n",
        "            self.bu[year].setdefault(movie_user_rating[1],0)\n",
        "\n",
        "        for user_id in list(user_movie.keys()): \n",
        "            uid=user_id\n",
        "            self.pu.setdefault(uid,np.random.random((self.K,1))/10*np.sqrt(self.K))\n",
        "\n",
        "        for movie_id in list(movie_user.keys()):\n",
        "            iid=movie_id    \n",
        "            self.qi.setdefault(iid,np.random.random((self.K,1))/10*np.sqrt(self.K))  \n",
        "    \n",
        "    def predict(self,uid,iid,year):  #预测评分的函数  \n",
        "        #setdefault的作用是当该用户或者物品未出现过时，新建它的bi,bu,qi,pu，并设置初始值为0  \n",
        "        self.bi[year].setdefault(iid,0)  \n",
        "        self.bu[year].setdefault(uid,0)  \n",
        "        self.qi.setdefault(iid,np.zeros((self.K,1)))  \n",
        "        self.pu.setdefault(uid,np.zeros((self.K,1)))  \n",
        "        rating=self.avg+self.bi[year][iid]+self.bu[year][uid]+np.sum(self.qi[iid]*self.pu[uid]) #预测评分公式  \n",
        "        #由于评分范围在1到5，所以当分数大于5或小于1时，返回5,1.  \n",
        "        if rating>5:  \n",
        "            rating=5  \n",
        "        if rating<1:  \n",
        "            rating=1  \n",
        "        return rating  \n",
        "      \n",
        "    def train(self,movie_user_date,steps=12,gamma=0.04,Lambda=0.15):    #训练函数，step为迭代次数。  \n",
        "        mape_last=10000\n",
        "        for step in range(steps):  \n",
        "            print('step',step+1,'is running')  \n",
        "            \n",
        "            rmse=0.0;mape=0\n",
        "            count1=0\n",
        "            \n",
        "            for year in movie_user_train_date.keys():\n",
        "                random.shuffle(movie_user_date[year]) \n",
        "                for movie_user_rating in movie_user_date[year]:  \n",
        "                  iid=movie_user_rating[0]  \n",
        "                  uid=movie_user_rating[1]  \n",
        "                  rating=movie_user_rating[2]  \n",
        "                  eui=rating-self.predict(uid, iid, year)  \n",
        "                  rmse+=eui**2  \n",
        "                  mape+=abs(eui)/rating\n",
        "                  self.bu[year][uid]+=gamma*(eui-Lambda*self.bu[year][uid])    \n",
        "                  self.bi[year][iid]+=gamma*(eui-Lambda*self.bi[year][iid])  \n",
        "                  tmp=self.qi[iid]  \n",
        "                  self.qi[iid]+=gamma*(eui*self.pu[uid]-Lambda*self.qi[iid])  \n",
        "                  self.pu[uid]+=gamma*(eui*tmp-Lambda*self.pu[uid]) \n",
        "                  count1+=1 \n",
        "            \n",
        "            gamma=0.93*gamma  #gamma以0.93的学习率递减 \n",
        "            mape_avg=mape*100/count1\n",
        "            print('rmse is {0:3f}, mape is {1:3f}'.format(np.sqrt(rmse/count1),mape_avg))\n",
        "            if mape_avg>mape_last:\n",
        "              break\n",
        "            mape_last=mape_avg \n",
        "      \n",
        "    def test(self,movie_user_test_date):   \n",
        "        rmse=0.0;mape=0  \n",
        "        count2=0\n",
        "        rating_a3=[]\n",
        "        prediction_a3=[]\n",
        "        for year in movie_user_test_date.keys(): \n",
        "          for movie_user_rating in movie_user_test_date[year]: \n",
        "            uid=movie_user_rating[1]  \n",
        "            iid=movie_user_rating[0]  \n",
        "            rating=movie_user_rating[2]\n",
        "            rating_a3.append(rating)  \n",
        "            prediction=self.predict(uid, iid, year)\n",
        "            prediction_a3.append(prediction)\n",
        "            eui=rating-prediction  \n",
        "            rmse+=eui**2  \n",
        "            mape+=abs(eui)/rating\n",
        "            count2+=1\n",
        "        print('rmse is {0:3f}, mape is {1:3f}'.format(np.sqrt(rmse/count2),mape*100/count2)) \n",
        "        rating_a3_csv=pd.DataFrame(data=rating_a3)\n",
        "        prediction_a3_csv=pd.DataFrame(data=prediction_a3)\n",
        "        rating_a3_csv.to_csv('rating_a3.csv',encoding='utf-8')\n",
        "        prediction_a3_csv.to_csv('prediction_a3.csv',encoding='utf-8')  \n",
        "\n",
        "if __name__=='__main__':\n",
        "    a3=SVDTD1(movie_user_train,user_movie_train,movie_user_train_date,30)\n",
        "    a3.train(movie_user_train_date)\n",
        "    a3.test(movie_user_test_date)"
      ],
      "metadata": {
        "colab": {
          "base_uri": "https://localhost:8080/"
        },
        "id": "XqgbgVCprayn",
        "outputId": "b75f7d41-3817-49a7-ef6d-c845e8f18d23"
      },
      "execution_count": 19,
      "outputs": [
        {
          "output_type": "stream",
          "name": "stdout",
          "text": [
            "step 1 is running\n",
            "rmse is 0.935802, mape is 28.959304\n",
            "step 2 is running\n",
            "rmse is 0.922735, mape is 28.387573\n",
            "step 3 is running\n",
            "rmse is 0.920513, mape is 28.307305\n",
            "step 4 is running\n",
            "rmse is 0.919065, mape is 28.264250\n",
            "step 5 is running\n",
            "rmse is 0.917856, mape is 28.231168\n",
            "step 6 is running\n",
            "rmse is 0.916824, mape is 28.205417\n",
            "step 7 is running\n",
            "rmse is 0.915871, mape is 28.181537\n",
            "step 8 is running\n",
            "rmse is 0.915010, mape is 28.160661\n",
            "step 9 is running\n",
            "rmse is 0.914199, mape is 28.140781\n",
            "step 10 is running\n",
            "rmse is 0.913459, mape is 28.122280\n",
            "step 11 is running\n",
            "rmse is 0.912774, mape is 28.106020\n",
            "step 12 is running\n",
            "rmse is 0.912143, mape is 28.091645\n",
            "rmse is 1.010134, mape is 30.901185\n"
          ]
        }
      ]
    },
    {
      "cell_type": "code",
      "source": [
        "a3_rmse=1.0101\n",
        "a3_mape=30.901"
      ],
      "metadata": {
        "id": "dk5s9Fz9vZUa"
      },
      "execution_count": 64,
      "outputs": []
    },
    {
      "cell_type": "code",
      "source": [
        "gc.collect()"
      ],
      "metadata": {
        "id": "zJeNdRCLwrvM"
      },
      "execution_count": null,
      "outputs": []
    },
    {
      "cell_type": "code",
      "source": [
        "class SVDTD2:  \n",
        "    def __init__(self,movie_user,user_movie,movie_user_date,K=30):  \n",
        "        self.movie_user=movie_user \n",
        "        self.user_movie=user_movie\n",
        "        self.movie_user_date=movie_user_date\n",
        "        self.K=K  \n",
        "        self.bi=defaultdict(dict)  \n",
        "        self.bu=defaultdict(dict)\n",
        "        self.qi={}  \n",
        "        self.pu=defaultdict(dict)  \n",
        "        sum_rating=0\n",
        "        num_rating=0\n",
        "        for key in user_movie.keys():\n",
        "          num_rating+=len(user_movie[key])\n",
        "          for movie_rating in user_movie[key]:\n",
        "            sum_rating+=movie_rating[1]\n",
        "        self.avg=sum_rating/num_rating  \n",
        "        for year in movie_user_date.keys():\n",
        "          for movie_user_rating in  movie_user_date[year]:\n",
        "            self.bi[year].setdefault(movie_user_rating[0],0)\n",
        "            self.bu[year].setdefault(movie_user_rating[1],0)\n",
        "            self.pu[year].setdefault(movie_user_rating[1],np.random.random((self.K,1))/10*np.sqrt(self.K))\n",
        "\n",
        "        for movie_id in list(movie_user.keys()):\n",
        "            iid=movie_id    \n",
        "            self.qi.setdefault(iid,np.random.random((self.K,1))/10*np.sqrt(self.K))  \n",
        "    \n",
        "    def predict(self,uid,iid,year):  #预测评分的函数  \n",
        "        #setdefault的作用是当该用户或者物品未出现过时，新建它的bi,bu,qi,pu，并设置初始值为0  \n",
        "        self.bi[year].setdefault(iid,0)  \n",
        "        self.bu[year].setdefault(uid,0)  \n",
        "        self.qi.setdefault(iid,np.zeros((self.K,1)))  \n",
        "        self.pu[year].setdefault(uid,np.zeros((self.K,1)))  \n",
        "        rating=self.avg+self.bi[year][iid]+self.bu[year][uid]+np.sum(self.qi[iid]*self.pu[year][uid]) #预测评分公式  \n",
        "        #由于评分范围在1到5，所以当分数大于5或小于1时，返回5,1.  \n",
        "        if rating>5:  \n",
        "            rating=5  \n",
        "        if rating<1:  \n",
        "            rating=1  \n",
        "        return rating  \n",
        "      \n",
        "    def train(self,movie_user_date,steps=20,gamma=0.04,Lambda=0.15):    #训练函数，step为迭代次数。  \n",
        "        mape_last=10000\n",
        "        for step in range(steps):  \n",
        "            print('step',step+1,'is running')  \n",
        "            \n",
        "            rmse=0.0;mape=0\n",
        "            count1=0\n",
        "            \n",
        "            for year in movie_user_train_date.keys():\n",
        "                random.shuffle(movie_user_date[year])\n",
        "                for movie_user_rating in movie_user_date[year]:  \n",
        "                  iid=movie_user_rating[0]  \n",
        "                  uid=movie_user_rating[1]  \n",
        "                  rating=movie_user_rating[2]  \n",
        "                  eui=rating-self.predict(uid, iid, year)  \n",
        "                  rmse+=eui**2  \n",
        "                  mape+=abs(eui)/rating\n",
        "                  self.bu[year][uid]+=gamma*(eui-Lambda*self.bu[year][uid])    \n",
        "                  self.bi[year][iid]+=gamma*(eui-Lambda*self.bi[year][iid])  \n",
        "                  tmp=self.qi[iid]  \n",
        "                  self.qi[iid]+=gamma*(eui*self.pu[year][uid]-Lambda*self.qi[iid])  \n",
        "                  self.pu[year][uid]+=gamma*(eui*tmp-Lambda*self.pu[year][uid]) \n",
        "                  count1+=1 \n",
        "            gamma=0.93*gamma  #gamma以0.93的学习率递减 \n",
        "            print('rmse is {0:3f}, mape is {1:3f}'.format(np.sqrt(rmse/count1),mape*100/count1))\n",
        "            if mape-mape_last>0:\n",
        "              break\n",
        "            mape_last=mape \n",
        "      \n",
        "    def test(self,movie_user_test_date):   \n",
        "        rmse=0.0;mape=0  \n",
        "        count2=0\n",
        "        rating_a4=[]\n",
        "        prediction_a4=[]\n",
        "        for year in movie_user_test_date.keys(): \n",
        "          for movie_user_rating in movie_user_test_date[year]: \n",
        "            uid=movie_user_rating[1]  \n",
        "            iid=movie_user_rating[0]  \n",
        "            rating=movie_user_rating[2]\n",
        "            rating_a4.append(rating)\n",
        "            prediction=self.predict(uid, iid, year)\n",
        "            prediction_a4.append(prediction)\n",
        "            eui=rating-prediction  \n",
        "            rmse+=eui**2  \n",
        "            mape+=abs(eui)/rating\n",
        "            count2+=1\n",
        "        print('rmse is {0:3f}, mape is {1:3f}'.format(np.sqrt(rmse/count2),mape*100/count2))\n",
        "        rating_a4_csv=pd.DataFrame(data=rating_a4)\n",
        "        prediction_a4_csv=pd.DataFrame(data=prediction_a4)\n",
        "        rating_a4_csv.to_csv('rating_a4.csv',encoding='utf-8')\n",
        "        prediction_a4_csv.to_csv('prediction_a4.csv',encoding='utf-8')  \n",
        "\n",
        "if __name__=='__main__':\n",
        "    a4=SVDTD2(movie_user_train,user_movie_train,movie_user_train_date,30)\n",
        "    a4.train(movie_user_train_date)\n",
        "    a4.test(movie_user_test_date)"
      ],
      "metadata": {
        "id": "kuDTM1WbrdrM"
      },
      "execution_count": null,
      "outputs": []
    },
    {
      "cell_type": "markdown",
      "source": [
        "This part was run on another notebook"
      ],
      "metadata": {
        "id": "ch_RfxjpvgLk"
      }
    },
    {
      "cell_type": "code",
      "source": [
        "a4_rmse=1.0003\n",
        "a4_mape=30.555"
      ],
      "metadata": {
        "id": "ZNIhw2OUvfUh"
      },
      "execution_count": 65,
      "outputs": []
    },
    {
      "cell_type": "markdown",
      "metadata": {
        "id": "Yd0ye7O1xrsR"
      },
      "source": [
        "# Result Summary "
      ]
    },
    {
      "cell_type": "code",
      "source": [
        "def get_accuracy(df):\n",
        "  for col in list(df.columns):\n",
        "    zeros = len(df[df[col] == 0])\n",
        "  return zeros"
      ],
      "metadata": {
        "id": "yRvSMOopG0nS"
      },
      "execution_count": null,
      "outputs": []
    },
    {
      "cell_type": "code",
      "execution_count": 74,
      "metadata": {
        "id": "DxsS3JKnxrsS",
        "scrolled": false
      },
      "outputs": [],
      "source": [
        "list_rmse=[b1_rmse,b2_rmse,b3_rmse,a1_rmse,a2_rmse,a3_rmse,a4_rmse]\n",
        "list_mape=[b1_mape,b2_mape,b3_mape,a1_mape,a2_mape,a3_mape,a4_mape]\n",
        "list_model=['b1', 'b2', 'b3', 'a1', 'a2', 'a3', 'a4']"
      ]
    },
    {
      "cell_type": "code",
      "source": [
        "table_result = pd.DataFrame({'rmse': list_rmse,\n",
        "                'mape': list_mape},\n",
        "                  index=list_model)"
      ],
      "metadata": {
        "id": "Cbm0CM9Iwtjt"
      },
      "execution_count": 75,
      "outputs": []
    },
    {
      "cell_type": "code",
      "source": [
        "prediction_b1=pd.read_csv(\"prediction_b1.csv\")\n",
        "rating_b1=pd.read_csv(\"rating_b1.csv\")\n",
        "rating_b1=rating_b1['rating']\n",
        "prediction_b1=round(prediction_b1['0'])"
      ],
      "metadata": {
        "id": "YDlHRwtw3mMM"
      },
      "execution_count": 142,
      "outputs": []
    },
    {
      "cell_type": "code",
      "source": [
        "prediction_b2=pd.read_csv(\"prediction_b2.csv\")\n",
        "rating_b2=pd.read_csv(\"rating_b2.csv\")\n",
        "rating_b2=rating_b2['0']\n",
        "prediction_b2=round(prediction_b2['0'])"
      ],
      "metadata": {
        "id": "TUCzzlFU3nCr"
      },
      "execution_count": 143,
      "outputs": []
    },
    {
      "cell_type": "code",
      "source": [
        "prediction_b3=pd.read_csv(\"prediction_b3.csv\")\n",
        "rating_b3=pd.read_csv(\"rating_b3.csv\")\n",
        "rating_b3=rating_b3['0']\n",
        "prediction_b3=round(prediction_b3['0'])"
      ],
      "metadata": {
        "id": "NIUO4ffe3no8"
      },
      "execution_count": 144,
      "outputs": []
    },
    {
      "cell_type": "code",
      "source": [
        "prediction_a1=pd.read_csv(\"prediction_a1.csv\")\n",
        "rating_a1=pd.read_csv(\"rating_a1.csv\")\n",
        "rating_a1=rating_a1['0']\n",
        "prediction_a1=round(prediction_a1['0'])"
      ],
      "metadata": {
        "id": "4CuRK9jq3oY7"
      },
      "execution_count": 145,
      "outputs": []
    },
    {
      "cell_type": "code",
      "source": [
        "prediction_a2=pd.read_csv(\"prediction_a2.csv\")\n",
        "rating_a2=pd.read_csv(\"rating_a2.csv\")\n",
        "rating_a2=rating_a2['0']\n",
        "prediction_a2=round(prediction_a2['0'])"
      ],
      "metadata": {
        "id": "f-u6EHTd3pBw"
      },
      "execution_count": 146,
      "outputs": []
    },
    {
      "cell_type": "code",
      "source": [
        "prediction_a3=pd.read_csv(\"prediction_a3.csv\")\n",
        "rating_a3=pd.read_csv(\"rating_a3.csv\")\n",
        "rating_a3=rating_a3['0']\n",
        "prediction_a3=round(prediction_a3['0'])"
      ],
      "metadata": {
        "id": "M5xUxutS3snw"
      },
      "execution_count": 147,
      "outputs": []
    },
    {
      "cell_type": "code",
      "source": [
        "prediction_a4=pd.read_csv(\"prediction_a4.csv\")\n",
        "rating_a4=pd.read_csv(\"rating_a4.csv\")\n",
        "rating_a4=rating_a4['0']\n",
        "prediction_a4=round(prediction_a4['0'])"
      ],
      "metadata": {
        "id": "EZECfF_T3tOU"
      },
      "execution_count": 148,
      "outputs": []
    },
    {
      "cell_type": "markdown",
      "source": [
        "# RMSE and MAPE"
      ],
      "metadata": {
        "id": "iUm7Olxwxird"
      }
    },
    {
      "cell_type": "code",
      "source": [
        "table_result"
      ],
      "metadata": {
        "colab": {
          "base_uri": "https://localhost:8080/",
          "height": 269
        },
        "id": "tP8nzWN5xhGf",
        "outputId": "e27ca650-cd8b-408c-a6c1-ce543b4dbd15"
      },
      "execution_count": 76,
      "outputs": [
        {
          "output_type": "execute_result",
          "data": {
            "text/plain": [
              "      rmse    mape\n",
              "b1  1.0764  34.482\n",
              "b2  1.0726  35.021\n",
              "b3  1.0751  35.156\n",
              "a1  0.9991  30.427\n",
              "a2  1.0006  30.468\n",
              "a3  1.0101  30.901\n",
              "a4  1.0003  30.555"
            ],
            "text/html": [
              "\n",
              "  <div id=\"df-a9569c27-36a4-42c9-a884-38f5cb972c62\">\n",
              "    <div class=\"colab-df-container\">\n",
              "      <div>\n",
              "<style scoped>\n",
              "    .dataframe tbody tr th:only-of-type {\n",
              "        vertical-align: middle;\n",
              "    }\n",
              "\n",
              "    .dataframe tbody tr th {\n",
              "        vertical-align: top;\n",
              "    }\n",
              "\n",
              "    .dataframe thead th {\n",
              "        text-align: right;\n",
              "    }\n",
              "</style>\n",
              "<table border=\"1\" class=\"dataframe\">\n",
              "  <thead>\n",
              "    <tr style=\"text-align: right;\">\n",
              "      <th></th>\n",
              "      <th>rmse</th>\n",
              "      <th>mape</th>\n",
              "    </tr>\n",
              "  </thead>\n",
              "  <tbody>\n",
              "    <tr>\n",
              "      <th>b1</th>\n",
              "      <td>1.0764</td>\n",
              "      <td>34.482</td>\n",
              "    </tr>\n",
              "    <tr>\n",
              "      <th>b2</th>\n",
              "      <td>1.0726</td>\n",
              "      <td>35.021</td>\n",
              "    </tr>\n",
              "    <tr>\n",
              "      <th>b3</th>\n",
              "      <td>1.0751</td>\n",
              "      <td>35.156</td>\n",
              "    </tr>\n",
              "    <tr>\n",
              "      <th>a1</th>\n",
              "      <td>0.9991</td>\n",
              "      <td>30.427</td>\n",
              "    </tr>\n",
              "    <tr>\n",
              "      <th>a2</th>\n",
              "      <td>1.0006</td>\n",
              "      <td>30.468</td>\n",
              "    </tr>\n",
              "    <tr>\n",
              "      <th>a3</th>\n",
              "      <td>1.0101</td>\n",
              "      <td>30.901</td>\n",
              "    </tr>\n",
              "    <tr>\n",
              "      <th>a4</th>\n",
              "      <td>1.0003</td>\n",
              "      <td>30.555</td>\n",
              "    </tr>\n",
              "  </tbody>\n",
              "</table>\n",
              "</div>\n",
              "      <button class=\"colab-df-convert\" onclick=\"convertToInteractive('df-a9569c27-36a4-42c9-a884-38f5cb972c62')\"\n",
              "              title=\"Convert this dataframe to an interactive table.\"\n",
              "              style=\"display:none;\">\n",
              "        \n",
              "  <svg xmlns=\"http://www.w3.org/2000/svg\" height=\"24px\"viewBox=\"0 0 24 24\"\n",
              "       width=\"24px\">\n",
              "    <path d=\"M0 0h24v24H0V0z\" fill=\"none\"/>\n",
              "    <path d=\"M18.56 5.44l.94 2.06.94-2.06 2.06-.94-2.06-.94-.94-2.06-.94 2.06-2.06.94zm-11 1L8.5 8.5l.94-2.06 2.06-.94-2.06-.94L8.5 2.5l-.94 2.06-2.06.94zm10 10l.94 2.06.94-2.06 2.06-.94-2.06-.94-.94-2.06-.94 2.06-2.06.94z\"/><path d=\"M17.41 7.96l-1.37-1.37c-.4-.4-.92-.59-1.43-.59-.52 0-1.04.2-1.43.59L10.3 9.45l-7.72 7.72c-.78.78-.78 2.05 0 2.83L4 21.41c.39.39.9.59 1.41.59.51 0 1.02-.2 1.41-.59l7.78-7.78 2.81-2.81c.8-.78.8-2.07 0-2.86zM5.41 20L4 18.59l7.72-7.72 1.47 1.35L5.41 20z\"/>\n",
              "  </svg>\n",
              "      </button>\n",
              "      \n",
              "  <style>\n",
              "    .colab-df-container {\n",
              "      display:flex;\n",
              "      flex-wrap:wrap;\n",
              "      gap: 12px;\n",
              "    }\n",
              "\n",
              "    .colab-df-convert {\n",
              "      background-color: #E8F0FE;\n",
              "      border: none;\n",
              "      border-radius: 50%;\n",
              "      cursor: pointer;\n",
              "      display: none;\n",
              "      fill: #1967D2;\n",
              "      height: 32px;\n",
              "      padding: 0 0 0 0;\n",
              "      width: 32px;\n",
              "    }\n",
              "\n",
              "    .colab-df-convert:hover {\n",
              "      background-color: #E2EBFA;\n",
              "      box-shadow: 0px 1px 2px rgba(60, 64, 67, 0.3), 0px 1px 3px 1px rgba(60, 64, 67, 0.15);\n",
              "      fill: #174EA6;\n",
              "    }\n",
              "\n",
              "    [theme=dark] .colab-df-convert {\n",
              "      background-color: #3B4455;\n",
              "      fill: #D2E3FC;\n",
              "    }\n",
              "\n",
              "    [theme=dark] .colab-df-convert:hover {\n",
              "      background-color: #434B5C;\n",
              "      box-shadow: 0px 1px 3px 1px rgba(0, 0, 0, 0.15);\n",
              "      filter: drop-shadow(0px 1px 2px rgba(0, 0, 0, 0.3));\n",
              "      fill: #FFFFFF;\n",
              "    }\n",
              "  </style>\n",
              "\n",
              "      <script>\n",
              "        const buttonEl =\n",
              "          document.querySelector('#df-a9569c27-36a4-42c9-a884-38f5cb972c62 button.colab-df-convert');\n",
              "        buttonEl.style.display =\n",
              "          google.colab.kernel.accessAllowed ? 'block' : 'none';\n",
              "\n",
              "        async function convertToInteractive(key) {\n",
              "          const element = document.querySelector('#df-a9569c27-36a4-42c9-a884-38f5cb972c62');\n",
              "          const dataTable =\n",
              "            await google.colab.kernel.invokeFunction('convertToInteractive',\n",
              "                                                     [key], {});\n",
              "          if (!dataTable) return;\n",
              "\n",
              "          const docLinkHtml = 'Like what you see? Visit the ' +\n",
              "            '<a target=\"_blank\" href=https://colab.research.google.com/notebooks/data_table.ipynb>data table notebook</a>'\n",
              "            + ' to learn more about interactive tables.';\n",
              "          element.innerHTML = '';\n",
              "          dataTable['output_type'] = 'display_data';\n",
              "          await google.colab.output.renderOutput(dataTable, element);\n",
              "          const docLink = document.createElement('div');\n",
              "          docLink.innerHTML = docLinkHtml;\n",
              "          element.appendChild(docLink);\n",
              "        }\n",
              "      </script>\n",
              "    </div>\n",
              "  </div>\n",
              "  "
            ]
          },
          "metadata": {},
          "execution_count": 76
        }
      ]
    },
    {
      "cell_type": "code",
      "source": [
        "%matplotlib inline"
      ],
      "metadata": {
        "id": "Xz27UkUn1JBb"
      },
      "execution_count": 96,
      "outputs": []
    },
    {
      "cell_type": "code",
      "source": [
        "plt.bar(list_model, list_rmse, color='maroon')\n",
        "plt.title('rmse')\n",
        "plt.legend()\n",
        "plt.show()"
      ],
      "metadata": {
        "colab": {
          "base_uri": "https://localhost:8080/",
          "height": 298
        },
        "id": "Fv7MEgF1xv_M",
        "outputId": "4c05a40e-c611-4f0f-9af3-ad283f56687d"
      },
      "execution_count": 98,
      "outputs": [
        {
          "output_type": "stream",
          "name": "stderr",
          "text": [
            "WARNING:matplotlib.legend:No handles with labels found to put in legend.\n"
          ]
        },
        {
          "output_type": "display_data",
          "data": {
            "text/plain": [
              "<Figure size 432x288 with 1 Axes>"
            ],
            "image/png": "[encoded data removed]"
          },
          "metadata": {
            "needs_background": "light"
          }
        }
      ]
    },
    {
      "cell_type": "code",
      "source": [
        "plt.bar(list_model, list_mape, color='maroon')\n",
        "plt.title('rmse')\n",
        "plt.legend()\n",
        "plt.show()"
      ],
      "metadata": {
        "colab": {
          "base_uri": "https://localhost:8080/",
          "height": 298
        },
        "id": "DnH9TtBF1Qd5",
        "outputId": "c25a7b49-5281-49d3-e786-d695c8f0f3c4"
      },
      "execution_count": 99,
      "outputs": [
        {
          "output_type": "stream",
          "name": "stderr",
          "text": [
            "WARNING:matplotlib.legend:No handles with labels found to put in legend.\n"
          ]
        },
        {
          "output_type": "display_data",
          "data": {
            "text/plain": [
              "<Figure size 432x288 with 1 Axes>"
            ],
            "image/png": "[encoded data removed]"
          },
          "metadata": {
            "needs_background": "light"
          }
        }
      ]
    },
    {
      "cell_type": "code",
      "source": [
        "from sklearn import metrics"
      ],
      "metadata": {
        "id": "VQ1BotlT0WxQ"
      },
      "execution_count": 100,
      "outputs": []
    },
    {
      "cell_type": "code",
      "source": [
        "fpr_b1, tpr_b1, _ = metrics.roc_curve(rating_b1, prediction_b1, pos_label = 1)\n",
        "fpr_b2, tpr_b2, _ = metrics.roc_curve(rating_b2, prediction_b2, pos_label = 1)\n",
        "fpr_b3, tpr_b3, _ = metrics.roc_curve(rating_b3, prediction_b3, pos_label = 1)\n",
        "fpr_a1, tpr_a1, _ = metrics.roc_curve(rating_a1, prediction_a1, pos_label = 1)\n",
        "fpr_a2, tpr_a2, _ = metrics.roc_curve(rating_a2, prediction_a2, pos_label = 1)\n",
        "fpr_a3, tpr_a3, _ = metrics.roc_curve(rating_a3, prediction_a3, pos_label = 1)\n",
        "fpr_a4, tpr_a4, _ = metrics.roc_curve(rating_a4, prediction_a4, pos_label = 1)"
      ],
      "metadata": {
        "id": "diNwgubD2Vf3"
      },
      "execution_count": 149,
      "outputs": []
    },
    {
      "cell_type": "code",
      "source": [
        "plt.plot(fpr_b1,tpr_b1, label = 'b1')\n",
        "plt.plot(fpr_b2,tpr_b2, label = 'b2')\n",
        "plt.plot(fpr_b3,tpr_b3, label = 'b3')\n",
        "plt.plot(fpr_a1,tpr_a1, label = 'a1')\n",
        "plt.plot(fpr_a2,tpr_a2, label = 'a2')\n",
        "plt.plot(fpr_a3,tpr_a3, label = 'a3')\n",
        "plt.plot(fpr_a4,tpr_a4, label = 'a4')\n",
        "plt.ylabel('True Positive Rate')\n",
        "plt.xlabel('False Positive Rate')\n",
        "plt.legend(loc=0)\n",
        "plt.show()"
      ],
      "metadata": {
        "colab": {
          "base_uri": "https://localhost:8080/",
          "height": 279
        },
        "id": "rtdPM94a2ufA",
        "outputId": "f6ed4367-c304-4f0b-e7a4-a1886a81abfc"
      },
      "execution_count": 150,
      "outputs": [
        {
          "output_type": "display_data",
          "data": {
            "text/plain": [
              "<Figure size 432x288 with 1 Axes>"
            ],
            "image/png": "[encoded data removed]"
          },
          "metadata": {
            "needs_background": "light"
          }
        }
      ]
    },
    {
      "cell_type": "markdown",
      "source": [
        "Comparing RMSE and MAPE, A1 is the best the model, and b3 is the worst model. Comparing ROC curve, among the baseline model, b3 is the best model. And among the implemented model, a3 is the best model, a4 is the worst model. In summary, a3 is the best model for having lower MAPE and RMSE than the baseline model and having greater accuracy than other implemented model. \n",
        "\n",
        "The reason that implemented model is not working well as the baseline model in ROC curve is because not enough training time, even though they already took 12 hours on average. Since the netflix dataset is a very large dataset, it requires more training time to get a more accurate result, all my implemented models did not converged when I stopped them. But implemented model do get better results on RMSE and MAPE when we add bias, implicit feedback and temporal dynamics. Another problem is the new user in testing set. I just assign a new pu and qi to the new user and only use bi from previous training, this might confuse the model and do not get ideal result. All in all, the result did not reach my expectation, my take away from this project is the implementation of those algorithms.\n"
      ],
      "metadata": {
        "id": "bSLom8H08P6T"
      }
    }
  ],
  "metadata": {
    "colab": {
      "collapsed_sections": [],
      "machine_shape": "hm",
      "provenance": []
    },
    "gpuClass": "premium",
    "kernelspec": {
      "display_name": "Python 3",
      "language": "python",
      "name": "python3"
    },
    "language_info": {
      "codemirror_mode": {
        "name": "ipython",
        "version": 3
      },
      "file_extension": ".py",
      "mimetype": "text/x-python",
      "name": "python",
      "nbconvert_exporter": "python",
      "pygments_lexer": "ipython3",
      "version": "3.6.8"
    }
  },
  "nbformat": 4,
  "nbformat_minor": 0
}